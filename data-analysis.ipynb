{
  "cells": [
    {
      "cell_type": "markdown",
      "metadata": {
        "id": "EJTS6dJH4fGM"
      },
      "source": [
        "### Data pre-processing steps"
      ]
    },
    {
      "cell_type": "code",
      "execution_count": 18,
      "metadata": {
        "id": "0dNl6PWoMClk"
      },
      "outputs": [],
      "source": [
        "# Code from this link:\n",
        "# https://github.com/CornellNLP/ConvoKit/blob/master/datasets/winning-args-corpus/stats.ipynb\n",
        "\n",
        "try:\n",
        "  import convokit\n",
        "except ModuleNotFoundError:\n",
        "  !pip install convokit\n",
        "import os\n",
        "import convokit\n",
        "from convokit import Corpus, PolitenessStrategies, download\n",
        "import timeit\n",
        "import re\n",
        "from numpy import mean\n",
        "from scipy import stats\n",
        "import numpy as np\n",
        "import random\n",
        "from sklearn.linear_model import LogisticRegression\n",
        "from sklearn.neural_network import MLPClassifier\n",
        "from sklearn.model_selection import train_test_split, GridSearchCV, RandomizedSearchCV, RepeatedKFold\n",
        "from sklearn.metrics import precision_recall_fscore_support\n",
        "import math\n",
        "import pickle\n",
        "import matplotlib.pyplot as plt\n",
        "from google.colab import files\n"
      ]
    },
    {
      "cell_type": "code",
      "execution_count": 2,
      "metadata": {
        "id": "hichvGogM53z",
        "colab": {
          "base_uri": "https://localhost:8080/"
        },
        "outputId": "d892fa5e-f6c1-454f-cc37-d1b65d7b7865"
      },
      "outputs": [
        {
          "output_type": "stream",
          "name": "stdout",
          "text": [
            "Downloading winning-args-corpus to /root/.convokit/downloads/winning-args-corpus\n",
            "Downloading winning-args-corpus from http://zissou.infosci.cornell.edu/convokit/datasets/winning-args-corpus/winning-args-corpus.zip (73.7MB)... Done\n",
            "\u001b[91mWARNING: \u001b[0mUtterance text must be a string: text of utterance with ID: t1_cnhre1n has been casted to a string.\n",
            "\u001b[91mWARNING: \u001b[0mUtterance text must be a string: text of utterance with ID: t1_cnhs1jf has been casted to a string.\n",
            "\u001b[91mWARNING: \u001b[0mUtterance text must be a string: text of utterance with ID: t1_cn7mmnt has been casted to a string.\n",
            "\u001b[91mWARNING: \u001b[0mUtterance text must be a string: text of utterance with ID: t1_cn66mck has been casted to a string.\n",
            "\u001b[91mWARNING: \u001b[0mUtterance text must be a string: text of utterance with ID: t1_cmt6w97 has been casted to a string.\n",
            "\u001b[91mWARNING: \u001b[0mUtterance text must be a string: text of utterance with ID: t1_cmsgxzm has been casted to a string.\n",
            "\u001b[91mWARNING: \u001b[0mUtterance text must be a string: text of utterance with ID: t1_cmsitjr has been casted to a string.\n",
            "\u001b[91mWARNING: \u001b[0mUtterance text must be a string: text of utterance with ID: t1_cmqqd49 has been casted to a string.\n",
            "\u001b[91mWARNING: \u001b[0mUtterance text must be a string: text of utterance with ID: t1_cmqsp80 has been casted to a string.\n",
            "\u001b[91mWARNING: \u001b[0mUtterance text must be a string: text of utterance with ID: t1_cmr57l3 has been casted to a string.\n",
            "\u001b[91mWARNING: \u001b[0mUtterance text must be a string: text of utterance with ID: t1_cmihu76 has been casted to a string.\n",
            "\u001b[91mWARNING: \u001b[0mUtterance text must be a string: text of utterance with ID: t1_cm85qp1 has been casted to a string.\n",
            "\u001b[91mWARNING: \u001b[0mUtterance text must be a string: text of utterance with ID: t1_cm6tktt has been casted to a string.\n",
            "\u001b[91mWARNING: \u001b[0mUtterance text must be a string: text of utterance with ID: t1_clz6jxt has been casted to a string.\n",
            "\u001b[91mWARNING: \u001b[0mUtterance text must be a string: text of utterance with ID: t1_cm09icp has been casted to a string.\n",
            "\u001b[91mWARNING: \u001b[0mUtterance text must be a string: text of utterance with ID: t1_cly0oho has been casted to a string.\n",
            "\u001b[91mWARNING: \u001b[0mUtterance text must be a string: text of utterance with ID: t1_cly8wzq has been casted to a string.\n",
            "\u001b[91mWARNING: \u001b[0mUtterance text must be a string: text of utterance with ID: t1_clxpe30 has been casted to a string.\n",
            "\u001b[91mWARNING: \u001b[0mUtterance text must be a string: text of utterance with ID: t1_clv6oas has been casted to a string.\n",
            "\u001b[91mWARNING: \u001b[0mUtterance text must be a string: text of utterance with ID: t1_cls8zr2 has been casted to a string.\n",
            "\u001b[91mWARNING: \u001b[0mUtterance text must be a string: text of utterance with ID: t1_clj3tcp has been casted to a string.\n",
            "\u001b[91mWARNING: \u001b[0mUtterance text must be a string: text of utterance with ID: t1_clhtmr0 has been casted to a string.\n",
            "\u001b[91mWARNING: \u001b[0mUtterance text must be a string: text of utterance with ID: t1_cler134 has been casted to a string.\n",
            "\u001b[91mWARNING: \u001b[0mUtterance text must be a string: text of utterance with ID: t1_claiask has been casted to a string.\n",
            "\u001b[91mWARNING: \u001b[0mUtterance text must be a string: text of utterance with ID: t1_cl96qxj has been casted to a string.\n",
            "\u001b[91mWARNING: \u001b[0mUtterance text must be a string: text of utterance with ID: t1_cl92hgd has been casted to a string.\n",
            "\u001b[91mWARNING: \u001b[0mUtterance text must be a string: text of utterance with ID: t1_cl92jdc has been casted to a string.\n",
            "\u001b[91mWARNING: \u001b[0mUtterance text must be a string: text of utterance with ID: t1_cl7lil7 has been casted to a string.\n",
            "\u001b[91mWARNING: \u001b[0mUtterance text must be a string: text of utterance with ID: t1_claaeq7 has been casted to a string.\n",
            "\u001b[91mWARNING: \u001b[0mUtterance text must be a string: text of utterance with ID: t1_cl6xkrl has been casted to a string.\n",
            "\u001b[91mWARNING: \u001b[0mUtterance text must be a string: text of utterance with ID: t1_cl6yu6h has been casted to a string.\n",
            "\u001b[91mWARNING: \u001b[0mUtterance text must be a string: text of utterance with ID: t1_cl6ywwj has been casted to a string.\n",
            "\u001b[91mWARNING: \u001b[0mUtterance text must be a string: text of utterance with ID: t1_cl6yxf2 has been casted to a string.\n",
            "\u001b[91mWARNING: \u001b[0mUtterance text must be a string: text of utterance with ID: t1_cl6u197 has been casted to a string.\n",
            "\u001b[91mWARNING: \u001b[0mUtterance text must be a string: text of utterance with ID: t1_cl65sus has been casted to a string.\n",
            "\u001b[91mWARNING: \u001b[0mUtterance text must be a string: text of utterance with ID: t1_cl67wux has been casted to a string.\n",
            "\u001b[91mWARNING: \u001b[0mUtterance text must be a string: text of utterance with ID: t1_cl5n0e5 has been casted to a string.\n",
            "\u001b[91mWARNING: \u001b[0mUtterance text must be a string: text of utterance with ID: t1_cl55jtf has been casted to a string.\n",
            "\u001b[91mWARNING: \u001b[0mUtterance text must be a string: text of utterance with ID: t1_cl53psw has been casted to a string.\n",
            "\u001b[91mWARNING: \u001b[0mUtterance text must be a string: text of utterance with ID: t1_cl54hde has been casted to a string.\n",
            "\u001b[91mWARNING: \u001b[0mUtterance text must be a string: text of utterance with ID: t1_cl5490t has been casted to a string.\n",
            "\u001b[91mWARNING: \u001b[0mUtterance text must be a string: text of utterance with ID: t1_cl38tmp has been casted to a string.\n",
            "\u001b[91mWARNING: \u001b[0mUtterance text must be a string: text of utterance with ID: t1_cl2rq86 has been casted to a string.\n",
            "\u001b[91mWARNING: \u001b[0mUtterance text must be a string: text of utterance with ID: t1_ckujlyq has been casted to a string.\n",
            "\u001b[91mWARNING: \u001b[0mUtterance text must be a string: text of utterance with ID: t1_ckujdib has been casted to a string.\n",
            "\u001b[91mWARNING: \u001b[0mUtterance text must be a string: text of utterance with ID: t1_cklsm40 has been casted to a string.\n",
            "\u001b[91mWARNING: \u001b[0mUtterance text must be a string: text of utterance with ID: t1_ckmghf2 has been casted to a string.\n",
            "\u001b[91mWARNING: \u001b[0mUtterance text must be a string: text of utterance with ID: t1_cknmezc has been casted to a string.\n",
            "\u001b[91mWARNING: \u001b[0mUtterance text must be a string: text of utterance with ID: t1_ckj2g0i has been casted to a string.\n",
            "\u001b[91mWARNING: \u001b[0mUtterance text must be a string: text of utterance with ID: t1_ck8j9e4 has been casted to a string.\n",
            "\u001b[91mWARNING: \u001b[0mUtterance text must be a string: text of utterance with ID: t1_ck8cwb6 has been casted to a string.\n",
            "\u001b[91mWARNING: \u001b[0mUtterance text must be a string: text of utterance with ID: t1_cjxlz5l has been casted to a string.\n",
            "\u001b[91mWARNING: \u001b[0mUtterance text must be a string: text of utterance with ID: t1_cjntq7s has been casted to a string.\n",
            "\u001b[91mWARNING: \u001b[0mUtterance text must be a string: text of utterance with ID: t1_cjnp5hy has been casted to a string.\n",
            "\u001b[91mWARNING: \u001b[0mUtterance text must be a string: text of utterance with ID: t1_cjiqn1e has been casted to a string.\n",
            "\u001b[91mWARNING: \u001b[0mUtterance text must be a string: text of utterance with ID: t1_cjh7hr0 has been casted to a string.\n",
            "\u001b[91mWARNING: \u001b[0mUtterance text must be a string: text of utterance with ID: t1_cjh6yab has been casted to a string.\n",
            "\u001b[91mWARNING: \u001b[0mUtterance text must be a string: text of utterance with ID: t1_cjcd62j has been casted to a string.\n",
            "\u001b[91mWARNING: \u001b[0mUtterance text must be a string: text of utterance with ID: t1_cj8l1kv has been casted to a string.\n",
            "\u001b[91mWARNING: \u001b[0mUtterance text must be a string: text of utterance with ID: t1_cj8zjae has been casted to a string.\n",
            "\u001b[91mWARNING: \u001b[0mUtterance text must be a string: text of utterance with ID: t1_cj7yiy4 has been casted to a string.\n",
            "\u001b[91mWARNING: \u001b[0mUtterance text must be a string: text of utterance with ID: t1_cj7o50t has been casted to a string.\n",
            "\u001b[91mWARNING: \u001b[0mUtterance text must be a string: text of utterance with ID: t1_cj50shk has been casted to a string.\n",
            "\u001b[91mWARNING: \u001b[0mUtterance text must be a string: text of utterance with ID: t1_cizh6xb has been casted to a string.\n",
            "\u001b[91mWARNING: \u001b[0mUtterance text must be a string: text of utterance with ID: t1_cj0ukb7 has been casted to a string.\n",
            "\u001b[91mWARNING: \u001b[0mUtterance text must be a string: text of utterance with ID: t1_ciz9aka has been casted to a string.\n",
            "\u001b[91mWARNING: \u001b[0mUtterance text must be a string: text of utterance with ID: t1_cize32v has been casted to a string.\n",
            "\u001b[91mWARNING: \u001b[0mUtterance text must be a string: text of utterance with ID: t1_civr4mn has been casted to a string.\n",
            "\u001b[91mWARNING: \u001b[0mUtterance text must be a string: text of utterance with ID: t1_cip166t has been casted to a string.\n",
            "\u001b[91mWARNING: \u001b[0mUtterance text must be a string: text of utterance with ID: t1_cil3zav has been casted to a string.\n",
            "\u001b[91mWARNING: \u001b[0mUtterance text must be a string: text of utterance with ID: t1_cijy9lk has been casted to a string.\n",
            "\u001b[91mWARNING: \u001b[0mUtterance text must be a string: text of utterance with ID: t1_cijcups has been casted to a string.\n",
            "\u001b[91mWARNING: \u001b[0mUtterance text must be a string: text of utterance with ID: t1_cifu4zp has been casted to a string.\n",
            "\u001b[91mWARNING: \u001b[0mUtterance text must be a string: text of utterance with ID: t1_cid30or has been casted to a string.\n",
            "\u001b[91mWARNING: \u001b[0mUtterance text must be a string: text of utterance with ID: t1_ci8wo4e has been casted to a string.\n",
            "\u001b[91mWARNING: \u001b[0mUtterance text must be a string: text of utterance with ID: t1_ci9fbtw has been casted to a string.\n",
            "\u001b[91mWARNING: \u001b[0mUtterance text must be a string: text of utterance with ID: t1_ci2pixf has been casted to a string.\n",
            "\u001b[91mWARNING: \u001b[0mUtterance text must be a string: text of utterance with ID: t1_ci2pcku has been casted to a string.\n",
            "\u001b[91mWARNING: \u001b[0mUtterance text must be a string: text of utterance with ID: t1_ci2cc99 has been casted to a string.\n",
            "\u001b[91mWARNING: \u001b[0mUtterance text must be a string: text of utterance with ID: t1_chz0gqi has been casted to a string.\n",
            "\u001b[91mWARNING: \u001b[0mUtterance text must be a string: text of utterance with ID: t1_chw609b has been casted to a string.\n",
            "\u001b[91mWARNING: \u001b[0mUtterance text must be a string: text of utterance with ID: t1_chv6j3s has been casted to a string.\n",
            "\u001b[91mWARNING: \u001b[0mUtterance text must be a string: text of utterance with ID: t1_chv26as has been casted to a string.\n",
            "\u001b[91mWARNING: \u001b[0mUtterance text must be a string: text of utterance with ID: t1_churmo0 has been casted to a string.\n",
            "\u001b[91mWARNING: \u001b[0mUtterance text must be a string: text of utterance with ID: t1_chswmlq has been casted to a string.\n",
            "\u001b[91mWARNING: \u001b[0mUtterance text must be a string: text of utterance with ID: t1_chsxa75 has been casted to a string.\n",
            "\u001b[91mWARNING: \u001b[0mUtterance text must be a string: text of utterance with ID: t1_chnlrqw has been casted to a string.\n",
            "\u001b[91mWARNING: \u001b[0mUtterance text must be a string: text of utterance with ID: t1_chl8bsy has been casted to a string.\n",
            "\u001b[91mWARNING: \u001b[0mUtterance text must be a string: text of utterance with ID: t1_chiw401 has been casted to a string.\n",
            "\u001b[91mWARNING: \u001b[0mUtterance text must be a string: text of utterance with ID: t1_chihwy1 has been casted to a string.\n",
            "\u001b[91mWARNING: \u001b[0mUtterance text must be a string: text of utterance with ID: t1_chh0sby has been casted to a string.\n",
            "\u001b[91mWARNING: \u001b[0mUtterance text must be a string: text of utterance with ID: t1_chbrqn7 has been casted to a string.\n",
            "\u001b[91mWARNING: \u001b[0mUtterance text must be a string: text of utterance with ID: t1_ch7rh7p has been casted to a string.\n",
            "\u001b[91mWARNING: \u001b[0mUtterance text must be a string: text of utterance with ID: t1_ch6watf has been casted to a string.\n",
            "\u001b[91mWARNING: \u001b[0mUtterance text must be a string: text of utterance with ID: t1_ch6ssui has been casted to a string.\n",
            "\u001b[91mWARNING: \u001b[0mUtterance text must be a string: text of utterance with ID: t1_ch61v2p has been casted to a string.\n",
            "\u001b[91mWARNING: \u001b[0mUtterance text must be a string: text of utterance with ID: t1_ch3ng8c has been casted to a string.\n",
            "\u001b[91mWARNING: \u001b[0mUtterance text must be a string: text of utterance with ID: t1_cgrm70r has been casted to a string.\n",
            "\u001b[91mWARNING: \u001b[0mUtterance text must be a string: text of utterance with ID: t1_cgrz99m has been casted to a string.\n",
            "\u001b[91mWARNING: \u001b[0mUtterance text must be a string: text of utterance with ID: t1_cgsegx6 has been casted to a string.\n",
            "\u001b[91mWARNING: \u001b[0mUtterance text must be a string: text of utterance with ID: t1_cgnj6j9 has been casted to a string.\n",
            "\u001b[91mWARNING: \u001b[0mUtterance text must be a string: text of utterance with ID: t1_ch073vt has been casted to a string.\n",
            "\u001b[91mWARNING: \u001b[0mUtterance text must be a string: text of utterance with ID: t1_cgkn5ae has been casted to a string.\n",
            "\u001b[91mWARNING: \u001b[0mUtterance text must be a string: text of utterance with ID: t1_cgiihu5 has been casted to a string.\n",
            "\u001b[91mWARNING: \u001b[0mUtterance text must be a string: text of utterance with ID: t1_cgieyuu has been casted to a string.\n",
            "\u001b[91mWARNING: \u001b[0mUtterance text must be a string: text of utterance with ID: t1_cgig23g has been casted to a string.\n",
            "\u001b[91mWARNING: \u001b[0mUtterance text must be a string: text of utterance with ID: t1_cgie34t has been casted to a string.\n",
            "\u001b[91mWARNING: \u001b[0mUtterance text must be a string: text of utterance with ID: t1_cgh4ifl has been casted to a string.\n",
            "\u001b[91mWARNING: \u001b[0mUtterance text must be a string: text of utterance with ID: t1_cggr63w has been casted to a string.\n",
            "\u001b[91mWARNING: \u001b[0mUtterance text must be a string: text of utterance with ID: t1_cggd3v7 has been casted to a string.\n",
            "\u001b[91mWARNING: \u001b[0mUtterance text must be a string: text of utterance with ID: t1_cggutk5 has been casted to a string.\n",
            "\u001b[91mWARNING: \u001b[0mUtterance text must be a string: text of utterance with ID: t1_cgeiql6 has been casted to a string.\n",
            "\u001b[91mWARNING: \u001b[0mUtterance text must be a string: text of utterance with ID: t1_cgej6dy has been casted to a string.\n",
            "\u001b[91mWARNING: \u001b[0mUtterance text must be a string: text of utterance with ID: t1_cge3th4 has been casted to a string.\n",
            "\u001b[91mWARNING: \u001b[0mUtterance text must be a string: text of utterance with ID: t1_cgedp3m has been casted to a string.\n",
            "\u001b[91mWARNING: \u001b[0mUtterance text must be a string: text of utterance with ID: t1_cg8kgbj has been casted to a string.\n",
            "\u001b[91mWARNING: \u001b[0mUtterance text must be a string: text of utterance with ID: t1_cfwc45l has been casted to a string.\n",
            "\u001b[91mWARNING: \u001b[0mUtterance text must be a string: text of utterance with ID: t1_cfv3enu has been casted to a string.\n",
            "\u001b[91mWARNING: \u001b[0mUtterance text must be a string: text of utterance with ID: t1_cfpx424 has been casted to a string.\n",
            "\u001b[91mWARNING: \u001b[0mUtterance text must be a string: text of utterance with ID: t1_cfl78p1 has been casted to a string.\n",
            "\u001b[91mWARNING: \u001b[0mUtterance text must be a string: text of utterance with ID: t1_cfilsz7 has been casted to a string.\n",
            "\u001b[91mWARNING: \u001b[0mUtterance text must be a string: text of utterance with ID: t1_cfj8wvg has been casted to a string.\n",
            "\u001b[91mWARNING: \u001b[0mUtterance text must be a string: text of utterance with ID: t1_cffznn5 has been casted to a string.\n",
            "\u001b[91mWARNING: \u001b[0mUtterance text must be a string: text of utterance with ID: t1_cffo8l7 has been casted to a string.\n",
            "\u001b[91mWARNING: \u001b[0mUtterance text must be a string: text of utterance with ID: t1_cfdq2z7 has been casted to a string.\n",
            "\u001b[91mWARNING: \u001b[0mUtterance text must be a string: text of utterance with ID: t1_cfc9c4b has been casted to a string.\n",
            "\u001b[91mWARNING: \u001b[0mUtterance text must be a string: text of utterance with ID: t1_cfcrvtf has been casted to a string.\n",
            "\u001b[91mWARNING: \u001b[0mUtterance text must be a string: text of utterance with ID: t1_cfbxgor has been casted to a string.\n",
            "\u001b[91mWARNING: \u001b[0mUtterance text must be a string: text of utterance with ID: t1_cfb4q61 has been casted to a string.\n",
            "\u001b[91mWARNING: \u001b[0mUtterance text must be a string: text of utterance with ID: t1_cfb5l7x has been casted to a string.\n",
            "\u001b[91mWARNING: \u001b[0mUtterance text must be a string: text of utterance with ID: t1_cf99z8w has been casted to a string.\n",
            "\u001b[91mWARNING: \u001b[0mUtterance text must be a string: text of utterance with ID: t1_cf2h04o has been casted to a string.\n",
            "\u001b[91mWARNING: \u001b[0mUtterance text must be a string: text of utterance with ID: t1_ceptv5v has been casted to a string.\n",
            "\u001b[91mWARNING: \u001b[0mUtterance text must be a string: text of utterance with ID: t1_ceo2hjj has been casted to a string.\n",
            "\u001b[91mWARNING: \u001b[0mUtterance text must be a string: text of utterance with ID: t1_ceorou4 has been casted to a string.\n",
            "\u001b[91mWARNING: \u001b[0mUtterance text must be a string: text of utterance with ID: t1_cenyp1x has been casted to a string.\n",
            "\u001b[91mWARNING: \u001b[0mUtterance text must be a string: text of utterance with ID: t1_cemye2y has been casted to a string.\n",
            "\u001b[91mWARNING: \u001b[0mUtterance text must be a string: text of utterance with ID: t1_celsimn has been casted to a string.\n",
            "\u001b[91mWARNING: \u001b[0mUtterance text must be a string: text of utterance with ID: t1_ceehosv has been casted to a string.\n",
            "\u001b[91mWARNING: \u001b[0mUtterance text must be a string: text of utterance with ID: t1_cebrznc has been casted to a string.\n",
            "\u001b[91mWARNING: \u001b[0mUtterance text must be a string: text of utterance with ID: t1_ceconce has been casted to a string.\n",
            "\u001b[91mWARNING: \u001b[0mUtterance text must be a string: text of utterance with ID: t1_cebnxzk has been casted to a string.\n",
            "\u001b[91mWARNING: \u001b[0mUtterance text must be a string: text of utterance with ID: t1_cebd6e3 has been casted to a string.\n",
            "\u001b[91mWARNING: \u001b[0mUtterance text must be a string: text of utterance with ID: t1_cec3nwt has been casted to a string.\n",
            "\u001b[91mWARNING: \u001b[0mUtterance text must be a string: text of utterance with ID: t1_chv7nyk has been casted to a string.\n",
            "\u001b[91mWARNING: \u001b[0mUtterance text must be a string: text of utterance with ID: t1_cedktpa has been casted to a string.\n",
            "\u001b[91mWARNING: \u001b[0mUtterance text must be a string: text of utterance with ID: t1_ce9dob3 has been casted to a string.\n",
            "\u001b[91mWARNING: \u001b[0mUtterance text must be a string: text of utterance with ID: t1_ce5q8tj has been casted to a string.\n",
            "\u001b[91mWARNING: \u001b[0mUtterance text must be a string: text of utterance with ID: t1_ce4gt8u has been casted to a string.\n",
            "\u001b[91mWARNING: \u001b[0mUtterance text must be a string: text of utterance with ID: t1_ce0p904 has been casted to a string.\n",
            "\u001b[91mWARNING: \u001b[0mUtterance text must be a string: text of utterance with ID: t1_cdosehh has been casted to a string.\n",
            "\u001b[91mWARNING: \u001b[0mUtterance text must be a string: text of utterance with ID: t1_cdiarjx has been casted to a string.\n",
            "\u001b[91mWARNING: \u001b[0mUtterance text must be a string: text of utterance with ID: t1_cda83lr has been casted to a string.\n",
            "\u001b[91mWARNING: \u001b[0mUtterance text must be a string: text of utterance with ID: t1_cd759lq has been casted to a string.\n",
            "\u001b[91mWARNING: \u001b[0mUtterance text must be a string: text of utterance with ID: t1_cd4pzb7 has been casted to a string.\n",
            "\u001b[91mWARNING: \u001b[0mUtterance text must be a string: text of utterance with ID: t1_cd4p7s1 has been casted to a string.\n",
            "\u001b[91mWARNING: \u001b[0mUtterance text must be a string: text of utterance with ID: t1_cd4zoy7 has been casted to a string.\n",
            "\u001b[91mWARNING: \u001b[0mUtterance text must be a string: text of utterance with ID: t1_cdn4qk9 has been casted to a string.\n",
            "\u001b[91mWARNING: \u001b[0mUtterance text must be a string: text of utterance with ID: t1_ccue3mg has been casted to a string.\n",
            "\u001b[91mWARNING: \u001b[0mUtterance text must be a string: text of utterance with ID: t1_ccphf6t has been casted to a string.\n",
            "\u001b[91mWARNING: \u001b[0mUtterance text must be a string: text of utterance with ID: t1_ccphsld has been casted to a string.\n",
            "\u001b[91mWARNING: \u001b[0mUtterance text must be a string: text of utterance with ID: t1_ccmc12f has been casted to a string.\n",
            "\u001b[91mWARNING: \u001b[0mUtterance text must be a string: text of utterance with ID: t1_ccjdtdf has been casted to a string.\n",
            "\u001b[91mWARNING: \u001b[0mUtterance text must be a string: text of utterance with ID: t1_cciu2c8 has been casted to a string.\n",
            "\u001b[91mWARNING: \u001b[0mUtterance text must be a string: text of utterance with ID: t1_ccizwjs has been casted to a string.\n",
            "\u001b[91mWARNING: \u001b[0mUtterance text must be a string: text of utterance with ID: t1_ccivs3y has been casted to a string.\n",
            "\u001b[91mWARNING: \u001b[0mUtterance text must be a string: text of utterance with ID: t1_ccj0iqr has been casted to a string.\n",
            "\u001b[91mWARNING: \u001b[0mUtterance text must be a string: text of utterance with ID: t1_cciupg2 has been casted to a string.\n",
            "\u001b[91mWARNING: \u001b[0mUtterance text must be a string: text of utterance with ID: t1_cch8ibq has been casted to a string.\n",
            "\u001b[91mWARNING: \u001b[0mUtterance text must be a string: text of utterance with ID: t1_ccgulma has been casted to a string.\n",
            "\u001b[91mWARNING: \u001b[0mUtterance text must be a string: text of utterance with ID: t1_ccgulwv has been casted to a string.\n",
            "\u001b[91mWARNING: \u001b[0mUtterance text must be a string: text of utterance with ID: t1_ccgnj8i has been casted to a string.\n",
            "\u001b[91mWARNING: \u001b[0mUtterance text must be a string: text of utterance with ID: t1_cch2tad has been casted to a string.\n",
            "\u001b[91mWARNING: \u001b[0mUtterance text must be a string: text of utterance with ID: t1_cch9i4l has been casted to a string.\n",
            "\u001b[91mWARNING: \u001b[0mUtterance text must be a string: text of utterance with ID: t1_cch9wwe has been casted to a string.\n",
            "\u001b[91mWARNING: \u001b[0mUtterance text must be a string: text of utterance with ID: t1_ccgvmn6 has been casted to a string.\n",
            "\u001b[91mWARNING: \u001b[0mUtterance text must be a string: text of utterance with ID: t1_cce35j0 has been casted to a string.\n",
            "\u001b[91mWARNING: \u001b[0mUtterance text must be a string: text of utterance with ID: t1_ccdamor has been casted to a string.\n",
            "\u001b[91mWARNING: \u001b[0mUtterance text must be a string: text of utterance with ID: t1_cce8w7z has been casted to a string.\n",
            "\u001b[91mWARNING: \u001b[0mUtterance text must be a string: text of utterance with ID: t1_cce42qt has been casted to a string.\n",
            "\u001b[91mWARNING: \u001b[0mUtterance text must be a string: text of utterance with ID: t1_cc9x38t has been casted to a string.\n",
            "\u001b[91mWARNING: \u001b[0mUtterance text must be a string: text of utterance with ID: t1_cc302nb has been casted to a string.\n",
            "\u001b[91mWARNING: \u001b[0mUtterance text must be a string: text of utterance with ID: t1_cbyfuze has been casted to a string.\n",
            "\u001b[91mWARNING: \u001b[0mUtterance text must be a string: text of utterance with ID: t1_cbvq8lh has been casted to a string.\n",
            "\u001b[91mWARNING: \u001b[0mUtterance text must be a string: text of utterance with ID: t1_cbrec2x has been casted to a string.\n",
            "\u001b[91mWARNING: \u001b[0mUtterance text must be a string: text of utterance with ID: t1_cbrmg6l has been casted to a string.\n",
            "\u001b[91mWARNING: \u001b[0mUtterance text must be a string: text of utterance with ID: t1_cbq8ij7 has been casted to a string.\n",
            "\u001b[91mWARNING: \u001b[0mUtterance text must be a string: text of utterance with ID: t1_cbp1a4b has been casted to a string.\n",
            "\u001b[91mWARNING: \u001b[0mUtterance text must be a string: text of utterance with ID: t1_cboztg2 has been casted to a string.\n",
            "\u001b[91mWARNING: \u001b[0mUtterance text must be a string: text of utterance with ID: t1_cbou2b5 has been casted to a string.\n",
            "\u001b[91mWARNING: \u001b[0mUtterance text must be a string: text of utterance with ID: t1_cbpau3m has been casted to a string.\n",
            "\u001b[91mWARNING: \u001b[0mUtterance text must be a string: text of utterance with ID: t1_cbokj1o has been casted to a string.\n",
            "\u001b[91mWARNING: \u001b[0mUtterance text must be a string: text of utterance with ID: t1_cboz1er has been casted to a string.\n",
            "\u001b[91mWARNING: \u001b[0mUtterance text must be a string: text of utterance with ID: t1_cbmr775 has been casted to a string.\n",
            "\u001b[91mWARNING: \u001b[0mUtterance text must be a string: text of utterance with ID: t1_cblsags has been casted to a string.\n",
            "\u001b[91mWARNING: \u001b[0mUtterance text must be a string: text of utterance with ID: t1_cbqpqwi has been casted to a string.\n",
            "\u001b[91mWARNING: \u001b[0mUtterance text must be a string: text of utterance with ID: t1_cb9lo66 has been casted to a string.\n",
            "\u001b[91mWARNING: \u001b[0mUtterance text must be a string: text of utterance with ID: t1_cb9lrsq has been casted to a string.\n",
            "\u001b[91mWARNING: \u001b[0mUtterance text must be a string: text of utterance with ID: t1_cb9zx65 has been casted to a string.\n",
            "\u001b[91mWARNING: \u001b[0mUtterance text must be a string: text of utterance with ID: t1_cb8beut has been casted to a string.\n",
            "\u001b[91mWARNING: \u001b[0mUtterance text must be a string: text of utterance with ID: t1_cb7zk0m has been casted to a string.\n",
            "\u001b[91mWARNING: \u001b[0mUtterance text must be a string: text of utterance with ID: t1_cb6c4sq has been casted to a string.\n",
            "\u001b[91mWARNING: \u001b[0mUtterance text must be a string: text of utterance with ID: t1_cb33ath has been casted to a string.\n",
            "\u001b[91mWARNING: \u001b[0mUtterance text must be a string: text of utterance with ID: t1_cb1kfhi has been casted to a string.\n",
            "\u001b[91mWARNING: \u001b[0mUtterance text must be a string: text of utterance with ID: t1_cb0ahbi has been casted to a string.\n",
            "\u001b[91mWARNING: \u001b[0mUtterance text must be a string: text of utterance with ID: t1_cb0bzr4 has been casted to a string.\n",
            "\u001b[91mWARNING: \u001b[0mUtterance text must be a string: text of utterance with ID: t1_cawc0b9 has been casted to a string.\n",
            "\u001b[91mWARNING: \u001b[0mUtterance text must be a string: text of utterance with ID: t1_cawjc4y has been casted to a string.\n",
            "\u001b[91mWARNING: \u001b[0mUtterance text must be a string: text of utterance with ID: t1_caxt2vf has been casted to a string.\n",
            "\u001b[91mWARNING: \u001b[0mUtterance text must be a string: text of utterance with ID: t1_caukmyp has been casted to a string.\n",
            "\u001b[91mWARNING: \u001b[0mUtterance text must be a string: text of utterance with ID: t1_caurnnc has been casted to a string.\n",
            "\u001b[91mWARNING: \u001b[0mUtterance text must be a string: text of utterance with ID: t1_cavlgpq has been casted to a string.\n",
            "\u001b[91mWARNING: \u001b[0mUtterance text must be a string: text of utterance with ID: t1_caulblj has been casted to a string.\n",
            "\u001b[91mWARNING: \u001b[0mUtterance text must be a string: text of utterance with ID: t1_cauridr has been casted to a string.\n",
            "\u001b[91mWARNING: \u001b[0mUtterance text must be a string: text of utterance with ID: t1_casyucd has been casted to a string.\n",
            "\u001b[91mWARNING: \u001b[0mUtterance text must be a string: text of utterance with ID: t1_catl342 has been casted to a string.\n",
            "\u001b[91mWARNING: \u001b[0mUtterance text must be a string: text of utterance with ID: t1_camzwda has been casted to a string.\n",
            "\u001b[91mWARNING: \u001b[0mUtterance text must be a string: text of utterance with ID: t1_camssul has been casted to a string.\n",
            "\u001b[91mWARNING: \u001b[0mUtterance text must be a string: text of utterance with ID: t1_can6u3l has been casted to a string.\n",
            "\u001b[91mWARNING: \u001b[0mUtterance text must be a string: text of utterance with ID: t1_calik3u has been casted to a string.\n",
            "\u001b[91mWARNING: \u001b[0mUtterance text must be a string: text of utterance with ID: t1_caljueg has been casted to a string.\n",
            "\u001b[91mWARNING: \u001b[0mUtterance text must be a string: text of utterance with ID: t1_cajb0py has been casted to a string.\n",
            "\u001b[91mWARNING: \u001b[0mUtterance text must be a string: text of utterance with ID: t1_cajbvqf has been casted to a string.\n",
            "\u001b[91mWARNING: \u001b[0mUtterance text must be a string: text of utterance with ID: t1_caajlk6 has been casted to a string.\n",
            "\u001b[91mWARNING: \u001b[0mUtterance text must be a string: text of utterance with ID: t1_caachmu has been casted to a string.\n",
            "\u001b[91mWARNING: \u001b[0mUtterance text must be a string: text of utterance with ID: t1_cabc5l7 has been casted to a string.\n",
            "\u001b[91mWARNING: \u001b[0mUtterance text must be a string: text of utterance with ID: t1_c9xkwd1 has been casted to a string.\n",
            "\u001b[91mWARNING: \u001b[0mUtterance text must be a string: text of utterance with ID: t1_c9za8qk has been casted to a string.\n",
            "\u001b[91mWARNING: \u001b[0mUtterance text must be a string: text of utterance with ID: t1_c9x7xos has been casted to a string.\n",
            "\u001b[91mWARNING: \u001b[0mUtterance text must be a string: text of utterance with ID: t1_c9zr42i has been casted to a string.\n",
            "\u001b[91mWARNING: \u001b[0mUtterance text must be a string: text of utterance with ID: t1_c9tlmhq has been casted to a string.\n",
            "\u001b[91mWARNING: \u001b[0mUtterance text must be a string: text of utterance with ID: t1_c9r6a05 has been casted to a string.\n",
            "\u001b[91mWARNING: \u001b[0mUtterance text must be a string: text of utterance with ID: t1_ca0tpgp has been casted to a string.\n",
            "\u001b[91mWARNING: \u001b[0mUtterance text must be a string: text of utterance with ID: t1_c9r7py2 has been casted to a string.\n",
            "\u001b[91mWARNING: \u001b[0mUtterance text must be a string: text of utterance with ID: t1_c9rnobm has been casted to a string.\n",
            "\u001b[91mWARNING: \u001b[0mUtterance text must be a string: text of utterance with ID: t1_c9rp0so has been casted to a string.\n",
            "\u001b[91mWARNING: \u001b[0mUtterance text must be a string: text of utterance with ID: t1_c9qubp4 has been casted to a string.\n",
            "\u001b[91mWARNING: \u001b[0mUtterance text must be a string: text of utterance with ID: t1_c9qwaar has been casted to a string.\n",
            "\u001b[91mWARNING: \u001b[0mUtterance text must be a string: text of utterance with ID: t1_c9pfs2o has been casted to a string.\n",
            "\u001b[91mWARNING: \u001b[0mUtterance text must be a string: text of utterance with ID: t1_c9lc68q has been casted to a string.\n",
            "\u001b[91mWARNING: \u001b[0mUtterance text must be a string: text of utterance with ID: t1_c9jlurv has been casted to a string.\n",
            "\u001b[91mWARNING: \u001b[0mUtterance text must be a string: text of utterance with ID: t1_c9hall9 has been casted to a string.\n",
            "\u001b[91mWARNING: \u001b[0mUtterance text must be a string: text of utterance with ID: t1_c9gkb83 has been casted to a string.\n",
            "\u001b[91mWARNING: \u001b[0mUtterance text must be a string: text of utterance with ID: t1_c9bvjlq has been casted to a string.\n",
            "\u001b[91mWARNING: \u001b[0mUtterance text must be a string: text of utterance with ID: t1_c98s9ip has been casted to a string.\n",
            "\u001b[91mWARNING: \u001b[0mUtterance text must be a string: text of utterance with ID: t1_c98o57y has been casted to a string.\n",
            "\u001b[91mWARNING: \u001b[0mUtterance text must be a string: text of utterance with ID: t1_c99ahf3 has been casted to a string.\n",
            "\u001b[91mWARNING: \u001b[0mUtterance text must be a string: text of utterance with ID: t1_c990rx6 has been casted to a string.\n",
            "\u001b[91mWARNING: \u001b[0mUtterance text must be a string: text of utterance with ID: t1_c97eoi9 has been casted to a string.\n",
            "\u001b[91mWARNING: \u001b[0mUtterance text must be a string: text of utterance with ID: t1_c97acob has been casted to a string.\n",
            "\u001b[91mWARNING: \u001b[0mUtterance text must be a string: text of utterance with ID: t1_c97ah5c has been casted to a string.\n",
            "\u001b[91mWARNING: \u001b[0mUtterance text must be a string: text of utterance with ID: t1_c95q7s3 has been casted to a string.\n",
            "\u001b[91mWARNING: \u001b[0mUtterance text must be a string: text of utterance with ID: t1_c95kdch has been casted to a string.\n",
            "\u001b[91mWARNING: \u001b[0mUtterance text must be a string: text of utterance with ID: t1_c95l9ml has been casted to a string.\n",
            "\u001b[91mWARNING: \u001b[0mUtterance text must be a string: text of utterance with ID: t1_cqzqi7q has been casted to a string.\n",
            "\u001b[91mWARNING: \u001b[0mUtterance text must be a string: text of utterance with ID: t1_cqzmedm has been casted to a string.\n",
            "\u001b[91mWARNING: \u001b[0mUtterance text must be a string: text of utterance with ID: t1_cr13cnd has been casted to a string.\n",
            "\u001b[91mWARNING: \u001b[0mUtterance text must be a string: text of utterance with ID: t1_cqzr1lp has been casted to a string.\n",
            "\u001b[91mWARNING: \u001b[0mUtterance text must be a string: text of utterance with ID: t1_cqyom18 has been casted to a string.\n",
            "\u001b[91mWARNING: \u001b[0mUtterance text must be a string: text of utterance with ID: t1_cqybmxe has been casted to a string.\n",
            "\u001b[91mWARNING: \u001b[0mUtterance text must be a string: text of utterance with ID: t1_cqy7ahu has been casted to a string.\n",
            "\u001b[91mWARNING: \u001b[0mUtterance text must be a string: text of utterance with ID: t1_cqybfct has been casted to a string.\n",
            "\u001b[91mWARNING: \u001b[0mUtterance text must be a string: text of utterance with ID: t1_cqyuen2 has been casted to a string.\n",
            "\u001b[91mWARNING: \u001b[0mUtterance text must be a string: text of utterance with ID: t1_cqy83y1 has been casted to a string.\n",
            "\u001b[91mWARNING: \u001b[0mUtterance text must be a string: text of utterance with ID: t1_cqxoxi5 has been casted to a string.\n",
            "\u001b[91mWARNING: \u001b[0mUtterance text must be a string: text of utterance with ID: t1_cqn9nyq has been casted to a string.\n",
            "\u001b[91mWARNING: \u001b[0mUtterance text must be a string: text of utterance with ID: t1_cqnhdk2 has been casted to a string.\n",
            "\u001b[91mWARNING: \u001b[0mUtterance text must be a string: text of utterance with ID: t1_cqn3mch has been casted to a string.\n",
            "\u001b[91mWARNING: \u001b[0mUtterance text must be a string: text of utterance with ID: t1_cqn7pac has been casted to a string.\n",
            "\u001b[91mWARNING: \u001b[0mUtterance text must be a string: text of utterance with ID: t1_cqmw3di has been casted to a string.\n",
            "\u001b[91mWARNING: \u001b[0mUtterance text must be a string: text of utterance with ID: t1_cqf8ryl has been casted to a string.\n",
            "\u001b[91mWARNING: \u001b[0mUtterance text must be a string: text of utterance with ID: t1_cqf8mpf has been casted to a string.\n",
            "\u001b[91mWARNING: \u001b[0mUtterance text must be a string: text of utterance with ID: t1_cqfb5xa has been casted to a string.\n",
            "\u001b[91mWARNING: \u001b[0mUtterance text must be a string: text of utterance with ID: t1_cqfhjkq has been casted to a string.\n",
            "\u001b[91mWARNING: \u001b[0mUtterance text must be a string: text of utterance with ID: t1_cqgarpy has been casted to a string.\n",
            "\u001b[91mWARNING: \u001b[0mUtterance text must be a string: text of utterance with ID: t1_cqdccrd has been casted to a string.\n",
            "\u001b[91mWARNING: \u001b[0mUtterance text must be a string: text of utterance with ID: t1_cqctlqr has been casted to a string.\n",
            "\u001b[91mWARNING: \u001b[0mUtterance text must be a string: text of utterance with ID: t1_cqcthds has been casted to a string.\n",
            "\u001b[91mWARNING: \u001b[0mUtterance text must be a string: text of utterance with ID: t1_cqkelp2 has been casted to a string.\n",
            "\u001b[91mWARNING: \u001b[0mUtterance text must be a string: text of utterance with ID: t1_cqd8j90 has been casted to a string.\n",
            "\u001b[91mWARNING: \u001b[0mUtterance text must be a string: text of utterance with ID: t1_cqd8a8j has been casted to a string.\n",
            "\u001b[91mWARNING: \u001b[0mUtterance text must be a string: text of utterance with ID: t1_cqcrdrw has been casted to a string.\n",
            "\u001b[91mWARNING: \u001b[0mUtterance text must be a string: text of utterance with ID: t1_cq8xz69 has been casted to a string.\n",
            "\u001b[91mWARNING: \u001b[0mUtterance text must be a string: text of utterance with ID: t1_cq97x51 has been casted to a string.\n",
            "\u001b[91mWARNING: \u001b[0mUtterance text must be a string: text of utterance with ID: t1_cq8zb08 has been casted to a string.\n",
            "\u001b[91mWARNING: \u001b[0mUtterance text must be a string: text of utterance with ID: t1_cq959on has been casted to a string.\n",
            "\u001b[91mWARNING: \u001b[0mUtterance text must be a string: text of utterance with ID: t1_cq9ci0g has been casted to a string.\n",
            "\u001b[91mWARNING: \u001b[0mUtterance text must be a string: text of utterance with ID: t1_cq97u6v has been casted to a string.\n",
            "\u001b[91mWARNING: \u001b[0mUtterance text must be a string: text of utterance with ID: t1_cptu8ww has been casted to a string.\n",
            "\u001b[91mWARNING: \u001b[0mUtterance text must be a string: text of utterance with ID: t1_cpstv77 has been casted to a string.\n",
            "\u001b[91mWARNING: \u001b[0mUtterance text must be a string: text of utterance with ID: t1_cpsxhki has been casted to a string.\n",
            "\u001b[91mWARNING: \u001b[0mUtterance text must be a string: text of utterance with ID: t1_cpswzfn has been casted to a string.\n",
            "\u001b[91mWARNING: \u001b[0mUtterance text must be a string: text of utterance with ID: t1_cpuguvq has been casted to a string.\n",
            "\u001b[91mWARNING: \u001b[0mUtterance text must be a string: text of utterance with ID: t1_cpvfq3o has been casted to a string.\n",
            "\u001b[91mWARNING: \u001b[0mUtterance text must be a string: text of utterance with ID: t1_cptriew has been casted to a string.\n",
            "\u001b[91mWARNING: \u001b[0mUtterance text must be a string: text of utterance with ID: t1_cpsxudr has been casted to a string.\n",
            "\u001b[91mWARNING: \u001b[0mUtterance text must be a string: text of utterance with ID: t1_cpszfeh has been casted to a string.\n",
            "\u001b[91mWARNING: \u001b[0mUtterance text must be a string: text of utterance with ID: t1_cpqft77 has been casted to a string.\n",
            "\u001b[91mWARNING: \u001b[0mUtterance text must be a string: text of utterance with ID: t1_cpqfs0u has been casted to a string.\n",
            "\u001b[91mWARNING: \u001b[0mUtterance text must be a string: text of utterance with ID: t1_cprk62o has been casted to a string.\n",
            "\u001b[91mWARNING: \u001b[0mUtterance text must be a string: text of utterance with ID: t1_cpnulph has been casted to a string.\n",
            "\u001b[91mWARNING: \u001b[0mUtterance text must be a string: text of utterance with ID: t1_cpnn77o has been casted to a string.\n",
            "\u001b[91mWARNING: \u001b[0mUtterance text must be a string: text of utterance with ID: t1_cpnju02 has been casted to a string.\n",
            "\u001b[91mWARNING: \u001b[0mUtterance text must be a string: text of utterance with ID: t1_cpn5p75 has been casted to a string.\n",
            "\u001b[91mWARNING: \u001b[0mUtterance text must be a string: text of utterance with ID: t1_cpni19v has been casted to a string.\n",
            "\u001b[91mWARNING: \u001b[0mUtterance text must be a string: text of utterance with ID: t1_cpo4x6m has been casted to a string.\n",
            "\u001b[91mWARNING: \u001b[0mUtterance text must be a string: text of utterance with ID: t1_cpbijg5 has been casted to a string.\n",
            "\u001b[91mWARNING: \u001b[0mUtterance text must be a string: text of utterance with ID: t1_cpbfv95 has been casted to a string.\n",
            "\u001b[91mWARNING: \u001b[0mUtterance text must be a string: text of utterance with ID: t1_coz6meu has been casted to a string.\n",
            "\u001b[91mWARNING: \u001b[0mUtterance text must be a string: text of utterance with ID: t1_coz24er has been casted to a string.\n",
            "\u001b[91mWARNING: \u001b[0mUtterance text must be a string: text of utterance with ID: t1_coz3omg has been casted to a string.\n",
            "\u001b[91mWARNING: \u001b[0mUtterance text must be a string: text of utterance with ID: t1_copv0tz has been casted to a string.\n",
            "\u001b[91mWARNING: \u001b[0mUtterance text must be a string: text of utterance with ID: t1_cor1wk2 has been casted to a string.\n",
            "\u001b[91mWARNING: \u001b[0mUtterance text must be a string: text of utterance with ID: t1_coq0wpg has been casted to a string.\n",
            "\u001b[91mWARNING: \u001b[0mUtterance text must be a string: text of utterance with ID: t1_coqe7nl has been casted to a string.\n",
            "\u001b[91mWARNING: \u001b[0mUtterance text must be a string: text of utterance with ID: t1_cokywqo has been casted to a string.\n",
            "\u001b[91mWARNING: \u001b[0mUtterance text must be a string: text of utterance with ID: t1_cokwcae has been casted to a string.\n",
            "\u001b[91mWARNING: \u001b[0mUtterance text must be a string: text of utterance with ID: t1_cokx8ik has been casted to a string.\n",
            "\u001b[91mWARNING: \u001b[0mUtterance text must be a string: text of utterance with ID: t1_cokyzdf has been casted to a string.\n",
            "\u001b[91mWARNING: \u001b[0mUtterance text must be a string: text of utterance with ID: t1_col2sjk has been casted to a string.\n",
            "\u001b[91mWARNING: \u001b[0mUtterance text must be a string: text of utterance with ID: t1_cokxscn has been casted to a string.\n",
            "\u001b[91mWARNING: \u001b[0mUtterance text must be a string: text of utterance with ID: t1_cojw16m has been casted to a string.\n",
            "\u001b[91mWARNING: \u001b[0mUtterance text must be a string: text of utterance with ID: t1_coezsna has been casted to a string.\n",
            "\u001b[91mWARNING: \u001b[0mUtterance text must be a string: text of utterance with ID: t1_cof1lb9 has been casted to a string.\n",
            "\u001b[91mWARNING: \u001b[0mUtterance text must be a string: text of utterance with ID: t1_cohpfyt has been casted to a string.\n",
            "\u001b[91mWARNING: \u001b[0mUtterance text must be a string: text of utterance with ID: t1_cof4o1h has been casted to a string.\n",
            "\u001b[91mWARNING: \u001b[0mUtterance text must be a string: text of utterance with ID: t1_coeyzd4 has been casted to a string.\n",
            "\u001b[91mWARNING: \u001b[0mUtterance text must be a string: text of utterance with ID: t1_coai23q has been casted to a string.\n",
            "\u001b[91mWARNING: \u001b[0mUtterance text must be a string: text of utterance with ID: t1_coa8l6z has been casted to a string.\n",
            "\u001b[91mWARNING: \u001b[0mUtterance text must be a string: text of utterance with ID: t1_coa80dz has been casted to a string.\n",
            "\u001b[91mWARNING: \u001b[0mUtterance text must be a string: text of utterance with ID: t1_coa8l84 has been casted to a string.\n",
            "\u001b[91mWARNING: \u001b[0mUtterance text must be a string: text of utterance with ID: t1_co68zqm has been casted to a string.\n",
            "\u001b[91mWARNING: \u001b[0mUtterance text must be a string: text of utterance with ID: t1_co6a4yb has been casted to a string.\n",
            "\u001b[91mWARNING: \u001b[0mUtterance text must be a string: text of utterance with ID: t1_co6ef8m has been casted to a string.\n",
            "\u001b[91mWARNING: \u001b[0mUtterance text must be a string: text of utterance with ID: t1_co6ba44 has been casted to a string.\n",
            "\u001b[91mWARNING: \u001b[0mUtterance text must be a string: text of utterance with ID: t1_co6rpqr has been casted to a string.\n",
            "\u001b[91mWARNING: \u001b[0mUtterance text must be a string: text of utterance with ID: t1_co69x71 has been casted to a string.\n",
            "\u001b[91mWARNING: \u001b[0mUtterance text must be a string: text of utterance with ID: t1_co6a13x has been casted to a string.\n",
            "\u001b[91mWARNING: \u001b[0mUtterance text must be a string: text of utterance with ID: t1_cnq3mwr has been casted to a string.\n",
            "\u001b[91mWARNING: \u001b[0mUtterance text must be a string: text of utterance with ID: t1_cnq4ycs has been casted to a string.\n",
            "\u001b[91mWARNING: \u001b[0mUtterance text must be a string: text of utterance with ID: t1_cnqs4bp has been casted to a string.\n",
            "\u001b[91mWARNING: \u001b[0mUtterance text must be a string: text of utterance with ID: t1_cunpy0j has been casted to a string.\n",
            "\u001b[91mWARNING: \u001b[0mUtterance text must be a string: text of utterance with ID: t1_cuior6e has been casted to a string.\n",
            "\u001b[91mWARNING: \u001b[0mUtterance text must be a string: text of utterance with ID: t1_cufvp2u has been casted to a string.\n",
            "\u001b[91mWARNING: \u001b[0mUtterance text must be a string: text of utterance with ID: t1_cu7mdqo has been casted to a string.\n",
            "\u001b[91mWARNING: \u001b[0mUtterance text must be a string: text of utterance with ID: t1_cu7xcz4 has been casted to a string.\n",
            "\u001b[91mWARNING: \u001b[0mUtterance text must be a string: text of utterance with ID: t1_cu5cv9a has been casted to a string.\n",
            "\u001b[91mWARNING: \u001b[0mUtterance text must be a string: text of utterance with ID: t1_cu3h1wa has been casted to a string.\n",
            "\u001b[91mWARNING: \u001b[0mUtterance text must be a string: text of utterance with ID: t1_cu272pa has been casted to a string.\n",
            "\u001b[91mWARNING: \u001b[0mUtterance text must be a string: text of utterance with ID: t1_cu0qopb has been casted to a string.\n",
            "\u001b[91mWARNING: \u001b[0mUtterance text must be a string: text of utterance with ID: t1_ctzro35 has been casted to a string.\n",
            "\u001b[91mWARNING: \u001b[0mUtterance text must be a string: text of utterance with ID: t1_ctxzpb4 has been casted to a string.\n",
            "\u001b[91mWARNING: \u001b[0mUtterance text must be a string: text of utterance with ID: t1_ctwh70b has been casted to a string.\n",
            "\u001b[91mWARNING: \u001b[0mUtterance text must be a string: text of utterance with ID: t1_ctqswb6 has been casted to a string.\n",
            "\u001b[91mWARNING: \u001b[0mUtterance text must be a string: text of utterance with ID: t1_ctqjqcd has been casted to a string.\n",
            "\u001b[91mWARNING: \u001b[0mUtterance text must be a string: text of utterance with ID: t1_ctoncx7 has been casted to a string.\n",
            "\u001b[91mWARNING: \u001b[0mUtterance text must be a string: text of utterance with ID: t1_ctq5xed has been casted to a string.\n",
            "\u001b[91mWARNING: \u001b[0mUtterance text must be a string: text of utterance with ID: t1_ctjjz2v has been casted to a string.\n",
            "\u001b[91mWARNING: \u001b[0mUtterance text must be a string: text of utterance with ID: t1_cti68mr has been casted to a string.\n",
            "\u001b[91mWARNING: \u001b[0mUtterance text must be a string: text of utterance with ID: t1_ctiqywc has been casted to a string.\n",
            "\u001b[91mWARNING: \u001b[0mUtterance text must be a string: text of utterance with ID: t1_cthu9hx has been casted to a string.\n",
            "\u001b[91mWARNING: \u001b[0mUtterance text must be a string: text of utterance with ID: t1_ctdqpne has been casted to a string.\n",
            "\u001b[91mWARNING: \u001b[0mUtterance text must be a string: text of utterance with ID: t1_ctdkusf has been casted to a string.\n",
            "\u001b[91mWARNING: \u001b[0mUtterance text must be a string: text of utterance with ID: t1_ctdhx1w has been casted to a string.\n",
            "\u001b[91mWARNING: \u001b[0mUtterance text must be a string: text of utterance with ID: t1_ctcfj2v has been casted to a string.\n",
            "\u001b[91mWARNING: \u001b[0mUtterance text must be a string: text of utterance with ID: t1_ct5ul8m has been casted to a string.\n",
            "\u001b[91mWARNING: \u001b[0mUtterance text must be a string: text of utterance with ID: t1_ct5m7v4 has been casted to a string.\n",
            "\u001b[91mWARNING: \u001b[0mUtterance text must be a string: text of utterance with ID: t1_ct4klhi has been casted to a string.\n",
            "\u001b[91mWARNING: \u001b[0mUtterance text must be a string: text of utterance with ID: t1_ct3sgfd has been casted to a string.\n",
            "\u001b[91mWARNING: \u001b[0mUtterance text must be a string: text of utterance with ID: t1_ct5bruu has been casted to a string.\n",
            "\u001b[91mWARNING: \u001b[0mUtterance text must be a string: text of utterance with ID: t1_ct1rmby has been casted to a string.\n",
            "\u001b[91mWARNING: \u001b[0mUtterance text must be a string: text of utterance with ID: t1_cstl2de has been casted to a string.\n",
            "\u001b[91mWARNING: \u001b[0mUtterance text must be a string: text of utterance with ID: t1_cstboz7 has been casted to a string.\n",
            "\u001b[91mWARNING: \u001b[0mUtterance text must be a string: text of utterance with ID: t1_cstbdw5 has been casted to a string.\n",
            "\u001b[91mWARNING: \u001b[0mUtterance text must be a string: text of utterance with ID: t1_ct7dtjh has been casted to a string.\n",
            "\u001b[91mWARNING: \u001b[0mUtterance text must be a string: text of utterance with ID: t1_csk5kbs has been casted to a string.\n",
            "\u001b[91mWARNING: \u001b[0mUtterance text must be a string: text of utterance with ID: t1_ctam9yz has been casted to a string.\n",
            "\u001b[91mWARNING: \u001b[0mUtterance text must be a string: text of utterance with ID: t1_csh3dqw has been casted to a string.\n",
            "\u001b[91mWARNING: \u001b[0mUtterance text must be a string: text of utterance with ID: t1_csislrs has been casted to a string.\n",
            "\u001b[91mWARNING: \u001b[0mUtterance text must be a string: text of utterance with ID: t1_csed3sw has been casted to a string.\n",
            "\u001b[91mWARNING: \u001b[0mUtterance text must be a string: text of utterance with ID: t1_ctalrap has been casted to a string.\n",
            "\u001b[91mWARNING: \u001b[0mUtterance text must be a string: text of utterance with ID: t1_csernqu has been casted to a string.\n",
            "\u001b[91mWARNING: \u001b[0mUtterance text must be a string: text of utterance with ID: t1_csdn1ui has been casted to a string.\n",
            "\u001b[91mWARNING: \u001b[0mUtterance text must be a string: text of utterance with ID: t1_cs8mmtf has been casted to a string.\n",
            "\u001b[91mWARNING: \u001b[0mUtterance text must be a string: text of utterance with ID: t1_cs4re28 has been casted to a string.\n",
            "\u001b[91mWARNING: \u001b[0mUtterance text must be a string: text of utterance with ID: t1_ctb2nf1 has been casted to a string.\n",
            "\u001b[91mWARNING: \u001b[0mUtterance text must be a string: text of utterance with ID: t1_cs1tl9q has been casted to a string.\n",
            "\u001b[91mWARNING: \u001b[0mUtterance text must be a string: text of utterance with ID: t1_crul067 has been casted to a string.\n",
            "\u001b[91mWARNING: \u001b[0mUtterance text must be a string: text of utterance with ID: t1_crusrpd has been casted to a string.\n",
            "\u001b[91mWARNING: \u001b[0mUtterance text must be a string: text of utterance with ID: t1_crjkijn has been casted to a string.\n",
            "\u001b[91mWARNING: \u001b[0mUtterance text must be a string: text of utterance with ID: t1_cre72f1 has been casted to a string.\n",
            "\u001b[91mWARNING: \u001b[0mUtterance text must be a string: text of utterance with ID: t1_creewvt has been casted to a string.\n",
            "\u001b[91mWARNING: \u001b[0mUtterance text must be a string: text of utterance with ID: t1_creh7rb has been casted to a string.\n",
            "\u001b[91mWARNING: \u001b[0mUtterance text must be a string: text of utterance with ID: t1_crctrfy has been casted to a string.\n",
            "\u001b[91mWARNING: \u001b[0mUtterance text must be a string: text of utterance with ID: t1_crbkihy has been casted to a string.\n",
            "\u001b[91mWARNING: \u001b[0mUtterance text must be a string: text of utterance with ID: t1_cra0ei4 has been casted to a string.\n"
          ]
        }
      ],
      "source": [
        "corpus = Corpus(download(\"winning-args-corpus\"))\n",
        "utterance_ids = corpus.get_utterance_ids()"
      ]
    },
    {
      "cell_type": "code",
      "execution_count": 3,
      "metadata": {
        "id": "k8FG4p8pNas3",
        "colab": {
          "base_uri": "https://localhost:8080/"
        },
        "outputId": "b86801ca-6af7-4820-80a7-55c3fd4c00d2"
      },
      "outputs": [
        {
          "output_type": "execute_result",
          "data": {
            "text/plain": [
              "293297"
            ]
          },
          "metadata": {},
          "execution_count": 3
        }
      ],
      "source": [
        "len(utterance_ids)"
      ]
    },
    {
      "cell_type": "code",
      "execution_count": 4,
      "metadata": {
        "id": "Zr7YDnayr7wb",
        "colab": {
          "base_uri": "https://localhost:8080/"
        },
        "outputId": "608dd245-ab2f-451f-a5ee-9c9fdbe4261d"
      },
      "outputs": [
        {
          "output_type": "stream",
          "name": "stdout",
          "text": [
            "number of comments that are part of a successful thread: 12420\n",
            "number of comments that are part of an unsuccessful thread: 7294\n"
          ]
        }
      ],
      "source": [
        "u = 0\n",
        "s = 0\n",
        "for each in utterance_ids:\n",
        "    if corpus.get_utterance(each).meta[\"success\"] == 0:\n",
        "        u = u + 1\n",
        "    if corpus.get_utterance(each).meta[\"success\"] == 1:\n",
        "        s = s + 1\n",
        "print(\"number of comments that are part of a successful thread: \" + str(s))\n",
        "print(\"number of comments that are part of an unsuccessful thread: \" + str(u))"
      ]
    },
    {
      "cell_type": "markdown",
      "metadata": {
        "id": "B0vRQ0t-IBXY"
      },
      "source": [
        "Something important to note: according to documentation provided [here](https://convokit.cornell.edu/documentation/winning.html), there are few fewer comments that are either successful or unsuccessful than the total number of utterances because the vast majority of utterances are comments that have a meta[\"success\"] value of None. The original authors that created the r/changemyview dataset compared successful comments (comments that were awarded deltas) with comments that were similar in nature, but unsuccessful (comments that were not not awarded deltas). These comments were given meta[\"success\"] labels of 1 or 0, respectively. Every other comment that wasn't awarded a delta was given a meta[\"success\"] label of None, because those comments weren't similar enough to successful comments to be meaningfully compared."
      ]
    },
    {
      "cell_type": "code",
      "execution_count": 5,
      "metadata": {
        "id": "DdDmEjz7sGjN",
        "colab": {
          "base_uri": "https://localhost:8080/"
        },
        "outputId": "d7ec6cc8-069d-41ea-faa7-fc83369be81d"
      },
      "outputs": [
        {
          "output_type": "stream",
          "name": "stderr",
          "text": [
            "<ipython-input-5-533eed2793a8>:10: FutureWarning: utterance.root is deprecated and will be removed in a future release. Use utterance.conversation_id instead.\n",
            "<ipython-input-5-533eed2793a8>:14: FutureWarning: utterance.root is deprecated and will be removed in a future release. Use utterance.conversation_id instead.\n",
            "<ipython-input-5-533eed2793a8>:21: FutureWarning: utterance.root is deprecated and will be removed in a future release. Use utterance.conversation_id instead.\n",
            "<ipython-input-5-533eed2793a8>:27: FutureWarning: utterance.root is deprecated and will be removed in a future release. Use utterance.conversation_id instead.\n",
            "<ipython-input-5-533eed2793a8>:34: FutureWarning: utterance.root is deprecated and will be removed in a future release. Use utterance.conversation_id instead.\n",
            "<ipython-input-5-533eed2793a8>:29: FutureWarning: utterance.root is deprecated and will be removed in a future release. Use utterance.conversation_id instead.\n",
            "<ipython-input-5-533eed2793a8>:36: FutureWarning: utterance.root is deprecated and will be removed in a future release. Use utterance.conversation_id instead.\n"
          ]
        }
      ],
      "source": [
        "# we want the original post made by op, the challenger's comments and all of OP's responses to the challengers\n",
        "# these three lists are utterance ids for the original post, challenger comments and op replies respectively\n",
        "\n",
        "opPost = []\n",
        "challengerPos = []\n",
        "challengerNeg = []\n",
        "opReplyPos = []\n",
        "opReplyNeg = []\n",
        "for iD in utterance_ids:\n",
        "    if corpus.get_utterance(iD).id == corpus.get_utterance(iD).root:\n",
        "        opPost.append(iD)\n",
        "    if (\n",
        "        corpus.get_utterance(iD).speaker.id\n",
        "        != corpus.get_utterance(corpus.get_utterance(iD).root).speaker.id\n",
        "        and corpus.get_utterance(iD).meta[\"success\"] == 0\n",
        "    ):\n",
        "        challengerNeg.append(iD)\n",
        "\n",
        "    if (\n",
        "        corpus.get_utterance(iD).speaker.id\n",
        "        != corpus.get_utterance(corpus.get_utterance(iD).root).speaker.id\n",
        "        and corpus.get_utterance(iD).meta[\"success\"] == 1\n",
        "    ):\n",
        "        challengerPos.append(iD)\n",
        "\n",
        "    if (\n",
        "        corpus.get_utterance(iD).id != corpus.get_utterance(iD).root\n",
        "        and corpus.get_utterance(iD).speaker.id\n",
        "        == corpus.get_utterance(corpus.get_utterance(iD).root).speaker.id\n",
        "        and corpus.get_utterance(iD).meta[\"success\"] == 0\n",
        "    ):\n",
        "        opReplyNeg.append(iD)\n",
        "    if (\n",
        "        corpus.get_utterance(iD).id != corpus.get_utterance(iD).root\n",
        "        and corpus.get_utterance(iD).speaker.id\n",
        "        == corpus.get_utterance(corpus.get_utterance(iD).root).speaker.id\n",
        "        and corpus.get_utterance(iD).meta[\"success\"] == 1\n",
        "    ):\n",
        "        opReplyPos.append(iD)\n"
      ]
    },
    {
      "cell_type": "code",
      "execution_count": 6,
      "metadata": {
        "id": "U2hmbSb6v_U0"
      },
      "outputs": [],
      "source": [
        "# collect utterance dict given the subset of ids\n",
        "subset = opPost + challengerPos + challengerNeg + opReplyPos + opReplyNeg\n",
        "utterance_list = []\n",
        "for iD in subset:\n",
        "    utterance_list.append(corpus.get_utterance(iD))"
      ]
    },
    {
      "cell_type": "code",
      "execution_count": 7,
      "metadata": {
        "id": "ZI0ijWDM5SDf",
        "colab": {
          "base_uri": "https://localhost:8080/"
        },
        "outputId": "a5b36bcd-e289-4390-90a3-aa8724cf2b4e"
      },
      "outputs": [
        {
          "output_type": "stream",
          "name": "stdout",
          "text": [
            "Number of Speakers: 6210\n",
            "Number of Utterances: 22765\n",
            "Number of Conversations: 3051\n"
          ]
        }
      ],
      "source": [
        "# this subset separates OP comments and challenger utterances from all other comments in every conversation (thread)\n",
        "corpus = convokit.Corpus(utterances=utterance_list)\n",
        "corpus.print_summary_stats()"
      ]
    },
    {
      "cell_type": "code",
      "execution_count": 8,
      "metadata": {
        "colab": {
          "base_uri": "https://localhost:8080/"
        },
        "id": "PYuBwnXs5V_M",
        "outputId": "ea831185-18f2-4805-9fb3-8b0b9730e1a6"
      },
      "outputs": [
        {
          "output_type": "execute_result",
          "data": {
            "text/plain": [
              "22765"
            ]
          },
          "metadata": {},
          "execution_count": 8
        }
      ],
      "source": [
        "utts = list(corpus.iter_utterances())  # list of all uterrance objects in the corpus\n",
        "len(utts)"
      ]
    },
    {
      "cell_type": "markdown",
      "metadata": {
        "id": "z7TtxuLS43ee"
      },
      "source": [
        "### Get sentiment and emotion of posts and replies"
      ]
    },
    {
      "cell_type": "markdown",
      "metadata": {
        "id": "bNYbHBq9FABK"
      },
      "source": [
        "We use a fine-tuned version of the DistilRoBERTa-base transformer model on Hugging Face to classify the emotion each post and reply from r/changemyview in 7 different categories: anger, disgust, fear, joy, neutral, sadness, and surprise."
      ]
    },
    {
      "cell_type": "code",
      "execution_count": 9,
      "metadata": {
        "id": "g5sSDEQY7HyH",
        "colab": {
          "base_uri": "https://localhost:8080/",
          "height": 815,
          "referenced_widgets": [
            "60f4359f4c4a401bacb61c8fa6b27c34",
            "a4a2dbe6c6fd400683b72c0face1a26c",
            "fcecad0129a0488d8c39b9800eafb2ef",
            "48643886660f4736b241d164f2f6d8fe",
            "6725c3b756b142b393ced60f8912b7c6",
            "c33d53e1a7a14d5696f99124fb29dd0a",
            "a0b66dac5b564e24a4ab8baaca43c489",
            "23800e83eb4c4775aa292d4301014d07",
            "fc251f1e2a6c44f894cf2fbeb4ab8a0b",
            "b4639b17e350460ba8adf9bcebbd3e6e",
            "9d179cef1b2d44e69caeaab2f8a1664d",
            "21d4a2e60a3e4aa49fa1f5b0a8d740e1",
            "aad04316adb14142b8fe7020ab5ec97a",
            "625ee90c9f9840958a19ea2567b8e802",
            "50bce15270e94848838a2414f47ad305",
            "079fa379c4ab447c9bf53d8c0a56633d",
            "ebfea940c57d4564935ad066c1cec94f",
            "a14b602df4084f2fa7171dba2b605e4c",
            "70c72ade92f94dcdac06dc63360fe064",
            "ce131f582e6f4379b501d79ba46dd863",
            "2b322b6f482840e48f7139c529910cea",
            "2642e15b7b0349e69793fec48849618a",
            "8bd83f63e93345408327b76a9e5a3651",
            "31b57662b054421f983fc6c1454b6e83",
            "de659fb1ae3d457bab29b5f034021113",
            "00ffb327c76440118a4818bad11493b1",
            "4d5a5e41c70f4d27a4a3ba7c9027f719",
            "0726effa626441cd8f8aa348b8ad18a3",
            "c0cb6935c2004b5aabdbf19b716fa620",
            "7211d34053b94288ab836cf30b85000b",
            "719e90432ed24e14a01f3617a14dcc39",
            "16ae42a47ad24fa6aaf370cfb0fd51f5",
            "9df800c755d543c9a8f1763029467585",
            "9c853d5bd83d4ef88d7f5944d39039e5",
            "544e108742c34a11b4628b1b1da9e80d",
            "308c11f662394e19acb4d36ad05a909c",
            "53998bfa5835484e87fb755d941ad565",
            "e7cc35e01eda4505805ec67964fb91dd",
            "19873b87ef4a4e65b63b6a5f619a5e70",
            "6166de434f854a4b9f8424c784367c3e",
            "98cd3ae0ccf84a93ae1e041e1092846a",
            "be7a9a037cea4e6fa3b9765d52b20d17",
            "3d5bc836b0fd43fb9e520f5bbbeb69c1",
            "31c521723bfc4db5b222c2f6e480248d",
            "0f95695aaeff4142a7027663fbbef5d7",
            "abc780b5be7d4f019531fea43ef78d57",
            "d1be5ebcf6264310babaa4ec64009d57",
            "71df3486199149bdb3c005cd81c4c171",
            "a89936e166e24725aa8261651ec2330e",
            "bf84d1438f574b86a8ed05ac68f35d1a",
            "25e03b5bbec3463396d2ec227661c4ee",
            "5cb4b55194ed468281de68786dc99827",
            "b23526edefd741539cbb7f1a977540cf",
            "18cc31cd24b44c139563b7435c961af7",
            "7be86f6adad747ccb86110eab6345dc6",
            "a2940efbc9eb499cbb131e9b4ae4af30",
            "a4fc58f1e6a94fb3967d17045899765a",
            "a9d2dbe94bd2403dbb2e929ace9b9f2a",
            "6a992e861f09433b93f62805d017f197",
            "777568db02324fd98f37882d194a6504",
            "b12e669c607d4f60b6efeb80c875fba0",
            "6c8c330c83c041a1bbd4ff1177d1c43e",
            "3f179d457c4c499c83f95244f6db3c99",
            "92dc1f0ae3eb4708b65cca1c8b2a9214",
            "3a422785a59440b4964c173f74996992",
            "37ee70b69f444f93b06f27dde079ab5b",
            "edaa6759bbf74445a8bd5cd0c0d3d406",
            "d1502759a09843cca6c4595a341443d5",
            "8b6a3ea36b8a415aa583d31a4431a5e3",
            "fbf1b01cab0c4693b1e93c6d955327ee",
            "99a1feba41c3429e809483f1b6f7c071",
            "9d0fae838c674a2e8eda5cb2bb444889",
            "78996e4581e447f4b6a228e27d3cec73",
            "ceb18d56dc914d5dafd65251056c4189",
            "7be77873878742b5aed7e35320bf2caa",
            "430ed263ff6748cf90fd9ecb5bc01aeb",
            "9d7933184e8449e2bd3f7e742e0e2fa2"
          ]
        },
        "outputId": "c7366f62-4501-49e9-b1a4-473647a0748f"
      },
      "outputs": [
        {
          "output_type": "stream",
          "name": "stdout",
          "text": [
            "Looking in indexes: https://pypi.org/simple, https://us-python.pkg.dev/colab-wheels/public/simple/\n",
            "Collecting transformers\n",
            "  Downloading transformers-4.30.1-py3-none-any.whl (7.2 MB)\n",
            "\u001b[2K     \u001b[90m━━━━━━━━━━━━━━━━━━━━━━━━━━━━━━━━━━━━━━━━\u001b[0m \u001b[32m7.2/7.2 MB\u001b[0m \u001b[31m40.1 MB/s\u001b[0m eta \u001b[36m0:00:00\u001b[0m\n",
            "\u001b[?25hRequirement already satisfied: filelock in /usr/local/lib/python3.10/dist-packages (from transformers) (3.12.0)\n",
            "Collecting huggingface-hub<1.0,>=0.14.1 (from transformers)\n",
            "  Downloading huggingface_hub-0.15.1-py3-none-any.whl (236 kB)\n",
            "\u001b[2K     \u001b[90m━━━━━━━━━━━━━━━━━━━━━━━━━━━━━━━━━━━━━━\u001b[0m \u001b[32m236.8/236.8 kB\u001b[0m \u001b[31m11.9 MB/s\u001b[0m eta \u001b[36m0:00:00\u001b[0m\n",
            "\u001b[?25hRequirement already satisfied: numpy>=1.17 in /usr/local/lib/python3.10/dist-packages (from transformers) (1.22.4)\n",
            "Requirement already satisfied: packaging>=20.0 in /usr/local/lib/python3.10/dist-packages (from transformers) (23.1)\n",
            "Requirement already satisfied: pyyaml>=5.1 in /usr/local/lib/python3.10/dist-packages (from transformers) (6.0)\n",
            "Requirement already satisfied: regex!=2019.12.17 in /usr/local/lib/python3.10/dist-packages (from transformers) (2022.10.31)\n",
            "Requirement already satisfied: requests in /usr/local/lib/python3.10/dist-packages (from transformers) (2.27.1)\n",
            "Collecting tokenizers!=0.11.3,<0.14,>=0.11.1 (from transformers)\n",
            "  Downloading tokenizers-0.13.3-cp310-cp310-manylinux_2_17_x86_64.manylinux2014_x86_64.whl (7.8 MB)\n",
            "\u001b[2K     \u001b[90m━━━━━━━━━━━━━━━━━━━━━━━━━━━━━━━━━━━━━━━━\u001b[0m \u001b[32m7.8/7.8 MB\u001b[0m \u001b[31m61.4 MB/s\u001b[0m eta \u001b[36m0:00:00\u001b[0m\n",
            "\u001b[?25hCollecting safetensors>=0.3.1 (from transformers)\n",
            "  Downloading safetensors-0.3.1-cp310-cp310-manylinux_2_17_x86_64.manylinux2014_x86_64.whl (1.3 MB)\n",
            "\u001b[2K     \u001b[90m━━━━━━━━━━━━━━━━━━━━━━━━━━━━━━━━━━━━━━━━\u001b[0m \u001b[32m1.3/1.3 MB\u001b[0m \u001b[31m52.3 MB/s\u001b[0m eta \u001b[36m0:00:00\u001b[0m\n",
            "\u001b[?25hRequirement already satisfied: tqdm>=4.27 in /usr/local/lib/python3.10/dist-packages (from transformers) (4.65.0)\n",
            "Requirement already satisfied: fsspec in /usr/local/lib/python3.10/dist-packages (from huggingface-hub<1.0,>=0.14.1->transformers) (2023.4.0)\n",
            "Requirement already satisfied: typing-extensions>=3.7.4.3 in /usr/local/lib/python3.10/dist-packages (from huggingface-hub<1.0,>=0.14.1->transformers) (4.5.0)\n",
            "Requirement already satisfied: urllib3<1.27,>=1.21.1 in /usr/local/lib/python3.10/dist-packages (from requests->transformers) (1.26.15)\n",
            "Requirement already satisfied: certifi>=2017.4.17 in /usr/local/lib/python3.10/dist-packages (from requests->transformers) (2022.12.7)\n",
            "Requirement already satisfied: charset-normalizer~=2.0.0 in /usr/local/lib/python3.10/dist-packages (from requests->transformers) (2.0.12)\n",
            "Requirement already satisfied: idna<4,>=2.5 in /usr/local/lib/python3.10/dist-packages (from requests->transformers) (3.4)\n",
            "Installing collected packages: tokenizers, safetensors, huggingface-hub, transformers\n",
            "Successfully installed huggingface-hub-0.15.1 safetensors-0.3.1 tokenizers-0.13.3 transformers-4.30.1\n"
          ]
        },
        {
          "output_type": "display_data",
          "data": {
            "text/plain": [
              "Downloading (…)lve/main/config.json:   0%|          | 0.00/1.00k [00:00<?, ?B/s]"
            ],
            "application/vnd.jupyter.widget-view+json": {
              "version_major": 2,
              "version_minor": 0,
              "model_id": "60f4359f4c4a401bacb61c8fa6b27c34"
            }
          },
          "metadata": {}
        },
        {
          "output_type": "display_data",
          "data": {
            "text/plain": [
              "Downloading pytorch_model.bin:   0%|          | 0.00/329M [00:00<?, ?B/s]"
            ],
            "application/vnd.jupyter.widget-view+json": {
              "version_major": 2,
              "version_minor": 0,
              "model_id": "21d4a2e60a3e4aa49fa1f5b0a8d740e1"
            }
          },
          "metadata": {}
        },
        {
          "output_type": "display_data",
          "data": {
            "text/plain": [
              "Downloading (…)okenizer_config.json:   0%|          | 0.00/294 [00:00<?, ?B/s]"
            ],
            "application/vnd.jupyter.widget-view+json": {
              "version_major": 2,
              "version_minor": 0,
              "model_id": "8bd83f63e93345408327b76a9e5a3651"
            }
          },
          "metadata": {}
        },
        {
          "output_type": "display_data",
          "data": {
            "text/plain": [
              "Downloading (…)olve/main/vocab.json:   0%|          | 0.00/798k [00:00<?, ?B/s]"
            ],
            "application/vnd.jupyter.widget-view+json": {
              "version_major": 2,
              "version_minor": 0,
              "model_id": "9c853d5bd83d4ef88d7f5944d39039e5"
            }
          },
          "metadata": {}
        },
        {
          "output_type": "display_data",
          "data": {
            "text/plain": [
              "Downloading (…)olve/main/merges.txt:   0%|          | 0.00/456k [00:00<?, ?B/s]"
            ],
            "application/vnd.jupyter.widget-view+json": {
              "version_major": 2,
              "version_minor": 0,
              "model_id": "0f95695aaeff4142a7027663fbbef5d7"
            }
          },
          "metadata": {}
        },
        {
          "output_type": "display_data",
          "data": {
            "text/plain": [
              "Downloading (…)/main/tokenizer.json:   0%|          | 0.00/1.36M [00:00<?, ?B/s]"
            ],
            "application/vnd.jupyter.widget-view+json": {
              "version_major": 2,
              "version_minor": 0,
              "model_id": "a2940efbc9eb499cbb131e9b4ae4af30"
            }
          },
          "metadata": {}
        },
        {
          "output_type": "display_data",
          "data": {
            "text/plain": [
              "Downloading (…)cial_tokens_map.json:   0%|          | 0.00/239 [00:00<?, ?B/s]"
            ],
            "application/vnd.jupyter.widget-view+json": {
              "version_major": 2,
              "version_minor": 0,
              "model_id": "edaa6759bbf74445a8bd5cd0c0d3d406"
            }
          },
          "metadata": {}
        },
        {
          "output_type": "stream",
          "name": "stderr",
          "text": [
            "/usr/local/lib/python3.10/dist-packages/transformers/pipelines/text_classification.py:104: UserWarning: `return_all_scores` is now deprecated,  if want a similar funcionality use `top_k=None` instead of `return_all_scores=True` or `top_k=1` instead of `return_all_scores=False`.\n",
            "Xformers is not installed correctly. If you want to use memory_efficient_attention to accelerate training use the following command to install Xformers\n",
            "pip install xformers.\n"
          ]
        }
      ],
      "source": [
        "# classify the emotions across 7 categories for each post and reply: anger, disgust, fear, joy, neutral, sadness, and surprise\n",
        "try:\n",
        "  import transformers\n",
        "except ModuleNotFoundError:\n",
        "  !pip install transformers\n",
        "from transformers import pipeline\n",
        "# longer texts than 512 tokens are truncated; this is unfortunate, but unavoidable,\n",
        "# as the model cannot handle longer texts\n",
        "emotion_classifier = pipeline(\"text-classification\", model='j-hartmann/emotion-english-distilroberta-base', max_length=512, truncation=True, return_all_scores=True)\n",
        "prediction = emotion_classifier(utts[0].text)"
      ]
    },
    {
      "cell_type": "code",
      "execution_count": 10,
      "metadata": {
        "id": "FakdXII74WbX",
        "colab": {
          "base_uri": "https://localhost:8080/",
          "height": 89
        },
        "outputId": "42367a22-11d6-4db3-efe0-9a33050eacbf"
      },
      "outputs": [
        {
          "output_type": "execute_result",
          "data": {
            "text/plain": [
              "\"My wife has recently gotten deeply involved/obsessed with the healing properties of essential oils.  I am cursed with a common problem in that I am an extremely skeptical person.  I can't help but look at this product and see a pyramid scheme that takes advantage of the gullible.  All the shit my wife watches on these oils is carefully worded to make sure they don't make actual healing claims, I'm told this is because they aren't FDA approved and could get in trouble.  I've looked a little and haven't found anything debunking these oils but i still cannot help but feel they are total BS.  I would love to get more information from unbiased sources on this.  \\n\\nPlease change my view without just anecdotal testimonies. \""
            ],
            "application/vnd.google.colaboratory.intrinsic+json": {
              "type": "string"
            }
          },
          "metadata": {},
          "execution_count": 10
        }
      ],
      "source": [
        "utts[1].text"
      ]
    },
    {
      "cell_type": "code",
      "execution_count": 11,
      "metadata": {
        "id": "U1tDT37V6R7s",
        "colab": {
          "base_uri": "https://localhost:8080/"
        },
        "outputId": "db7c065b-169d-4797-f941-152d5b653ca5"
      },
      "outputs": [
        {
          "output_type": "execute_result",
          "data": {
            "text/plain": [
              "[[{'label': 'anger', 'score': 0.07173146307468414},\n",
              "  {'label': 'disgust', 'score': 0.07884222269058228},\n",
              "  {'label': 'fear', 'score': 0.6088862419128418},\n",
              "  {'label': 'joy', 'score': 0.0038501934614032507},\n",
              "  {'label': 'neutral', 'score': 0.14825265109539032},\n",
              "  {'label': 'sadness', 'score': 0.07804114371538162},\n",
              "  {'label': 'surprise', 'score': 0.010396122932434082}]]"
            ]
          },
          "metadata": {},
          "execution_count": 11
        }
      ],
      "source": [
        "prediction = emotion_classifier(utts[1].text)\n",
        "prediction"
      ]
    },
    {
      "cell_type": "markdown",
      "metadata": {
        "id": "n78E8fIiFYI2"
      },
      "source": [
        "We use a RoBERTa-base transformer model from Hugging Face, trained on ~124 tweets and fine-tuned for sentiment analysis, to classify the sentiment of each post and reply from the r/changemyview dataset. The sentiment can be either positive, neutral, or negative, and a score from 0 to 1 indicating the strenght of the sentiment is also given for each utterance."
      ]
    },
    {
      "cell_type": "code",
      "execution_count": 12,
      "metadata": {
        "id": "xwYnRThV7QU-",
        "colab": {
          "base_uri": "https://localhost:8080/",
          "height": 251,
          "referenced_widgets": [
            "d08ff7f1485f4415b18823519a66ee6e",
            "81f1baa5440547e8814edcd4a595430e",
            "783c9d9d478d42beb92bd858c81da0a8",
            "bb520821f67d4d55b1658cdc5f17f3bb",
            "4d01d0db10dc4a2aa706a7c7a5b0bf66",
            "f2e1df910bc540b18bb475cc86af71bb",
            "bce47517d6f146c4bc23a1a5a638f2d2",
            "47e35588cf7146d8b31e69384db83e33",
            "0791f4b2f56049c88f13b688477d9aef",
            "f3ac9ebf0e0b46f7a942746b500d9d5c",
            "85b7d8ca3ae94de3b5970715ee6f822f",
            "552cbcd92e944196a98b0e3e5f1e3985",
            "645892bd2edd40d28ff5dc66c1723b0d",
            "569f6e232cfb4d068254e13feb31f586",
            "cfd1aadbd14b4e518244fab85ecd51a1",
            "93a91d92e4304399a6e4cc25ea51b04a",
            "45a6240225e64ac1abc18c37cade3188",
            "147431dd307c46549579123fceaef486",
            "53a06f658d7b48afaf34048e95dd3392",
            "deb917ddfc364225ac98ef1029025ec1",
            "cb45748452f94a9e91192317133cbf8f",
            "dcfe13cc41be41f5b8752ff867a79a12",
            "2330518379954ff693d8d2fd53d768f9",
            "6ef4a4f37d6043d09507c431dfbd9eda",
            "3b1bfd54a929461592f94b768ff77d72",
            "936bd9c561314eed9aad38f86331b864",
            "e8a44c64f1204176b9152720f27f264b",
            "ad4a9ac3a14841f896212746fb0a765a",
            "8c5e05aead804c8abbaf803c16969229",
            "8190da95a22f486599d67cfebe20dddd",
            "690074bf38964baf997d8f55dd3f9d5c",
            "8d72ac5a930f43faa797e68f2811ad21",
            "0a2e4a422dda47f58ae34fc70499c333",
            "6710073a5d0b43d1ae0e83a2aca25364",
            "67b4d5d967b54611b9c873e954cd9903",
            "32ac4ef808874a438a7727f8bdb7c030",
            "108e71053ae9461091df1417f843d29b",
            "17dbb33c14724cd7acd1fdfc59ff5131",
            "c1e44886818948b09e31a92fe9aa83d2",
            "9f0d01df435c43f88a45f50c9962e40c",
            "f0023e58d7a643169c0bb350eb733226",
            "3deacbf46b104fe2bc44e19242d1009c",
            "82ab2251a1cb46e586f14d3d13634770",
            "6000831eb5ce4d3e8b212aa083c1b2e1",
            "eb1374b91c804e4d94b96d607f5666fe",
            "9d72d3768dee4de896d8a4bedd55aa0d",
            "4371b9328a314e37851713417c4f02bf",
            "f81e1453d88c4c06b5dc90fd3e244c42",
            "1c405292a1b546f48af1ff6b0cea43f7",
            "938cb86519b24de58e0ef0665450ff2c",
            "e361486f768049ada85d74cb9c5135d4",
            "5d6f1ff565e242958229f0a51d61186b",
            "d66c7440897143c582658e9b7a2ee2db",
            "eac971d0210e488cac78b3e3da3983c6",
            "1301e1d15f57402dbda5f921ce317449"
          ]
        },
        "outputId": "dcb66fa7-858a-48c7-f0cf-f2acb3c4930d"
      },
      "outputs": [
        {
          "output_type": "display_data",
          "data": {
            "text/plain": [
              "Downloading (…)lve/main/config.json:   0%|          | 0.00/929 [00:00<?, ?B/s]"
            ],
            "application/vnd.jupyter.widget-view+json": {
              "version_major": 2,
              "version_minor": 0,
              "model_id": "d08ff7f1485f4415b18823519a66ee6e"
            }
          },
          "metadata": {}
        },
        {
          "output_type": "display_data",
          "data": {
            "text/plain": [
              "Downloading pytorch_model.bin:   0%|          | 0.00/501M [00:00<?, ?B/s]"
            ],
            "application/vnd.jupyter.widget-view+json": {
              "version_major": 2,
              "version_minor": 0,
              "model_id": "552cbcd92e944196a98b0e3e5f1e3985"
            }
          },
          "metadata": {}
        },
        {
          "output_type": "stream",
          "name": "stderr",
          "text": [
            "Some weights of the model checkpoint at cardiffnlp/twitter-roberta-base-sentiment-latest were not used when initializing RobertaForSequenceClassification: ['roberta.pooler.dense.bias', 'roberta.pooler.dense.weight']\n",
            "- This IS expected if you are initializing RobertaForSequenceClassification from the checkpoint of a model trained on another task or with another architecture (e.g. initializing a BertForSequenceClassification model from a BertForPreTraining model).\n",
            "- This IS NOT expected if you are initializing RobertaForSequenceClassification from the checkpoint of a model that you expect to be exactly identical (initializing a BertForSequenceClassification model from a BertForSequenceClassification model).\n"
          ]
        },
        {
          "output_type": "display_data",
          "data": {
            "text/plain": [
              "Downloading (…)olve/main/vocab.json:   0%|          | 0.00/899k [00:00<?, ?B/s]"
            ],
            "application/vnd.jupyter.widget-view+json": {
              "version_major": 2,
              "version_minor": 0,
              "model_id": "2330518379954ff693d8d2fd53d768f9"
            }
          },
          "metadata": {}
        },
        {
          "output_type": "display_data",
          "data": {
            "text/plain": [
              "Downloading (…)olve/main/merges.txt:   0%|          | 0.00/456k [00:00<?, ?B/s]"
            ],
            "application/vnd.jupyter.widget-view+json": {
              "version_major": 2,
              "version_minor": 0,
              "model_id": "6710073a5d0b43d1ae0e83a2aca25364"
            }
          },
          "metadata": {}
        },
        {
          "output_type": "display_data",
          "data": {
            "text/plain": [
              "Downloading (…)cial_tokens_map.json:   0%|          | 0.00/239 [00:00<?, ?B/s]"
            ],
            "application/vnd.jupyter.widget-view+json": {
              "version_major": 2,
              "version_minor": 0,
              "model_id": "eb1374b91c804e4d94b96d607f5666fe"
            }
          },
          "metadata": {}
        }
      ],
      "source": [
        "# classify the sentiment for each post and reply as one of 3 options: positive,\n",
        "# neutral, or negative\n",
        "\n",
        "# longer texts than 512 tokens are truncated; this is unfortunate, but unavoidable,\n",
        "# as the model cannot handle longer texts\n",
        "sentiment_classifier = pipeline(\"sentiment-analysis\", model=\"cardiffnlp/twitter-roberta-base-sentiment-latest\", tokenizer=\"cardiffnlp/twitter-roberta-base-sentiment-latest\", max_length=512, truncation=True)\n"
      ]
    },
    {
      "cell_type": "code",
      "execution_count": 13,
      "metadata": {
        "id": "vafuoOkX8pAD",
        "colab": {
          "base_uri": "https://localhost:8080/"
        },
        "outputId": "ec2c6d45-eaaf-43d9-acab-fd5bb8051092"
      },
      "outputs": [
        {
          "output_type": "execute_result",
          "data": {
            "text/plain": [
              "[{'label': 'negative', 'score': 0.8590196967124939}]"
            ]
          },
          "metadata": {},
          "execution_count": 13
        }
      ],
      "source": [
        "sentiment_classifier(utts[1].text)"
      ]
    },
    {
      "cell_type": "markdown",
      "metadata": {
        "id": "c795MCBn9qB-"
      },
      "source": [
        "### Loop through all the original posts and replies, classifying the emotion and sentiment of each."
      ]
    },
    {
      "cell_type": "code",
      "execution_count": 14,
      "metadata": {
        "id": "qiNj8bz79fB9",
        "colab": {
          "base_uri": "https://localhost:8080/"
        },
        "outputId": "4f1ff72e-6db0-473c-9fdb-27734f86e093"
      },
      "outputs": [
        {
          "output_type": "stream",
          "name": "stdout",
          "text": [
            "3051 11020 8694\n"
          ]
        }
      ],
      "source": [
        "# get all op objects in a list\n",
        "ops = []\n",
        "for opID in opPost:\n",
        "  ops.append(corpus.get_utterance(opID))\n",
        "\n",
        "# get all reply objects in a list\n",
        "replyIDs = challengerPos + challengerNeg\n",
        "replies = []\n",
        "for replyID in replyIDs:\n",
        "  replies.append(corpus.get_utterance(replyID))\n",
        "\n",
        "# get all op replies to replies in a list\n",
        "opReplyIDs = opReplyPos + opReplyNeg\n",
        "op_replies = []\n",
        "for opReplyID in opReplyIDs:\n",
        "  op_replies.append(corpus.get_utterance(opReplyID))\n",
        "\n",
        "print(len(ops), len(replies), len(op_replies))"
      ]
    },
    {
      "cell_type": "markdown",
      "metadata": {
        "id": "eV2CmH-zxSo_"
      },
      "source": [
        "### Initialize dictionaries to store the emotion and sentiment of all the utterances"
      ]
    },
    {
      "cell_type": "code",
      "execution_count": 15,
      "metadata": {
        "id": "1XfPnJpI_Rll"
      },
      "outputs": [],
      "source": [
        "# find the emotion and sentiment of each original post (op), reply, and op reply to the reply\n",
        "# the keys of each of these dictionaries are the utterance ids, and the values are the utterance objects\n",
        "reply_emotions = {}\n",
        "reply_sentiments = {}\n",
        "op_emotions = {}\n",
        "op_sentiments = {}\n",
        "op_reply_emotions = {}\n",
        "op_reply_sentiments = {}"
      ]
    },
    {
      "cell_type": "markdown",
      "metadata": {
        "id": "_LRoW0xajAV2"
      },
      "source": [
        "### Run the three code blocks below if you haven't gotten the sentiment and emotions for the utterances yet; otherwise, skip these"
      ]
    },
    {
      "cell_type": "code",
      "execution_count": null,
      "metadata": {
        "colab": {
          "background_save": true,
          "base_uri": "https://localhost:8080/",
          "height": 213
        },
        "id": "If-TDD15xGa_",
        "outputId": "ef088ff3-03ce-4bb5-a278-f680cbe2aab9"
      },
      "outputs": [
        {
          "name": "stdout",
          "output_type": "stream",
          "text": [
            "1000\n",
            "2000\n"
          ]
        }
      ],
      "source": [
        "i = 0\n",
        "for reply in replies:\n",
        "  i += 1\n",
        "  if i % 1000 == 0:\n",
        "    print(i)\n",
        "  emotions = emotion_classifier(reply.text)\n",
        "  sentiment = sentiment_classifier(reply.text)\n",
        "  reply_emotions[reply.id] = emotions[0]\n",
        "  reply_sentiments[reply.id] = sentiment[0]\n",
        "\n",
        "# save the emotion and sentiment dictionaries to pickle files\n",
        "with open('reply_emotions.pkl', 'wb') as f:\n",
        "  pickle.dump(reply_emotions, f)\n",
        "f.close()\n",
        "with open('reply_sentiments.pkl', 'wb') as f:\n",
        "  pickle.dump(reply_sentiments, f)\n",
        "f.close()\n",
        "\n",
        "#download the pkl files so we don't lose them if google colab crashes\n",
        "files.download('reply_emotions.pkl') \n",
        "files.download('reply_sentiments.pkl')"
      ]
    },
    {
      "cell_type": "code",
      "execution_count": null,
      "metadata": {
        "colab": {
          "base_uri": "https://localhost:8080/",
          "height": 71
        },
        "id": "ySFs-KL0xHWn",
        "outputId": "9dde939e-1025-470e-ef38-9ce5d6a17252"
      },
      "outputs": [
        {
          "name": "stdout",
          "output_type": "stream",
          "text": [
            "1000\n",
            "2000\n",
            "3000\n"
          ]
        },
        {
          "data": {
            "application/javascript": [
              "\n",
              "    async function download(id, filename, size) {\n",
              "      if (!google.colab.kernel.accessAllowed) {\n",
              "        return;\n",
              "      }\n",
              "      const div = document.createElement('div');\n",
              "      const label = document.createElement('label');\n",
              "      label.textContent = `Downloading \"${filename}\": `;\n",
              "      div.appendChild(label);\n",
              "      const progress = document.createElement('progress');\n",
              "      progress.max = size;\n",
              "      div.appendChild(progress);\n",
              "      document.body.appendChild(div);\n",
              "\n",
              "      const buffers = [];\n",
              "      let downloaded = 0;\n",
              "\n",
              "      const channel = await google.colab.kernel.comms.open(id);\n",
              "      // Send a message to notify the kernel that we're ready.\n",
              "      channel.send({})\n",
              "\n",
              "      for await (const message of channel.messages) {\n",
              "        // Send a message to notify the kernel that we're ready.\n",
              "        channel.send({})\n",
              "        if (message.buffers) {\n",
              "          for (const buffer of message.buffers) {\n",
              "            buffers.push(buffer);\n",
              "            downloaded += buffer.byteLength;\n",
              "            progress.value = downloaded;\n",
              "          }\n",
              "        }\n",
              "      }\n",
              "      const blob = new Blob(buffers, {type: 'application/binary'});\n",
              "      const a = document.createElement('a');\n",
              "      a.href = window.URL.createObjectURL(blob);\n",
              "      a.download = filename;\n",
              "      div.appendChild(a);\n",
              "      a.click();\n",
              "      div.remove();\n",
              "    }\n",
              "  "
            ],
            "text/plain": [
              "<IPython.core.display.Javascript object>"
            ]
          },
          "metadata": {},
          "output_type": "display_data"
        },
        {
          "data": {
            "application/javascript": [
              "download(\"download_6ffad2ab-bc33-447f-81d7-40bab5278004\", \"op_emotions.pkl\", 454735)"
            ],
            "text/plain": [
              "<IPython.core.display.Javascript object>"
            ]
          },
          "metadata": {},
          "output_type": "display_data"
        },
        {
          "data": {
            "application/javascript": [
              "\n",
              "    async function download(id, filename, size) {\n",
              "      if (!google.colab.kernel.accessAllowed) {\n",
              "        return;\n",
              "      }\n",
              "      const div = document.createElement('div');\n",
              "      const label = document.createElement('label');\n",
              "      label.textContent = `Downloading \"${filename}\": `;\n",
              "      div.appendChild(label);\n",
              "      const progress = document.createElement('progress');\n",
              "      progress.max = size;\n",
              "      div.appendChild(progress);\n",
              "      document.body.appendChild(div);\n",
              "\n",
              "      const buffers = [];\n",
              "      let downloaded = 0;\n",
              "\n",
              "      const channel = await google.colab.kernel.comms.open(id);\n",
              "      // Send a message to notify the kernel that we're ready.\n",
              "      channel.send({})\n",
              "\n",
              "      for await (const message of channel.messages) {\n",
              "        // Send a message to notify the kernel that we're ready.\n",
              "        channel.send({})\n",
              "        if (message.buffers) {\n",
              "          for (const buffer of message.buffers) {\n",
              "            buffers.push(buffer);\n",
              "            downloaded += buffer.byteLength;\n",
              "            progress.value = downloaded;\n",
              "          }\n",
              "        }\n",
              "      }\n",
              "      const blob = new Blob(buffers, {type: 'application/binary'});\n",
              "      const a = document.createElement('a');\n",
              "      a.href = window.URL.createObjectURL(blob);\n",
              "      a.download = filename;\n",
              "      div.appendChild(a);\n",
              "      a.click();\n",
              "      div.remove();\n",
              "    }\n",
              "  "
            ],
            "text/plain": [
              "<IPython.core.display.Javascript object>"
            ]
          },
          "metadata": {},
          "output_type": "display_data"
        },
        {
          "data": {
            "application/javascript": [
              "download(\"download_d7b6b97e-f3cd-46e4-98c7-a06342568c6b\", \"op_sentiments.pkl\", 94650)"
            ],
            "text/plain": [
              "<IPython.core.display.Javascript object>"
            ]
          },
          "metadata": {},
          "output_type": "display_data"
        }
      ],
      "source": [
        "i = 0\n",
        "for op in ops:\n",
        "  i += 1\n",
        "  if i % 1000 == 0:\n",
        "    print(i)\n",
        "  emotions = emotion_classifier(op.text)\n",
        "  sentiment = sentiment_classifier(op.text)\n",
        "  op_emotions[op.id] = emotions[0]\n",
        "  op_sentiments[op.id] = sentiment[0]\n",
        "\n",
        "# save the emotion and sentiment dictionaries to pickle files\n",
        "with open('op_emotions.pkl', 'wb') as f:\n",
        "  pickle.dump(op_emotions, f)\n",
        "f.close()\n",
        "with open('op_sentiments.pkl', 'wb') as f:\n",
        "  pickle.dump(op_sentiments, f)\n",
        "f.close()\n",
        "\n",
        "#download the pkl files so we don't lose them if google colab crashes\n",
        "files.download('op_emotions.pkl') \n",
        "files.download('op_sentiments.pkl')"
      ]
    },
    {
      "cell_type": "code",
      "execution_count": null,
      "metadata": {
        "colab": {
          "base_uri": "https://localhost:8080/",
          "height": 160
        },
        "id": "ZDhc6AI8xHna",
        "outputId": "31d53c0d-59e1-4c86-cbe2-19192098e434"
      },
      "outputs": [
        {
          "name": "stdout",
          "output_type": "stream",
          "text": [
            "1000\n",
            "2000\n",
            "3000\n",
            "4000\n",
            "5000\n",
            "6000\n",
            "7000\n",
            "8000\n"
          ]
        },
        {
          "data": {
            "application/javascript": [
              "\n",
              "    async function download(id, filename, size) {\n",
              "      if (!google.colab.kernel.accessAllowed) {\n",
              "        return;\n",
              "      }\n",
              "      const div = document.createElement('div');\n",
              "      const label = document.createElement('label');\n",
              "      label.textContent = `Downloading \"${filename}\": `;\n",
              "      div.appendChild(label);\n",
              "      const progress = document.createElement('progress');\n",
              "      progress.max = size;\n",
              "      div.appendChild(progress);\n",
              "      document.body.appendChild(div);\n",
              "\n",
              "      const buffers = [];\n",
              "      let downloaded = 0;\n",
              "\n",
              "      const channel = await google.colab.kernel.comms.open(id);\n",
              "      // Send a message to notify the kernel that we're ready.\n",
              "      channel.send({})\n",
              "\n",
              "      for await (const message of channel.messages) {\n",
              "        // Send a message to notify the kernel that we're ready.\n",
              "        channel.send({})\n",
              "        if (message.buffers) {\n",
              "          for (const buffer of message.buffers) {\n",
              "            buffers.push(buffer);\n",
              "            downloaded += buffer.byteLength;\n",
              "            progress.value = downloaded;\n",
              "          }\n",
              "        }\n",
              "      }\n",
              "      const blob = new Blob(buffers, {type: 'application/binary'});\n",
              "      const a = document.createElement('a');\n",
              "      a.href = window.URL.createObjectURL(blob);\n",
              "      a.download = filename;\n",
              "      div.appendChild(a);\n",
              "      a.click();\n",
              "      div.remove();\n",
              "    }\n",
              "  "
            ],
            "text/plain": [
              "<IPython.core.display.Javascript object>"
            ]
          },
          "metadata": {},
          "output_type": "display_data"
        },
        {
          "data": {
            "application/javascript": [
              "download(\"download_40340e72-fbf8-46e8-b5bd-a4d8e0d820a6\", \"op_reply_emotions.pkl\", 1304363)"
            ],
            "text/plain": [
              "<IPython.core.display.Javascript object>"
            ]
          },
          "metadata": {},
          "output_type": "display_data"
        },
        {
          "data": {
            "application/javascript": [
              "\n",
              "    async function download(id, filename, size) {\n",
              "      if (!google.colab.kernel.accessAllowed) {\n",
              "        return;\n",
              "      }\n",
              "      const div = document.createElement('div');\n",
              "      const label = document.createElement('label');\n",
              "      label.textContent = `Downloading \"${filename}\": `;\n",
              "      div.appendChild(label);\n",
              "      const progress = document.createElement('progress');\n",
              "      progress.max = size;\n",
              "      div.appendChild(progress);\n",
              "      document.body.appendChild(div);\n",
              "\n",
              "      const buffers = [];\n",
              "      let downloaded = 0;\n",
              "\n",
              "      const channel = await google.colab.kernel.comms.open(id);\n",
              "      // Send a message to notify the kernel that we're ready.\n",
              "      channel.send({})\n",
              "\n",
              "      for await (const message of channel.messages) {\n",
              "        // Send a message to notify the kernel that we're ready.\n",
              "        channel.send({})\n",
              "        if (message.buffers) {\n",
              "          for (const buffer of message.buffers) {\n",
              "            buffers.push(buffer);\n",
              "            downloaded += buffer.byteLength;\n",
              "            progress.value = downloaded;\n",
              "          }\n",
              "        }\n",
              "      }\n",
              "      const blob = new Blob(buffers, {type: 'application/binary'});\n",
              "      const a = document.createElement('a');\n",
              "      a.href = window.URL.createObjectURL(blob);\n",
              "      a.download = filename;\n",
              "      div.appendChild(a);\n",
              "      a.click();\n",
              "      div.remove();\n",
              "    }\n",
              "  "
            ],
            "text/plain": [
              "<IPython.core.display.Javascript object>"
            ]
          },
          "metadata": {},
          "output_type": "display_data"
        },
        {
          "data": {
            "application/javascript": [
              "download(\"download_4f65ce45-de33-4706-9048-db57a907caba\", \"op_reply_sentiments.pkl\", 278314)"
            ],
            "text/plain": [
              "<IPython.core.display.Javascript object>"
            ]
          },
          "metadata": {},
          "output_type": "display_data"
        }
      ],
      "source": [
        "i = 0\n",
        "for op_reply in op_replies:\n",
        "  i += 1\n",
        "  if i % 1000 == 0:\n",
        "    print(i)\n",
        "  emotions = emotion_classifier(op_reply.text)\n",
        "  sentiment = sentiment_classifier(op_reply.text)\n",
        "  op_reply_emotions[op_reply.id] = emotions[0]\n",
        "  op_reply_sentiments[op_reply.id] = sentiment[0]\n",
        "\n",
        "# save the emotion and sentiment dictionaries to pickle files\n",
        "with open('op_reply_emotions.pkl', 'wb') as f:\n",
        "  pickle.dump(op_reply_emotions, f)\n",
        "f.close()\n",
        "with open('op_reply_sentiments.pkl', 'wb') as f:\n",
        "  pickle.dump(op_reply_sentiments, f)\n",
        "f.close()\n",
        "\n",
        "#download the pkl files so we don't lose them if google colab crashes\n",
        "files.download('op_reply_emotions.pkl') \n",
        "files.download('op_reply_sentiments.pkl')"
      ]
    },
    {
      "cell_type": "markdown",
      "metadata": {
        "id": "u0g7PsGCjMc9"
      },
      "source": [
        "### Run the code block below if you already have the files that have the data for the sentiment and emotions; otherwise, skip this"
      ]
    },
    {
      "cell_type": "code",
      "execution_count": 16,
      "metadata": {
        "id": "e2boZp5BjWAF"
      },
      "outputs": [],
      "source": [
        "# load the emotion and sentiment of each original post (op), reply, and op reply to the reply\n",
        "with open('reply_emotions.pkl', 'rb') as f:\n",
        "  reply_emotions = pickle.load(f)\n",
        "f.close()\n",
        "\n",
        "with open('reply_sentiments.pkl', 'rb') as f:\n",
        "  reply_sentiments = pickle.load(f)\n",
        "f.close()\n",
        "\n",
        "with open('op_emotions.pkl', 'rb') as f:\n",
        "  op_emotions = pickle.load(f)\n",
        "f.close()\n",
        "\n",
        "with open('op_sentiments.pkl', 'rb') as f:\n",
        "  op_sentiments = pickle.load(f)\n",
        "f.close()\n",
        "\n",
        "with open('op_reply_emotions.pkl', 'rb') as f:\n",
        "  op_reply_emotions = pickle.load(f)\n",
        "f.close()\n",
        "\n",
        "with open('op_reply_sentiments.pkl', 'rb') as f:\n",
        "  op_reply_sentiments = pickle.load(f)\n",
        "f.close()\n"
      ]
    },
    {
      "cell_type": "code",
      "execution_count": 17,
      "metadata": {
        "colab": {
          "base_uri": "https://localhost:8080/"
        },
        "id": "mROZqrUDuIUx",
        "outputId": "22459d1a-cf0d-4700-d29d-66e4e31e0d6b"
      },
      "outputs": [
        {
          "output_type": "stream",
          "name": "stdout",
          "text": [
            "[{'label': 'anger', 'score': 0.11625105887651443}, {'label': 'disgust', 'score': 0.3047790825366974}, {'label': 'fear', 'score': 0.03872518986463547}, {'label': 'joy', 'score': 0.002464813645929098}, {'label': 'neutral', 'score': 0.2758316397666931}, {'label': 'sadness', 'score': 0.25641682744026184}, {'label': 'surprise', 'score': 0.005531440023332834}]\n",
            "{'label': 'neutral', 'score': 0.5743670463562012}\n",
            "[{'label': 'anger', 'score': 0.03406111150979996}, {'label': 'disgust', 'score': 0.6202121376991272}, {'label': 'fear', 'score': 0.004776827525347471}, {'label': 'joy', 'score': 0.003073676722124219}, {'label': 'neutral', 'score': 0.2964757978916168}, {'label': 'sadness', 'score': 0.0322958379983902}, {'label': 'surprise', 'score': 0.00910455547273159}]\n",
            "{'label': 'positive', 'score': 0.5402793288230896}\n",
            "[{'label': 'anger', 'score': 0.4282609820365906}, {'label': 'disgust', 'score': 0.39906275272369385}, {'label': 'fear', 'score': 0.07384254783391953}, {'label': 'joy', 'score': 0.0010070815915241838}, {'label': 'neutral', 'score': 0.06712350994348526}, {'label': 'sadness', 'score': 0.021164949983358383}, {'label': 'surprise', 'score': 0.009538420476019382}]\n",
            "{'label': 'neutral', 'score': 0.7311109900474548}\n"
          ]
        }
      ],
      "source": [
        "# test whether the emotion and sentiment dictionaries were loaded successfully\n",
        "print(reply_emotions[random.choice(replies).id])\n",
        "print(reply_sentiments[random.choice(replies).id])\n",
        "print(op_emotions[random.choice(ops).id])\n",
        "print(op_sentiments[random.choice(ops).id])\n",
        "print(op_reply_emotions[random.choice(op_replies).id])\n",
        "print(op_reply_sentiments[random.choice(op_replies).id])\n"
      ]
    },
    {
      "cell_type": "markdown",
      "metadata": {
        "id": "R3V8iCYP0NC0"
      },
      "source": [
        "### Find the average emotion and sentiment for original posts"
      ]
    },
    {
      "cell_type": "code",
      "execution_count": 25,
      "metadata": {
        "id": "QL939MUZ0Mh6",
        "colab": {
          "base_uri": "https://localhost:8080/",
          "height": 472
        },
        "outputId": "b93ef12c-da13-4e10-e7ee-f5c95f1d1240"
      },
      "outputs": [
        {
          "output_type": "display_data",
          "data": {
            "text/plain": [
              "<Figure size 640x480 with 1 Axes>"
            ],
            "image/png": "[encoded data removed]"
          },
          "metadata": {}
        }
      ],
      "source": [
        "# each variable below has the mean emotion of original posts for each category\n",
        "mean_anger = 0\n",
        "mean_disgust = 0\n",
        "mean_fear = 0\n",
        "mean_joy = 0\n",
        "mean_neutral = 0\n",
        "mean_sadness = 0\n",
        "mean_surprise = 0\n",
        "\n",
        "mean_emotions = [mean_anger, mean_disgust, mean_fear, mean_joy, mean_neutral, mean_sadness, mean_surprise]\n",
        "emotions = ['Anger', 'Disgust', 'Fear', 'Joy', 'Neutral', 'Sadness', 'Surprise']\n",
        "\n",
        "# get the sum of the emotion scores for each original post\n",
        "for op in ops:\n",
        "  for i in range(len(mean_emotions)):\n",
        "    mean_emotions[i] += op_emotions[op.id][i]['score']\n",
        "\n",
        "# divide by the total number of original posts to find the mean\n",
        "for mean_emotion in mean_emotions:\n",
        "  mean_emotion /= len(ops)\n",
        "\n",
        "# data visualizations using the mean emotions\n",
        "plt.bar(emotions, mean_emotions)\n",
        "plt.xlabel('Emotions')\n",
        "plt.ylabel('Mean Emotion Values')\n",
        "plt.title('Mean Emotion Values by Category for Original Posts')\n",
        "plt.show()"
      ]
    },
    {
      "cell_type": "code",
      "source": [
        "# find the sentiment distribution for original posts\n",
        "\n",
        "sentiment_counts = [0, 0, 0]\n",
        "for op in ops:\n",
        "  if op_sentiments[op.id]['label'] == 'negative':\n",
        "    sentiment_counts[0] += 1\n",
        "  elif op_sentiments[op.id]['label'] == 'neutral':\n",
        "    sentiment_counts[1] += 1\n",
        "  else:\n",
        "    sentiment_counts[2] += 1\n",
        "\n",
        "sentiments = ['negative', 'neutral', 'positive']\n",
        "\n",
        "# data visualizations using the sentiment counts\n",
        "plt.bar(sentiments, sentiment_counts)\n",
        "plt.xlabel('Sentiment')\n",
        "plt.ylabel('Total Sentiment Counts')\n",
        "plt.title('Sentiment Distribution for Original Posts')\n",
        "plt.show()"
      ],
      "metadata": {
        "colab": {
          "base_uri": "https://localhost:8080/",
          "height": 472
        },
        "id": "rtuC3x3fg9Zr",
        "outputId": "8aadd3c3-a2f4-46a7-e190-ba2adc686ec2"
      },
      "execution_count": 21,
      "outputs": [
        {
          "output_type": "display_data",
          "data": {
            "text/plain": [
              "<Figure size 640x480 with 1 Axes>"
            ],
            "image/png": "[encoded data removed]"
          },
          "metadata": {}
        }
      ]
    },
    {
      "cell_type": "markdown",
      "metadata": {
        "id": "mwE4HuArE2Qj"
      },
      "source": [
        "### Find the average emotion and sentiment for successful and unsuccessful replies"
      ]
    },
    {
      "cell_type": "code",
      "execution_count": 26,
      "metadata": {
        "id": "Il5YGI0lGoEI",
        "colab": {
          "base_uri": "https://localhost:8080/",
          "height": 472
        },
        "outputId": "e28cb133-5711-4fbb-afa9-cdb1dc2ff950"
      },
      "outputs": [
        {
          "output_type": "display_data",
          "data": {
            "text/plain": [
              "<Figure size 640x480 with 1 Axes>"
            ],
            "image/png": "[encoded data removed]"
          },
          "metadata": {}
        }
      ],
      "source": [
        "# each variable below is a dictionary that will have \"successful\" and \"unsuccessful\"\n",
        "# keys, each with the mean emotion for each category of replies as the value\n",
        "mean_anger = {}\n",
        "mean_disgust = {}\n",
        "mean_fear = {}\n",
        "mean_joy = {}\n",
        "mean_neutral = {}\n",
        "mean_sadness = {}\n",
        "mean_surprise = {}\n",
        "\n",
        "mean_emotions = [mean_anger, mean_disgust, mean_fear, mean_joy, mean_neutral, mean_sadness, mean_surprise]\n",
        "\n",
        "# get the sum of the emotion scores for both successful and unsuccessful replies\n",
        "num_success = 0\n",
        "num_unsuccess = 0\n",
        "for reply in replies:\n",
        "  if reply.meta['success']:\n",
        "    num_success += 1\n",
        "    for i in range(len(mean_emotions)):\n",
        "      mean_emotions[i]['successful'] = mean_emotions[i].get('successful', 0) + reply_emotions[reply.id][i]['score']\n",
        "  else:\n",
        "    num_unsuccess += 1\n",
        "    for i in range(len(mean_emotions)):\n",
        "      mean_emotions[i]['unsuccessful'] = mean_emotions[i].get('unsuccessful', 0) + reply_emotions[reply.id][i]['score']\n",
        "\n",
        "# divide by the total number of successful and unsuccessful replies to find \n",
        "# the mean of each emotion\n",
        "for mean_emotion in mean_emotions:\n",
        "  mean_emotion['successful'] /= num_success\n",
        "  mean_emotion['unsuccessful'] /= num_unsuccess\n",
        "\n",
        "# data visualizations using the mean emotions\n",
        "emotions = ['Anger', 'Disgust', 'Fear', 'Joy', 'Neutral', 'Sadness', 'Surprise']\n",
        "categories = ['successful', 'unsuccessful']\n",
        "\n",
        "# Extract mean emotion values for each category\n",
        "successful_values = [mean_emotion['successful'] for mean_emotion in mean_emotions]\n",
        "unsuccessful_values = [mean_emotion['unsuccessful'] for mean_emotion in mean_emotions]\n",
        "\n",
        "# Set the positions of the bars on the x-axis\n",
        "bar_width = 0.35\n",
        "index = np.arange(len(emotions))\n",
        "\n",
        "# Plot the bar graph\n",
        "plt.bar(index, successful_values, bar_width, label='Successful')\n",
        "plt.bar(index + bar_width, unsuccessful_values, bar_width, label='Unsuccessful')\n",
        "\n",
        "# Customize the graph\n",
        "plt.xlabel('Emotions')\n",
        "plt.ylabel('Mean Emotion Values')\n",
        "plt.title('Mean Emotion Values by Category for Replies')\n",
        "plt.xticks(index + bar_width/2, emotions)\n",
        "plt.legend()\n",
        "\n",
        "plt.show()"
      ]
    },
    {
      "cell_type": "code",
      "source": [
        "# find the sentiment distribution for replies\n",
        "\n",
        "successful_sentiment_counts = [0, 0, 0]\n",
        "unsuccessful_sentiment_counts = [0, 0, 0]\n",
        "for reply in replies:\n",
        "  if reply.meta['success']:\n",
        "    if reply_sentiments[reply.id]['label'] == 'negative':\n",
        "      successful_sentiment_counts[0] += 1\n",
        "    elif reply_sentiments[reply.id]['label'] == 'neutral':\n",
        "      successful_sentiment_counts[1] += 1\n",
        "    else:\n",
        "      successful_sentiment_counts[2] += 1\n",
        "  else:\n",
        "    if reply_sentiments[reply.id]['label'] == 'negative':\n",
        "      unsuccessful_sentiment_counts[0] += 1\n",
        "    elif reply_sentiments[reply.id]['label'] == 'neutral':\n",
        "      unsuccessful_sentiment_counts[1] += 1\n",
        "    else:\n",
        "      unsuccessful_sentiment_counts[2] += 1\n",
        "\n",
        "sentiments = ['negative', 'neutral', 'positive']\n",
        "\n",
        "# data visualizations using the sentiment counts\n",
        "\n",
        "# Set the positions of the bars on the x-axis\n",
        "bar_width = 0.35\n",
        "index = np.arange(len(sentiments))\n",
        "\n",
        "# Plot the bar graph\n",
        "plt.bar(index, successful_sentiment_counts, bar_width, label='Successful')\n",
        "plt.bar(index + bar_width, unsuccessful_sentiment_counts, bar_width, label='Unsuccessful')\n",
        "\n",
        "# Customize the graph\n",
        "plt.xlabel('Sentiment')\n",
        "plt.ylabel('Total Sentiment Counts')\n",
        "plt.title('Sentiment Distribution for Replies')\n",
        "plt.xticks(index + bar_width/2, sentiments)\n",
        "plt.legend()\n",
        "\n",
        "plt.show()"
      ],
      "metadata": {
        "colab": {
          "base_uri": "https://localhost:8080/",
          "height": 472
        },
        "id": "MLVCaDFIixFT",
        "outputId": "970588f8-0770-451a-befa-4a1cf1e33d20"
      },
      "execution_count": 30,
      "outputs": [
        {
          "output_type": "display_data",
          "data": {
            "text/plain": [
              "<Figure size 640x480 with 1 Axes>"
            ],
            "image/png": "[encoded data removed]"
          },
          "metadata": {}
        }
      ]
    },
    {
      "cell_type": "markdown",
      "metadata": {
        "id": "EK5CgSLu0njQ"
      },
      "source": [
        "### Find the average emotion and sentiment for successful and unsuccessful op replies to replies"
      ]
    },
    {
      "cell_type": "code",
      "execution_count": 32,
      "metadata": {
        "id": "VJJBuwd70rtj",
        "colab": {
          "base_uri": "https://localhost:8080/",
          "height": 472
        },
        "outputId": "beac43d4-ee67-4556-c019-b6908d630af6"
      },
      "outputs": [
        {
          "output_type": "display_data",
          "data": {
            "text/plain": [
              "<Figure size 640x480 with 1 Axes>"
            ],
            "image/png": "[encoded data removed]"
          },
          "metadata": {}
        }
      ],
      "source": [
        "# each variable below is a dictionary that will have \"successful\" and \"unsuccessful\"\n",
        "# keys, each with the mean emotion for each category of replies as the value\n",
        "mean_anger = {}\n",
        "mean_disgust = {}\n",
        "mean_fear = {}\n",
        "mean_joy = {}\n",
        "mean_neutral = {}\n",
        "mean_sadness = {}\n",
        "mean_surprise = {}\n",
        "\n",
        "mean_emotions = [mean_anger, mean_disgust, mean_fear, mean_joy, mean_neutral, mean_sadness, mean_surprise]\n",
        "\n",
        "# get the sum of the emotion scores for both successful and unsuccessful replies\n",
        "num_success = 0\n",
        "num_unsuccess = 0\n",
        "for op_reply in op_replies:\n",
        "  if op_reply.meta['success']:\n",
        "    num_success += 1\n",
        "    for i in range(len(mean_emotions)):\n",
        "      mean_emotions[i]['successful'] = mean_emotions[i].get('successful', 0) + op_reply_emotions[op_reply.id][i]['score']\n",
        "  else:\n",
        "    num_unsuccess += 1\n",
        "    for i in range(len(mean_emotions)):\n",
        "      mean_emotions[i]['unsuccessful'] = mean_emotions[i].get('unsuccessful', 0) + op_reply_emotions[op_reply.id][i]['score']\n",
        "\n",
        "# divide by the total number of successful and unsuccessful replies to find \n",
        "# the mean of each emotion\n",
        "for mean_emotion in mean_emotions:\n",
        "  mean_emotion['successful'] /= num_success\n",
        "  mean_emotion['unsuccessful'] /= num_unsuccess\n",
        "\n",
        "# data visualizations using the mean emotions\n",
        "emotions = ['Anger', 'Disgust', 'Fear', 'Joy', 'Neutral', 'Sadness', 'Surprise']\n",
        "categories = ['successful', 'unsuccessful']\n",
        "\n",
        "# Extract mean emotion values for each category\n",
        "successful_values = [mean_emotion['successful'] for mean_emotion in mean_emotions]\n",
        "unsuccessful_values = [mean_emotion['unsuccessful'] for mean_emotion in mean_emotions]\n",
        "\n",
        "# Set the positions of the bars on the x-axis\n",
        "bar_width = 0.35\n",
        "index = np.arange(len(emotions))\n",
        "\n",
        "# Plot the bar graph\n",
        "plt.bar(index, successful_values, bar_width, label='Successful')\n",
        "plt.bar(index + bar_width, unsuccessful_values, bar_width, label='Unsuccessful')\n",
        "\n",
        "# Customize the graph\n",
        "plt.xlabel('Emotions')\n",
        "plt.ylabel('Mean Emotion Values')\n",
        "plt.title('Mean Emotion Values by Category for OP Replies to Replies')\n",
        "plt.xticks(index + bar_width/2, emotions)\n",
        "plt.legend()\n",
        "\n",
        "plt.show()"
      ]
    },
    {
      "cell_type": "code",
      "source": [
        "# find the sentiment distribution for op replies to replies\n",
        "\n",
        "successful_sentiment_counts = [0, 0, 0]\n",
        "unsuccessful_sentiment_counts = [0, 0, 0]\n",
        "for op_reply in op_replies:\n",
        "  if op_reply.meta['success']:\n",
        "    if op_reply_sentiments[op_reply.id]['label'] == 'negative':\n",
        "      successful_sentiment_counts[0] += 1\n",
        "    elif op_reply_sentiments[op_reply.id]['label'] == 'neutral':\n",
        "      successful_sentiment_counts[1] += 1\n",
        "    else:\n",
        "      successful_sentiment_counts[2] += 1\n",
        "  else:\n",
        "    if op_reply_sentiments[op_reply.id]['label'] == 'negative':\n",
        "      unsuccessful_sentiment_counts[0] += 1\n",
        "    elif op_reply_sentiments[op_reply.id]['label'] == 'neutral':\n",
        "      unsuccessful_sentiment_counts[1] += 1\n",
        "    else:\n",
        "      unsuccessful_sentiment_counts[2] += 1\n",
        "\n",
        "sentiments = ['negative', 'neutral', 'positive']\n",
        "\n",
        "# data visualizations using the sentiment counts\n",
        "\n",
        "# Set the positions of the bars on the x-axis\n",
        "bar_width = 0.35\n",
        "index = np.arange(len(sentiments))\n",
        "\n",
        "# Plot the bar graph\n",
        "plt.bar(index, successful_sentiment_counts, bar_width, label='Successful')\n",
        "plt.bar(index + bar_width, unsuccessful_sentiment_counts, bar_width, label='Unsuccessful')\n",
        "\n",
        "# Customize the graph\n",
        "plt.xlabel('Sentiment')\n",
        "plt.ylabel('Total Sentiment Counts')\n",
        "plt.title('Sentiment Distribution for OP Replies to Replies')\n",
        "plt.xticks(index + bar_width/2, sentiments)\n",
        "plt.legend()\n",
        "\n",
        "plt.show()"
      ],
      "metadata": {
        "colab": {
          "base_uri": "https://localhost:8080/",
          "height": 472
        },
        "id": "bo_l9eD9knWA",
        "outputId": "34f44b33-1c8f-462a-970f-172682fe0437"
      },
      "execution_count": 31,
      "outputs": [
        {
          "output_type": "display_data",
          "data": {
            "text/plain": [
              "<Figure size 640x480 with 1 Axes>"
            ],
            "image/png": "[encoded data removed]"
          },
          "metadata": {}
        }
      ]
    },
    {
      "cell_type": "markdown",
      "metadata": {
        "id": "wYazUeKsBobg"
      },
      "source": [
        "### Train a logistic regression model to evaluate baseline performance using number of words as a feature."
      ]
    },
    {
      "cell_type": "code",
      "execution_count": 33,
      "metadata": {
        "colab": {
          "base_uri": "https://localhost:8080/"
        },
        "id": "yLQbXUF1AG9Z",
        "outputId": "f6f11041-1a91-4f8d-9808-4981f6a7e0e2"
      },
      "outputs": [
        {
          "output_type": "stream",
          "name": "stdout",
          "text": [
            "Precision: 0.5428923459024192, Recall: 0.5351921534760348, F1-score: 0.5221719709430155\n"
          ]
        }
      ],
      "source": [
        "# find baseline performance based on number of words\n",
        "\n",
        "# add num_words attribute to each reply object\n",
        "for index, reply in enumerate(replies):\n",
        "  num_words = len((reply.text).split())\n",
        "  replies[index].num_words = num_words\n",
        "\n",
        "# get inputs and outputs and do stratified splits to get train and test data\n",
        "X = np.array([[reply.num_words, 0] for reply in replies])\n",
        "y = np.array([reply.meta['success'] for reply in replies])\n",
        "X_train, X_test, y_train, y_test = train_test_split(X, y, stratify=y)\n",
        "\n",
        "\n",
        "# train logistic regression model using only the number of words as a feature\n",
        "model = LogisticRegression().fit(X_train, y_train)\n",
        "\n",
        "# get the precision, recall, and f1-score using the test set\n",
        "y_pred = model.predict(X_test)\n",
        "scores = precision_recall_fscore_support(y_test, y_pred, average='macro')[0:3]\n",
        "print(\"Precision: {}, Recall: {}, F1-score: {}\".format(*scores))"
      ]
    },
    {
      "cell_type": "markdown",
      "metadata": {
        "id": "XuVco4y7uAQE"
      },
      "source": [
        "### Train a logistic regression model to evaluate performance using emotion as features\n"
      ]
    },
    {
      "cell_type": "code",
      "execution_count": 35,
      "metadata": {
        "colab": {
          "base_uri": "https://localhost:8080/"
        },
        "id": "ynqz5n4DvKhm",
        "outputId": "1ff36f97-26a8-4958-db04-db188cd4532b"
      },
      "outputs": [
        {
          "output_type": "stream",
          "name": "stdout",
          "text": [
            "Precision: 0.5412935323383085, Recall: 0.5044131659095163, F1-score: 0.3817986818430368\n"
          ]
        }
      ],
      "source": [
        "# keep the same y as the baseline models, but add emotion and sentiment as features\n",
        "# for the input\n",
        "\n",
        "# there are k features of the input\n",
        "k = len(reply_emotions[replies[0].id])\n",
        "y = np.array([reply.meta['success'] for reply in replies])\n",
        "X = np.zeros((y.shape[0], k))\n",
        "for i, reply in enumerate(replies):\n",
        "  for j in range(k):\n",
        "    # set the jth entry of the ith input example to be the score from reply_emotions\n",
        "    X[i][j] = reply_emotions[reply.id][j]['score']\n",
        "  \n",
        "# get inputs and outputs and do stratified splits to get train and test data\n",
        "X_train, X_test, y_train, y_test = train_test_split(X, y, stratify=y)\n",
        "\n",
        "# train MLP model using only sentiment as a feature\n",
        "model = LogisticRegression().fit(X_train, y_train)\n",
        "\n",
        "# get the precision, recall, and f1-score using the test set\n",
        "y_pred = model.predict(X_test)\n",
        "scores = precision_recall_fscore_support(y_test, y_pred, average='macro')[0:3]\n",
        "print(\"Precision: {}, Recall: {}, F1-score: {}\".format(*scores))"
      ]
    },
    {
      "cell_type": "markdown",
      "metadata": {
        "id": "yGhcwoP_vXiL"
      },
      "source": [
        "### Train a logistic regression model to evaluate performance using sentiment as features"
      ]
    },
    {
      "cell_type": "code",
      "execution_count": 36,
      "metadata": {
        "colab": {
          "base_uri": "https://localhost:8080/"
        },
        "id": "uDTg4fphvcXP",
        "outputId": "f7d18900-4884-4bfc-b7ab-492f3e2f300f"
      },
      "outputs": [
        {
          "output_type": "stream",
          "name": "stdout",
          "text": [
            "Precision: 0.2736842105263158, Recall: 0.5, F1-score: 0.3537414965986395\n"
          ]
        },
        {
          "output_type": "stream",
          "name": "stderr",
          "text": [
            "/usr/local/lib/python3.10/dist-packages/sklearn/metrics/_classification.py:1344: UndefinedMetricWarning: Precision and F-score are ill-defined and being set to 0.0 in labels with no predicted samples. Use `zero_division` parameter to control this behavior.\n"
          ]
        }
      ],
      "source": [
        "# keep the same y as the baseline models, but add emotion and sentiment as features\n",
        "# for the input\n",
        "\n",
        "# the input is a one-hot encoded vector with entries for negative, neutral and positive\n",
        "# sentiment\n",
        "y = np.array([reply.meta['success'] for reply in replies])\n",
        "X = np.zeros((y.shape[0], 3))\n",
        "for i, reply in enumerate(replies):\n",
        "  if reply_sentiments[reply.id]['label'] == 'negative':\n",
        "    X[i][0] = 1\n",
        "  elif reply_sentiments[reply.id]['label'] == 'neutral':\n",
        "    X[i][1] = 1\n",
        "  else:\n",
        "    X[i][2] = 1\n",
        "\n",
        "# get inputs and outputs and do stratified splits to get train and test data\n",
        "X_train, X_test, y_train, y_test = train_test_split(X, y, stratify=y)\n",
        "\n",
        "# train MLP model using only sentiment as a feature\n",
        "model =  LogisticRegression().fit(X_train, y_train)\n",
        "\n",
        "# get the precision, recall, and f1-score using the test set\n",
        "y_pred = model.predict(X_test)\n",
        "scores = precision_recall_fscore_support(y_test, y_pred, average='macro')[0:3]\n",
        "print(\"Precision: {}, Recall: {}, F1-score: {}\".format(*scores))"
      ]
    },
    {
      "cell_type": "markdown",
      "metadata": {
        "id": "18udD_S1uSHi"
      },
      "source": [
        "### Train a logistic regression model to evaluate performance using emotion and sentiment as features"
      ]
    },
    {
      "cell_type": "code",
      "execution_count": 37,
      "metadata": {
        "colab": {
          "base_uri": "https://localhost:8080/"
        },
        "id": "xYcWljYsxApU",
        "outputId": "c6e285ab-443c-462e-b05e-75e1801eca01"
      },
      "outputs": [
        {
          "output_type": "stream",
          "name": "stdout",
          "text": [
            "Precision: 0.5205753353973168, Recall: 0.50483468015545, F1-score: 0.40650131599446854\n"
          ]
        }
      ],
      "source": [
        "# keep the same y as the baseline models, but add emotion and sentiment as features\n",
        "# for the input\n",
        "\n",
        "# there are k features of the input\n",
        "k = len(reply_emotions[replies[0].id])\n",
        "y = np.array([reply.meta['success'] for reply in replies])\n",
        "X = np.zeros((y.shape[0], k + 3))\n",
        "for i, reply in enumerate(replies):\n",
        "  for j in range(k):\n",
        "    # set the jth entry of the ith input example to be the score from reply_emotions\n",
        "    X[i][j] = reply_emotions[reply.id][j]['score']\n",
        "  if reply_sentiments[reply.id]['label'] == 'negative':\n",
        "    X[i][k] = 1\n",
        "  elif reply_sentiments[reply.id]['label'] == 'neutral':\n",
        "    X[i][k + 1] = 1\n",
        "  else:\n",
        "    X[i][k + 2] = 1\n",
        "\n",
        "# get inputs and outputs and do stratified splits to get train and test data\n",
        "X_train, X_test, y_train, y_test = train_test_split(X, y, stratify=y)\n",
        "\n",
        "# train MLP model using only sentiment as a feature\n",
        "model = LogisticRegression().fit(X_train, y_train)\n",
        "\n",
        "# get the precision, recall, and f1-score using the test set\n",
        "y_pred = model.predict(X_test)\n",
        "scores = precision_recall_fscore_support(y_test, y_pred, average='macro')[0:3]\n",
        "print(\"Precision: {}, Recall: {}, F1-score: {}\".format(*scores))"
      ]
    },
    {
      "cell_type": "markdown",
      "metadata": {
        "id": "hZH-bepj4xFn"
      },
      "source": [
        "### Train a multi-layer perceptron (MLP) using number of words as a feature to establish a baseline performance level for MLPs in predicting persuasiveness."
      ]
    },
    {
      "cell_type": "code",
      "execution_count": 38,
      "metadata": {
        "colab": {
          "base_uri": "https://localhost:8080/"
        },
        "id": "ZbhiYpbi4qzY",
        "outputId": "7d8225be-35a0-4771-9988-5caa3271d3a7"
      },
      "outputs": [
        {
          "output_type": "stream",
          "name": "stdout",
          "text": [
            "Precision: 0.5561228459174544, Recall: 0.5291545863919561, F1-score: 0.48058045041139963\n"
          ]
        }
      ],
      "source": [
        "# find baseline performance based on number of words\n",
        "\n",
        "# add num_words attribute to each reply object\n",
        "for index, reply in enumerate(replies):\n",
        "  num_words = len((reply.text).split())\n",
        "  replies[index].num_words = num_words\n",
        "\n",
        "# get inputs and outputs and do stratified splits to get train and test data\n",
        "X = np.array([[reply.num_words, 0] for reply in replies])\n",
        "y = np.array([reply.meta['success'] for reply in replies])\n",
        "X_train, X_test, y_train, y_test = train_test_split(X, y, stratify=y)\n",
        "\n",
        "# train MLP model using only the number of words as a feature\n",
        "model = MLPClassifier(max_iter=300, early_stopping=True).fit(X_train, y_train)\n",
        "\n",
        "# get the precision, recall, and f1-score using the test set\n",
        "y_pred = model.predict(X_test)\n",
        "scores = precision_recall_fscore_support(y_test, y_pred, average='macro')[0:3]\n",
        "print(\"Precision: {}, Recall: {}, F1-score: {}\".format(*scores))"
      ]
    },
    {
      "cell_type": "markdown",
      "metadata": {
        "id": "8DRgHncH4aLo"
      },
      "source": [
        "### Train a multi-layer perceptron (MLP) using combinations of emotion and sentiment as features to see what has the most predictive power when it comes to persuasiveness."
      ]
    },
    {
      "cell_type": "markdown",
      "metadata": {
        "id": "6-o1ppOsVxXz"
      },
      "source": [
        "First, we only use emotions as the inputs"
      ]
    },
    {
      "cell_type": "code",
      "execution_count": 39,
      "metadata": {
        "colab": {
          "base_uri": "https://localhost:8080/"
        },
        "id": "c2RH2poY4CtQ",
        "outputId": "5f3b7b0d-be84-436e-8897-af390ec5a5e1"
      },
      "outputs": [
        {
          "output_type": "stream",
          "name": "stdout",
          "text": [
            "Precision: 0.5208557936347507, Recall: 0.5039497834890171, F1-score: 0.39693197515263423\n"
          ]
        }
      ],
      "source": [
        "# keep the same y as the baseline models, but add emotion and sentiment as features\n",
        "# for the input\n",
        "\n",
        "# there are k features of the input\n",
        "k = len(reply_emotions[replies[0].id])\n",
        "y = np.array([reply.meta['success'] for reply in replies])\n",
        "X = np.zeros((y.shape[0], k))\n",
        "for i, reply in enumerate(replies):\n",
        "  for j in range(k):\n",
        "    # set the jth entry of the ith input example to be the score from reply_emotions\n",
        "    X[i][j] = reply_emotions[reply.id][j]['score']\n",
        "  \n",
        "# get inputs and outputs and do stratified splits to get train and test data\n",
        "X_train, X_test, y_train, y_test = train_test_split(X, y, stratify=y)\n",
        "\n",
        "# train MLP model using only sentiment as a feature\n",
        "model = MLPClassifier(hidden_layer_sizes=(10, 8, 6), alpha=0.0001, max_iter=100, early_stopping=True).fit(X_train, y_train)\n",
        "\n",
        "# get the precision, recall, and f1-score using the test set\n",
        "y_pred = model.predict(X_test)\n",
        "scores = precision_recall_fscore_support(y_test, y_pred, average='macro')[0:3]\n",
        "print(\"Precision: {}, Recall: {}, F1-score: {}\".format(*scores))"
      ]
    },
    {
      "cell_type": "code",
      "execution_count": 40,
      "metadata": {
        "colab": {
          "base_uri": "https://localhost:8080/"
        },
        "id": "3v7DwONdZ7Lc",
        "outputId": "043c72c1-7757-4c47-9348-cc06a964d84a"
      },
      "outputs": [
        {
          "output_type": "execute_result",
          "data": {
            "text/plain": [
              "array([1, 1, 1, 1, 1, 1, 1, 1, 1, 1, 1, 1, 1, 1, 1, 1, 1, 0, 1, 0, 1, 1,\n",
              "       1, 1, 1, 1, 1, 1, 1, 0, 1, 1, 1, 1, 1, 1, 1, 1, 1, 0, 1, 0, 1, 1,\n",
              "       1, 1, 1, 1, 1, 1, 1, 1, 1, 1, 1, 1, 1, 1, 1, 1, 1, 1, 1, 1, 1, 1,\n",
              "       1, 1, 0, 1, 1, 1, 1, 1, 1, 1, 1, 1, 1, 1, 1, 1, 1, 1, 1, 1, 1, 1,\n",
              "       1, 1, 1, 1, 1, 1, 1, 1, 1, 1, 0, 1])"
            ]
          },
          "metadata": {},
          "execution_count": 40
        }
      ],
      "source": [
        "y_pred[:100]"
      ]
    },
    {
      "cell_type": "markdown",
      "metadata": {
        "id": "gHWZAbyxV_ae"
      },
      "source": [
        "Now, try using sentiment as the input"
      ]
    },
    {
      "cell_type": "code",
      "execution_count": 41,
      "metadata": {
        "colab": {
          "base_uri": "https://localhost:8080/"
        },
        "id": "AcKCkC4HWBFF",
        "outputId": "be2b6423-6464-4282-f262-cfcb5df17903"
      },
      "outputs": [
        {
          "output_type": "stream",
          "name": "stdout",
          "text": [
            "Precision: 0.273502722323049, Recall: 0.5, F1-score: 0.35358986391365554\n"
          ]
        },
        {
          "output_type": "stream",
          "name": "stderr",
          "text": [
            "/usr/local/lib/python3.10/dist-packages/sklearn/metrics/_classification.py:1344: UndefinedMetricWarning: Precision and F-score are ill-defined and being set to 0.0 in labels with no predicted samples. Use `zero_division` parameter to control this behavior.\n"
          ]
        }
      ],
      "source": [
        "# keep the same y as the baseline models, but add emotion and sentiment as features\n",
        "# for the input\n",
        "\n",
        "# the input is a one-hot encoded vector with entries for negative, neutral and positive\n",
        "# sentiment\n",
        "y = np.array([reply.meta['success'] for reply in replies])\n",
        "X = np.zeros((y.shape[0], 3))\n",
        "for i, reply in enumerate(replies):\n",
        "  if reply_sentiments[reply.id]['label'] == 'negative':\n",
        "    X[i][0] = 1\n",
        "  elif reply_sentiments[reply.id]['label'] == 'neutral':\n",
        "    X[i][1] = 1\n",
        "  else:\n",
        "    X[i][2] = 1\n",
        "\n",
        "# get inputs and outputs and do stratified splits to get train and test data\n",
        "X_train, X_test, y_train, y_test = train_test_split(X, y, stratify=y)\n",
        "\n",
        "# train MLP model using only sentiment as a feature\n",
        "model = MLPClassifier(hidden_layer_sizes=(10, 6, 4), alpha=0.0001, max_iter=100, early_stopping=True).fit(X_train, y_train)\n",
        "\n",
        "# get the precision, recall, and f1-score using the test set\n",
        "y_pred = model.predict(X_test)\n",
        "scores = precision_recall_fscore_support(y_test, y_pred, average='macro')[0:3]\n",
        "print(\"Precision: {}, Recall: {}, F1-score: {}\".format(*scores))"
      ]
    },
    {
      "cell_type": "code",
      "execution_count": 42,
      "metadata": {
        "colab": {
          "base_uri": "https://localhost:8080/"
        },
        "id": "DQmjcg3taG91",
        "outputId": "28b80caa-5596-4d5c-a5ed-d9cd0462c017"
      },
      "outputs": [
        {
          "output_type": "execute_result",
          "data": {
            "text/plain": [
              "array([1, 1, 1, 1, 1, 1, 1, 1, 1, 1, 1, 1, 1, 1, 1, 1, 1, 1, 1, 1, 1, 1,\n",
              "       1, 1, 1, 1, 1, 1, 1, 1, 1, 1, 1, 1, 1, 1, 1, 1, 1, 1, 1, 1, 1, 1,\n",
              "       1, 1, 1, 1, 1, 1, 1, 1, 1, 1, 1, 1, 1, 1, 1, 1, 1, 1, 1, 1, 1, 1,\n",
              "       1, 1, 1, 1, 1, 1, 1, 1, 1, 1, 1, 1, 1, 1, 1, 1, 1, 1, 1, 1, 1, 1,\n",
              "       1, 1, 1, 1, 1, 1, 1, 1, 1, 1, 1, 1])"
            ]
          },
          "metadata": {},
          "execution_count": 42
        }
      ],
      "source": [
        "y_pred[:100]"
      ]
    },
    {
      "cell_type": "markdown",
      "metadata": {
        "id": "fvzVCZh1WBXr"
      },
      "source": [
        "Finally, combine emotion and sentiment as the inputs"
      ]
    },
    {
      "cell_type": "code",
      "execution_count": 43,
      "metadata": {
        "colab": {
          "base_uri": "https://localhost:8080/"
        },
        "id": "J1R7w_QdWDJd",
        "outputId": "771f227e-da3f-4a56-e6c6-d5324e09f930"
      },
      "outputs": [
        {
          "output_type": "stream",
          "name": "stdout",
          "text": [
            "Precision: 0.49648901522995537, Recall: 0.4994050201623194, F1-score: 0.38718694153796\n"
          ]
        }
      ],
      "source": [
        "# keep the same y as the baseline models, but add emotion and sentiment as features\n",
        "# for the input\n",
        "\n",
        "# there are k features of the input\n",
        "k = len(reply_emotions[replies[0].id])\n",
        "y = np.array([reply.meta['success'] for reply in replies])\n",
        "X = np.zeros((y.shape[0], k + 3))\n",
        "for i, reply in enumerate(replies):\n",
        "  for j in range(k):\n",
        "    # set the jth entry of the ith input example to be the score from reply_emotions\n",
        "    X[i][j] = reply_emotions[reply.id][j]['score']\n",
        "  if reply_sentiments[reply.id]['label'] == 'negative':\n",
        "    X[i][k] = 1\n",
        "  elif reply_sentiments[reply.id]['label'] == 'neutral':\n",
        "    X[i][k + 1] = 1\n",
        "  else:\n",
        "    X[i][k + 2] = 1\n",
        "\n",
        "# get inputs and outputs and do stratified splits to get train and test data\n",
        "X_train, X_test, y_train, y_test = train_test_split(X, y, stratify=y)\n",
        "\n",
        "# train MLP model using only sentiment as a feature\n",
        "model = MLPClassifier(hidden_layer_sizes=(20, 10, 5), alpha=0.0001, max_iter=100, early_stopping=True).fit(X_train, y_train)\n",
        "\n",
        "# get the precision, recall, and f1-score using the test set\n",
        "y_pred = model.predict(X_test)\n",
        "scores = precision_recall_fscore_support(y_test, y_pred, average='macro')[0:3]\n",
        "print(\"Precision: {}, Recall: {}, F1-score: {}\".format(*scores))"
      ]
    },
    {
      "cell_type": "markdown",
      "metadata": {
        "id": "jpcCJz5Yyoda"
      },
      "source": [
        "Now optimize the hyperparameters of the multi-layer perceptron model to see what the optimal precision, recall, and f1-scores are."
      ]
    },
    {
      "cell_type": "code",
      "execution_count": null,
      "metadata": {
        "colab": {
          "base_uri": "https://localhost:8080/"
        },
        "id": "uNMLWjM5ytxg",
        "outputId": "ff658d37-9a07-4964-8a54-b09eb19c2e7b"
      },
      "outputs": [
        {
          "name": "stderr",
          "output_type": "stream",
          "text": [
            "/usr/local/lib/python3.10/dist-packages/sklearn/neural_network/_multilayer_perceptron.py:693: UserWarning: Training interrupted by user.\n"
          ]
        },
        {
          "name": "stdout",
          "output_type": "stream",
          "text": [
            "{'hidden_layer_sizes': (372, 265), 'alpha': 0.01}\n",
            "[INFO] evaluating...\n",
            "Precision: 0.2732727272727273, Recall: 0.498342175066313, F1-score: 0.35298262094880223\n"
          ]
        }
      ],
      "source": [
        "# optimize the hyperparameters\n",
        "parameter_space = {\n",
        "    'hidden_layer_sizes': [\n",
        "        (random.randint(2**5, 2**11), random.randint(2**5, 2**11)),\n",
        "        (random.randint(2**5, 2**11), random.randint(2**5, 2**11)),\n",
        "        (random.randint(2**5, 2**11), random.randint(2**5, 2**11))\n",
        "    ],\n",
        "    'alpha': [0.0001, 0.001, 0.01],\n",
        "}\n",
        "\n",
        "# fit 5 folds for each of 5 hyperparameter combinations, totalling 25 fits\n",
        "cvFold = RepeatedKFold(n_splits=5, n_repeats=1, random_state=1)\n",
        "randomSearch = RandomizedSearchCV(estimator=model, n_iter=5,\n",
        "\tcv=cvFold, param_distributions=parameter_space,\n",
        "\tscoring='f1_macro')\n",
        "\n",
        "\"\"\"\n",
        "searchResults = randomSearch.fit(X_train, y_train)\n",
        "\n",
        "# print the optimal hyperparameters\n",
        "print(searchResults.best_params_)\n",
        "\n",
        "# extract the best model and evaluate it\n",
        "print('[INFO] evaluating...')\n",
        "bestModel = searchResults.best_estimator_\n",
        "\n",
        "# get the precision, recall, and f1-score using the test set\n",
        "y_pred = bestModel.predict(X_test)\n",
        "scores = precision_recall_fscore_support(y_test, y_pred, average='macro')[0:3]\n",
        "print('Precision: {}, Recall: {}, F1-score: {}'.format(*scores))\n",
        "\"\"\""
      ]
    },
    {
      "cell_type": "code",
      "execution_count": null,
      "metadata": {
        "colab": {
          "base_uri": "https://localhost:8080/"
        },
        "id": "lb2Frmpk1gGB",
        "outputId": "a72ae496-1edf-45c2-8f6d-b18e756228a3"
      },
      "outputs": [
        {
          "name": "stdout",
          "output_type": "stream",
          "text": [
            "[1 1 1 1 1 1 1 1 1 1 1 1 1 1 0 1 1 1 1 1 1 1 1 1 1 1 1 0 1 1 1 1 1 1 1 1 1\n",
            " 1 0 1 1 1 0 1 1 1 1 1 1 1 1 1 1 1 1 1 1 1 1 1 1 1 1 1 1 1 1 1 1 1 1 1 1 1\n",
            " 1 0 1 1 1 1 1 1 1 1 0 1 1 1 1 1 0 1 1 1 1 1 1 1 1 1]\n"
          ]
        }
      ],
      "source": [
        "print(y_pred[:100])"
      ]
    },
    {
      "cell_type": "markdown",
      "metadata": {
        "id": "_RD78k7ld78h"
      },
      "source": [
        "### Train an SVM to do classification using only number of words as a feature\n"
      ]
    },
    {
      "cell_type": "code",
      "execution_count": 44,
      "metadata": {
        "colab": {
          "base_uri": "https://localhost:8080/"
        },
        "id": "mPVM3RLveCVT",
        "outputId": "32d182eb-3198-4c4a-b032-62c86d3b3c01"
      },
      "outputs": [
        {
          "output_type": "stream",
          "name": "stdout",
          "text": [
            "Precision: 0.5589548706956463, Recall: 0.5545848497933502, F1-score: 0.5513402956702873\n"
          ]
        }
      ],
      "source": [
        "# find baseline performance based on number of words\n",
        "\n",
        "# add num_words attribute to each reply object\n",
        "for index, reply in enumerate(replies):\n",
        "  num_words = len((reply.text).split())\n",
        "  replies[index].num_words = num_words\n",
        "\n",
        "# get inputs and outputs and do stratified splits to get train and test data\n",
        "X = np.array([[reply.num_words, 0] for reply in replies])\n",
        "y = np.array([reply.meta['success'] for reply in replies])\n",
        "X_train, X_test, y_train, y_test = train_test_split(X, y, stratify=y)\n",
        "\n",
        "from sklearn import svm\n",
        "clf = svm.SVC()\n",
        "clf.fit(X_train, y_train)\n",
        "\n",
        "# get the precision, recall, and f1-score using the test set\n",
        "y_pred = clf.predict(X_test)\n",
        "scores = precision_recall_fscore_support(y_test, y_pred, average='macro')[0:3]\n",
        "print(\"Precision: {}, Recall: {}, F1-score: {}\".format(*scores))"
      ]
    },
    {
      "cell_type": "markdown",
      "metadata": {
        "id": "TbVpCBBA13To"
      },
      "source": [
        "### Train SVM to do classification using only emotion as a feature"
      ]
    },
    {
      "cell_type": "code",
      "execution_count": 45,
      "metadata": {
        "colab": {
          "base_uri": "https://localhost:8080/"
        },
        "id": "TAgfbSe5hXSi",
        "outputId": "b04a3d47-3522-4269-d11f-548154bc59e2"
      },
      "outputs": [
        {
          "output_type": "stream",
          "name": "stdout",
          "text": [
            "Precision: 0.5144139449975241, Recall: 0.50207420887052, F1-score: 0.385998761132041\n"
          ]
        }
      ],
      "source": [
        "# keep the same y as the baseline models, but add emotion and sentiment as features\n",
        "# for the input\n",
        "\n",
        "# there are k features of the input\n",
        "k = len(reply_emotions[replies[0].id])\n",
        "y = np.array([reply.meta['success'] for reply in replies])\n",
        "X = np.zeros((y.shape[0], k))\n",
        "for i, reply in enumerate(replies):\n",
        "  for j in range(k):\n",
        "    # set the jth entry of the ith input example to be the score from reply_emotions\n",
        "    X[i][j] = reply_emotions[reply.id][j]['score']\n",
        "  \n",
        "# get inputs and outputs and do stratified splits to get train and test data\n",
        "X_train, X_test, y_train, y_test = train_test_split(X, y, stratify=y)\n",
        "\n",
        "# train SVM model using only sentiment as a feature\n",
        "model = svm.SVC().fit(X_train, y_train)\n",
        "\n",
        "# get the precision, recall, and f1-score using the test set\n",
        "y_pred = model.predict(X_test)\n",
        "scores = precision_recall_fscore_support(y_test, y_pred, average='macro')[0:3]\n",
        "print(\"Precision: {}, Recall: {}, F1-score: {}\".format(*scores))"
      ]
    },
    {
      "cell_type": "markdown",
      "metadata": {
        "id": "4lMam5bzmF6-"
      },
      "source": [
        "### Train SVM to do classification using sentiment as features"
      ]
    },
    {
      "cell_type": "code",
      "execution_count": 46,
      "metadata": {
        "colab": {
          "base_uri": "https://localhost:8080/"
        },
        "id": "LibDtaPOj55p",
        "outputId": "736ca81d-b369-45d9-dd29-4079db96eaaf"
      },
      "outputs": [
        {
          "output_type": "stream",
          "name": "stdout",
          "text": [
            "Precision: 0.2736842105263158, Recall: 0.5, F1-score: 0.3537414965986395\n"
          ]
        },
        {
          "output_type": "stream",
          "name": "stderr",
          "text": [
            "/usr/local/lib/python3.10/dist-packages/sklearn/metrics/_classification.py:1344: UndefinedMetricWarning: Precision and F-score are ill-defined and being set to 0.0 in labels with no predicted samples. Use `zero_division` parameter to control this behavior.\n"
          ]
        }
      ],
      "source": [
        "# keep the same y as the baseline models, but add emotion and sentiment as features\n",
        "# for the input\n",
        "\n",
        "# the input is a one-hot encoded vector with entries for negative, neutral and positive\n",
        "# sentiment\n",
        "y = np.array([reply.meta['success'] for reply in replies])\n",
        "X = np.zeros((y.shape[0], 3))\n",
        "for i, reply in enumerate(replies):\n",
        "  if reply_sentiments[reply.id]['label'] == 'negative':\n",
        "    X[i][0] = 1\n",
        "  elif reply_sentiments[reply.id]['label'] == 'neutral':\n",
        "    X[i][1] = 1\n",
        "  else:\n",
        "    X[i][2] = 1\n",
        "\n",
        "# get inputs and outputs and do stratified splits to get train and test data\n",
        "X_train, X_test, y_train, y_test = train_test_split(X, y, stratify=y)\n",
        "\n",
        "# train SVM model using only sentiment as a feature\n",
        "model = svm.SVC().fit(X_train, y_train)\n",
        "\n",
        "# get the precision, recall, and f1-score using the test set\n",
        "y_pred = model.predict(X_test)\n",
        "scores = precision_recall_fscore_support(y_test, y_pred, average='macro')[0:3]\n",
        "print(\"Precision: {}, Recall: {}, F1-score: {}\".format(*scores))"
      ]
    },
    {
      "cell_type": "markdown",
      "metadata": {
        "id": "nCC7Rv8DmRZ6"
      },
      "source": [
        "### Train SVM to do classification using both emotion and sentiment as features"
      ]
    },
    {
      "cell_type": "code",
      "execution_count": 47,
      "metadata": {
        "colab": {
          "base_uri": "https://localhost:8080/"
        },
        "id": "FFlQ6zvjlF1c",
        "outputId": "a6e6663c-2aa5-4cde-f794-c6888ea9b7fc"
      },
      "outputs": [
        {
          "output_type": "stream",
          "name": "stdout",
          "text": [
            "Precision: 0.5434752851711027, Recall: 0.5075994185255134, F1-score: 0.3990520591095123\n"
          ]
        }
      ],
      "source": [
        "# keep the same y as the baseline models, but add emotion and sentiment as features\n",
        "# for the input\n",
        "\n",
        "# there are k features of the input\n",
        "k = len(reply_emotions[replies[0].id])\n",
        "y = np.array([reply.meta['success'] for reply in replies])\n",
        "X = np.zeros((y.shape[0], k + 3))\n",
        "for i, reply in enumerate(replies):\n",
        "  for j in range(k):\n",
        "    # set the jth entry of the ith input example to be the score from reply_emotions\n",
        "    X[i][j] = reply_emotions[reply.id][j]['score']\n",
        "  if reply_sentiments[reply.id]['label'] == 'negative':\n",
        "    X[i][k] = 1\n",
        "  elif reply_sentiments[reply.id]['label'] == 'neutral':\n",
        "    X[i][k + 1] = 1\n",
        "  else:\n",
        "    X[i][k + 2] = 1\n",
        "\n",
        "# get inputs and outputs and do stratified splits to get train and test data\n",
        "X_train, X_test, y_train, y_test = train_test_split(X, y, stratify=y)\n",
        "\n",
        "# train MLP model using only sentiment as a feature\n",
        "model = svm.SVC().fit(X_train, y_train)\n",
        "\n",
        "# get the precision, recall, and f1-score using the test set\n",
        "y_pred = model.predict(X_test)\n",
        "scores = precision_recall_fscore_support(y_test, y_pred, average='macro')[0:3]\n",
        "print(\"Precision: {}, Recall: {}, F1-score: {}\".format(*scores))"
      ]
    },
    {
      "cell_type": "markdown",
      "metadata": {
        "id": "lF-mu9urnCaT"
      },
      "source": [
        "### Train Decision tree to do classification using number of words as a feature\n"
      ]
    },
    {
      "cell_type": "code",
      "execution_count": 48,
      "metadata": {
        "colab": {
          "base_uri": "https://localhost:8080/"
        },
        "id": "6UfEzXxKnH_y",
        "outputId": "4deb1a2b-eba9-4677-dff5-d87cecade977"
      },
      "outputs": [
        {
          "output_type": "stream",
          "name": "stdout",
          "text": [
            "Precision: 0.524162578467057, Recall: 0.5243548270464329, F1-score: 0.5237334700449352\n"
          ]
        }
      ],
      "source": [
        "# find baseline performance based on number of words\n",
        "\n",
        "# add num_words attribute to each reply object\n",
        "for index, reply in enumerate(replies):\n",
        "  num_words = len((reply.text).split())\n",
        "  replies[index].num_words = num_words\n",
        "\n",
        "# get inputs and outputs and do stratified splits to get train and test data\n",
        "X = np.array([[reply.num_words, 0] for reply in replies])\n",
        "y = np.array([reply.meta['success'] for reply in replies])\n",
        "X_train, X_test, y_train, y_test = train_test_split(X, y, stratify=y)\n",
        "\n",
        "from sklearn import tree\n",
        "clf = tree.DecisionTreeClassifier()\n",
        "clf.fit(X_train, y_train)\n",
        "\n",
        "# get the precision, recall, and f1-score using the test set\n",
        "y_pred = clf.predict(X_test)\n",
        "scores = precision_recall_fscore_support(y_test, y_pred, average='macro')[0:3]\n",
        "print(\"Precision: {}, Recall: {}, F1-score: {}\".format(*scores))"
      ]
    },
    {
      "cell_type": "markdown",
      "metadata": {
        "id": "VEvz07I6nXIZ"
      },
      "source": [
        "### Train Decision Tree to do classification using emotion as feature\n"
      ]
    },
    {
      "cell_type": "code",
      "execution_count": 49,
      "metadata": {
        "colab": {
          "base_uri": "https://localhost:8080/"
        },
        "id": "wZEmbIKsncK0",
        "outputId": "e07bdaff-5e30-40f7-d5b1-1b523cedb2d8"
      },
      "outputs": [
        {
          "output_type": "stream",
          "name": "stdout",
          "text": [
            "Precision: 0.5140678279675532, Recall: 0.5140697577969475, F1-score: 0.5140687244873071\n"
          ]
        }
      ],
      "source": [
        "# keep the same y as the baseline models, but add emotion and sentiment as features\n",
        "# for the input\n",
        "\n",
        "# there are k features of the input\n",
        "k = len(reply_emotions[replies[0].id])\n",
        "y = np.array([reply.meta['success'] for reply in replies])\n",
        "X = np.zeros((y.shape[0], k))\n",
        "for i, reply in enumerate(replies):\n",
        "  for j in range(k):\n",
        "    # set the jth entry of the ith input example to be the score from reply_emotions\n",
        "    X[i][j] = reply_emotions[reply.id][j]['score']\n",
        "  \n",
        "# get inputs and outputs and do stratified splits to get train and test data\n",
        "X_train, X_test, y_train, y_test = train_test_split(X, y, stratify=y)\n",
        "\n",
        "# train SVM model using only sentiment as a feature\n",
        "model = tree.DecisionTreeClassifier().fit(X_train, y_train)\n",
        "\n",
        "# get the precision, recall, and f1-score using the test set\n",
        "y_pred = model.predict(X_test)\n",
        "scores = precision_recall_fscore_support(y_test, y_pred, average='macro')[0:3]\n",
        "print(\"Precision: {}, Recall: {}, F1-score: {}\".format(*scores))"
      ]
    },
    {
      "cell_type": "markdown",
      "metadata": {
        "id": "WaFRXI1lnrW7"
      },
      "source": [
        "### Train Decision Tree to do Classification using sentiment as feature"
      ]
    },
    {
      "cell_type": "code",
      "execution_count": 50,
      "metadata": {
        "colab": {
          "base_uri": "https://localhost:8080/"
        },
        "id": "ozlKikk4nWMw",
        "outputId": "98818973-6111-43f0-c4bd-a9dc2f91ae49"
      },
      "outputs": [
        {
          "output_type": "stream",
          "name": "stdout",
          "text": [
            "Precision: 0.2736842105263158, Recall: 0.5, F1-score: 0.3537414965986395\n"
          ]
        },
        {
          "output_type": "stream",
          "name": "stderr",
          "text": [
            "/usr/local/lib/python3.10/dist-packages/sklearn/metrics/_classification.py:1344: UndefinedMetricWarning: Precision and F-score are ill-defined and being set to 0.0 in labels with no predicted samples. Use `zero_division` parameter to control this behavior.\n"
          ]
        }
      ],
      "source": [
        "# keep the same y as the baseline models, but add emotion and sentiment as features\n",
        "# for the input\n",
        "\n",
        "# the input is a one-hot encoded vector with entries for negative, neutral and positive\n",
        "# sentiment\n",
        "y = np.array([reply.meta['success'] for reply in replies])\n",
        "X = np.zeros((y.shape[0], 3))\n",
        "for i, reply in enumerate(replies):\n",
        "  if reply_sentiments[reply.id]['label'] == 'negative':\n",
        "    X[i][0] = 1\n",
        "  elif reply_sentiments[reply.id]['label'] == 'neutral':\n",
        "    X[i][1] = 1\n",
        "  else:\n",
        "    X[i][2] = 1\n",
        "\n",
        "# get inputs and outputs and do stratified splits to get train and test data\n",
        "X_train, X_test, y_train, y_test = train_test_split(X, y, stratify=y)\n",
        "\n",
        "# train SVM model using only sentiment as a feature\n",
        "model = tree.DecisionTreeClassifier().fit(X_train, y_train)\n",
        "\n",
        "# get the precision, recall, and f1-score using the test set\n",
        "y_pred = model.predict(X_test)\n",
        "scores = precision_recall_fscore_support(y_test, y_pred, average='macro')[0:3]\n",
        "print(\"Precision: {}, Recall: {}, F1-score: {}\".format(*scores))"
      ]
    },
    {
      "cell_type": "markdown",
      "metadata": {
        "id": "uo_Xqf6PoGuS"
      },
      "source": [
        "### Train Decision Tree to do Classification using emotion and sentiment as features"
      ]
    },
    {
      "cell_type": "code",
      "execution_count": 51,
      "metadata": {
        "colab": {
          "base_uri": "https://localhost:8080/"
        },
        "id": "XbJ0ZCnGoMt1",
        "outputId": "665082d6-5377-4bff-f369-8eaab7c88179"
      },
      "outputs": [
        {
          "output_type": "stream",
          "name": "stdout",
          "text": [
            "Precision: 0.4994169916770536, Recall: 0.4994139781629758, F1-score: 0.49928142186866376\n"
          ]
        }
      ],
      "source": [
        "# keep the same y as the baseline models, but add emotion and sentiment as features\n",
        "# for the input\n",
        "\n",
        "# there are k features of the input\n",
        "k = len(reply_emotions[replies[0].id])\n",
        "y = np.array([reply.meta['success'] for reply in replies])\n",
        "X = np.zeros((y.shape[0], k + 3))\n",
        "for i, reply in enumerate(replies):\n",
        "  for j in range(k):\n",
        "    # set the jth entry of the ith input example to be the score from reply_emotions\n",
        "    X[i][j] = reply_emotions[reply.id][j]['score']\n",
        "  if reply_sentiments[reply.id]['label'] == 'negative':\n",
        "    X[i][k] = 1\n",
        "  elif reply_sentiments[reply.id]['label'] == 'neutral':\n",
        "    X[i][k + 1] = 1\n",
        "  else:\n",
        "    X[i][k + 2] = 1\n",
        "\n",
        "# get inputs and outputs and do stratified splits to get train and test data\n",
        "X_train, X_test, y_train, y_test = train_test_split(X, y, stratify=y)\n",
        "\n",
        "# train MLP model using only sentiment as a feature\n",
        "model = tree.DecisionTreeClassifier().fit(X_train, y_train)\n",
        "\n",
        "# get the precision, recall, and f1-score using the test set\n",
        "y_pred = model.predict(X_test)\n",
        "scores = precision_recall_fscore_support(y_test, y_pred, average='macro')[0:3]\n",
        "print(\"Precision: {}, Recall: {}, F1-score: {}\".format(*scores))"
      ]
    },
    {
      "cell_type": "markdown",
      "metadata": {
        "id": "3N5GVb7hoYrU"
      },
      "source": [
        "### Train Adaboost Classifier to do Classification using number of words as feature\n"
      ]
    },
    {
      "cell_type": "code",
      "execution_count": 52,
      "metadata": {
        "colab": {
          "base_uri": "https://localhost:8080/"
        },
        "id": "NKU_RnHRozSu",
        "outputId": "6d08db50-6082-4e64-f5aa-b161edc50fc3"
      },
      "outputs": [
        {
          "output_type": "stream",
          "name": "stdout",
          "text": [
            "Precision: 0.5735400775941645, Recall: 0.5676161248534946, F1-score: 0.5643250475789547\n"
          ]
        }
      ],
      "source": [
        "from sklearn.model_selection import cross_val_score\n",
        "from sklearn.datasets import load_iris\n",
        "from sklearn.ensemble import AdaBoostClassifier\n",
        "\n",
        "# find baseline performance based on number of words\n",
        "\n",
        "# add num_words attribute to each reply object\n",
        "for index, reply in enumerate(replies):\n",
        "  num_words = len((reply.text).split())\n",
        "  replies[index].num_words = num_words\n",
        "\n",
        "# get inputs and outputs and do stratified splits to get train and test data\n",
        "X = np.array([[reply.num_words, 0] for reply in replies])\n",
        "y = np.array([reply.meta['success'] for reply in replies])\n",
        "X_train, X_test, y_train, y_test = train_test_split(X, y, stratify=y)\n",
        "\n",
        "\n",
        "clf = AdaBoostClassifier(n_estimators=100)\n",
        "clf.fit(X_train, y_train)\n",
        "\n",
        "# get the precision, recall, and f1-score using the test set\n",
        "y_pred = clf.predict(X_test)\n",
        "scores = precision_recall_fscore_support(y_test, y_pred, average='macro')[0:3]\n",
        "print(\"Precision: {}, Recall: {}, F1-score: {}\".format(*scores))"
      ]
    },
    {
      "cell_type": "markdown",
      "metadata": {
        "id": "LddOR9Enpp16"
      },
      "source": [
        "### Train Adaboost Classifier to do Classification using emotion as features \n"
      ]
    },
    {
      "cell_type": "code",
      "execution_count": 53,
      "metadata": {
        "colab": {
          "base_uri": "https://localhost:8080/"
        },
        "id": "XfU9JJFep4Zv",
        "outputId": "a123372d-0cd9-4bbd-fdf8-31123836aac8"
      },
      "outputs": [
        {
          "output_type": "stream",
          "name": "stdout",
          "text": [
            "Precision: 0.5192733976250125, Recall: 0.512715131700697, F1-score: 0.47978117527456\n"
          ]
        }
      ],
      "source": [
        "# keep the same y as the baseline models, but add emotion and sentiment as features\n",
        "# for the input\n",
        "\n",
        "# there are k features of the input\n",
        "k = len(reply_emotions[replies[0].id])\n",
        "y = np.array([reply.meta['success'] for reply in replies])\n",
        "X = np.zeros((y.shape[0], k))\n",
        "for i, reply in enumerate(replies):\n",
        "  for j in range(k):\n",
        "    # set the jth entry of the ith input example to be the score from reply_emotions\n",
        "    X[i][j] = reply_emotions[reply.id][j]['score']\n",
        "  \n",
        "# get inputs and outputs and do stratified splits to get train and test data\n",
        "X_train, X_test, y_train, y_test = train_test_split(X, y, stratify=y)\n",
        "\n",
        "# train SVM model using only sentiment as a feature\n",
        "model = AdaBoostClassifier(n_estimators=100).fit(X_train, y_train)\n",
        "\n",
        "# get the precision, recall, and f1-score using the test set\n",
        "y_pred = model.predict(X_test)\n",
        "scores = precision_recall_fscore_support(y_test, y_pred, average='macro')[0:3]\n",
        "print(\"Precision: {}, Recall: {}, F1-score: {}\".format(*scores))"
      ]
    },
    {
      "cell_type": "markdown",
      "metadata": {
        "id": "Y4eXohdtqPTQ"
      },
      "source": [
        "### Train Adaboost Classifier to do Classification using sentiment as features"
      ]
    },
    {
      "cell_type": "code",
      "execution_count": 54,
      "metadata": {
        "colab": {
          "base_uri": "https://localhost:8080/"
        },
        "id": "WhzY7Iy_qT1B",
        "outputId": "a299aa0d-94d1-4697-aa00-e2b5764820db"
      },
      "outputs": [
        {
          "output_type": "stream",
          "name": "stdout",
          "text": [
            "Precision: 0.2736842105263158, Recall: 0.5, F1-score: 0.3537414965986395\n"
          ]
        },
        {
          "output_type": "stream",
          "name": "stderr",
          "text": [
            "/usr/local/lib/python3.10/dist-packages/sklearn/metrics/_classification.py:1344: UndefinedMetricWarning: Precision and F-score are ill-defined and being set to 0.0 in labels with no predicted samples. Use `zero_division` parameter to control this behavior.\n"
          ]
        }
      ],
      "source": [
        "# keep the same y as the baseline models, but add emotion and sentiment as features\n",
        "# for the input\n",
        "\n",
        "# the input is a one-hot encoded vector with entries for negative, neutral and positive\n",
        "# sentiment\n",
        "y = np.array([reply.meta['success'] for reply in replies])\n",
        "X = np.zeros((y.shape[0], 3))\n",
        "for i, reply in enumerate(replies):\n",
        "  if reply_sentiments[reply.id]['label'] == 'negative':\n",
        "    X[i][0] = 1\n",
        "  elif reply_sentiments[reply.id]['label'] == 'neutral':\n",
        "    X[i][1] = 1\n",
        "  else:\n",
        "    X[i][2] = 1\n",
        "\n",
        "# get inputs and outputs and do stratified splits to get train and test data\n",
        "X_train, X_test, y_train, y_test = train_test_split(X, y, stratify=y)\n",
        "\n",
        "# train SVM model using only sentiment as a feature\n",
        "model = AdaBoostClassifier(n_estimators=100).fit(X_train, y_train)\n",
        "\n",
        "# get the precision, recall, and f1-score using the test set\n",
        "y_pred = model.predict(X_test)\n",
        "scores = precision_recall_fscore_support(y_test, y_pred, average='macro')[0:3]\n",
        "print(\"Precision: {}, Recall: {}, F1-score: {}\".format(*scores))"
      ]
    },
    {
      "cell_type": "markdown",
      "metadata": {
        "id": "NLMw4vX9qecO"
      },
      "source": [
        "### Train Adaboost Classifier to do Classification using emotion and sentiment as features"
      ]
    },
    {
      "cell_type": "code",
      "execution_count": 55,
      "metadata": {
        "colab": {
          "base_uri": "https://localhost:8080/"
        },
        "id": "YYCDKUSMqjGG",
        "outputId": "903ef78b-892e-4e1b-9d1e-b6fcd72febd1"
      },
      "outputs": [
        {
          "output_type": "stream",
          "name": "stdout",
          "text": [
            "Precision: 0.51764456997793, Recall: 0.5114859289129362, F1-score: 0.4772213935648838\n"
          ]
        }
      ],
      "source": [
        "# keep the same y as the baseline models, but add emotion and sentiment as features\n",
        "# for the input\n",
        "\n",
        "# there are k features of the input\n",
        "k = len(reply_emotions[replies[0].id])\n",
        "y = np.array([reply.meta['success'] for reply in replies])\n",
        "X = np.zeros((y.shape[0], k + 3))\n",
        "for i, reply in enumerate(replies):\n",
        "  for j in range(k):\n",
        "    # set the jth entry of the ith input example to be the score from reply_emotions\n",
        "    X[i][j] = reply_emotions[reply.id][j]['score']\n",
        "  if reply_sentiments[reply.id]['label'] == 'negative':\n",
        "    X[i][k] = 1\n",
        "  elif reply_sentiments[reply.id]['label'] == 'neutral':\n",
        "    X[i][k + 1] = 1\n",
        "  else:\n",
        "    X[i][k + 2] = 1\n",
        "\n",
        "# get inputs and outputs and do stratified splits to get train and test data\n",
        "X_train, X_test, y_train, y_test = train_test_split(X, y, stratify=y)\n",
        "\n",
        "# train MLP model using only sentiment as a feature\n",
        "model = AdaBoostClassifier(n_estimators=100).fit(X_train, y_train)\n",
        "\n",
        "# get the precision, recall, and f1-score using the test set\n",
        "y_pred = model.predict(X_test)\n",
        "scores = precision_recall_fscore_support(y_test, y_pred, average='macro')[0:3]\n",
        "print(\"Precision: {}, Recall: {}, F1-score: {}\".format(*scores))"
      ]
    },
    {
      "cell_type": "code",
      "execution_count": null,
      "metadata": {
        "id": "2LEJ6OC5z-0t"
      },
      "outputs": [],
      "source": []
    }
  ],
  "metadata": {
    "colab": {
      "provenance": []
    },
    "kernelspec": {
      "display_name": "Python 3",
      "name": "python3"
    },
    "language_info": {
      "name": "python"
    },
    "widgets": {
      "application/vnd.jupyter.widget-state+json": {
        "60f4359f4c4a401bacb61c8fa6b27c34": {
          "model_module": "@jupyter-widgets/controls",
          "model_name": "HBoxModel",
          "model_module_version": "1.5.0",
          "state": {
            "_dom_classes": [],
            "_model_module": "@jupyter-widgets/controls",
            "_model_module_version": "1.5.0",
            "_model_name": "HBoxModel",
            "_view_count": null,
            "_view_module": "@jupyter-widgets/controls",
            "_view_module_version": "1.5.0",
            "_view_name": "HBoxView",
            "box_style": "",
            "children": [
              "IPY_MODEL_a4a2dbe6c6fd400683b72c0face1a26c",
              "IPY_MODEL_fcecad0129a0488d8c39b9800eafb2ef",
              "IPY_MODEL_48643886660f4736b241d164f2f6d8fe"
            ],
            "layout": "IPY_MODEL_6725c3b756b142b393ced60f8912b7c6"
          }
        },
        "a4a2dbe6c6fd400683b72c0face1a26c": {
          "model_module": "@jupyter-widgets/controls",
          "model_name": "HTMLModel",
          "model_module_version": "1.5.0",
          "state": {
            "_dom_classes": [],
            "_model_module": "@jupyter-widgets/controls",
            "_model_module_version": "1.5.0",
            "_model_name": "HTMLModel",
            "_view_count": null,
            "_view_module": "@jupyter-widgets/controls",
            "_view_module_version": "1.5.0",
            "_view_name": "HTMLView",
            "description": "",
            "description_tooltip": null,
            "layout": "IPY_MODEL_c33d53e1a7a14d5696f99124fb29dd0a",
            "placeholder": "​",
            "style": "IPY_MODEL_a0b66dac5b564e24a4ab8baaca43c489",
            "value": "Downloading (…)lve/main/config.json: 100%"
          }
        },
        "fcecad0129a0488d8c39b9800eafb2ef": {
          "model_module": "@jupyter-widgets/controls",
          "model_name": "FloatProgressModel",
          "model_module_version": "1.5.0",
          "state": {
            "_dom_classes": [],
            "_model_module": "@jupyter-widgets/controls",
            "_model_module_version": "1.5.0",
            "_model_name": "FloatProgressModel",
            "_view_count": null,
            "_view_module": "@jupyter-widgets/controls",
            "_view_module_version": "1.5.0",
            "_view_name": "ProgressView",
            "bar_style": "success",
            "description": "",
            "description_tooltip": null,
            "layout": "IPY_MODEL_23800e83eb4c4775aa292d4301014d07",
            "max": 1005,
            "min": 0,
            "orientation": "horizontal",
            "style": "IPY_MODEL_fc251f1e2a6c44f894cf2fbeb4ab8a0b",
            "value": 1005
          }
        },
        "48643886660f4736b241d164f2f6d8fe": {
          "model_module": "@jupyter-widgets/controls",
          "model_name": "HTMLModel",
          "model_module_version": "1.5.0",
          "state": {
            "_dom_classes": [],
            "_model_module": "@jupyter-widgets/controls",
            "_model_module_version": "1.5.0",
            "_model_name": "HTMLModel",
            "_view_count": null,
            "_view_module": "@jupyter-widgets/controls",
            "_view_module_version": "1.5.0",
            "_view_name": "HTMLView",
            "description": "",
            "description_tooltip": null,
            "layout": "IPY_MODEL_b4639b17e350460ba8adf9bcebbd3e6e",
            "placeholder": "​",
            "style": "IPY_MODEL_9d179cef1b2d44e69caeaab2f8a1664d",
            "value": " 1.00k/1.00k [00:00&lt;00:00, 59.6kB/s]"
          }
        },
        "6725c3b756b142b393ced60f8912b7c6": {
          "model_module": "@jupyter-widgets/base",
          "model_name": "LayoutModel",
          "model_module_version": "1.2.0",
          "state": {
            "_model_module": "@jupyter-widgets/base",
            "_model_module_version": "1.2.0",
            "_model_name": "LayoutModel",
            "_view_count": null,
            "_view_module": "@jupyter-widgets/base",
            "_view_module_version": "1.2.0",
            "_view_name": "LayoutView",
            "align_content": null,
            "align_items": null,
            "align_self": null,
            "border": null,
            "bottom": null,
            "display": null,
            "flex": null,
            "flex_flow": null,
            "grid_area": null,
            "grid_auto_columns": null,
            "grid_auto_flow": null,
            "grid_auto_rows": null,
            "grid_column": null,
            "grid_gap": null,
            "grid_row": null,
            "grid_template_areas": null,
            "grid_template_columns": null,
            "grid_template_rows": null,
            "height": null,
            "justify_content": null,
            "justify_items": null,
            "left": null,
            "margin": null,
            "max_height": null,
            "max_width": null,
            "min_height": null,
            "min_width": null,
            "object_fit": null,
            "object_position": null,
            "order": null,
            "overflow": null,
            "overflow_x": null,
            "overflow_y": null,
            "padding": null,
            "right": null,
            "top": null,
            "visibility": null,
            "width": null
          }
        },
        "c33d53e1a7a14d5696f99124fb29dd0a": {
          "model_module": "@jupyter-widgets/base",
          "model_name": "LayoutModel",
          "model_module_version": "1.2.0",
          "state": {
            "_model_module": "@jupyter-widgets/base",
            "_model_module_version": "1.2.0",
            "_model_name": "LayoutModel",
            "_view_count": null,
            "_view_module": "@jupyter-widgets/base",
            "_view_module_version": "1.2.0",
            "_view_name": "LayoutView",
            "align_content": null,
            "align_items": null,
            "align_self": null,
            "border": null,
            "bottom": null,
            "display": null,
            "flex": null,
            "flex_flow": null,
            "grid_area": null,
            "grid_auto_columns": null,
            "grid_auto_flow": null,
            "grid_auto_rows": null,
            "grid_column": null,
            "grid_gap": null,
            "grid_row": null,
            "grid_template_areas": null,
            "grid_template_columns": null,
            "grid_template_rows": null,
            "height": null,
            "justify_content": null,
            "justify_items": null,
            "left": null,
            "margin": null,
            "max_height": null,
            "max_width": null,
            "min_height": null,
            "min_width": null,
            "object_fit": null,
            "object_position": null,
            "order": null,
            "overflow": null,
            "overflow_x": null,
            "overflow_y": null,
            "padding": null,
            "right": null,
            "top": null,
            "visibility": null,
            "width": null
          }
        },
        "a0b66dac5b564e24a4ab8baaca43c489": {
          "model_module": "@jupyter-widgets/controls",
          "model_name": "DescriptionStyleModel",
          "model_module_version": "1.5.0",
          "state": {
            "_model_module": "@jupyter-widgets/controls",
            "_model_module_version": "1.5.0",
            "_model_name": "DescriptionStyleModel",
            "_view_count": null,
            "_view_module": "@jupyter-widgets/base",
            "_view_module_version": "1.2.0",
            "_view_name": "StyleView",
            "description_width": ""
          }
        },
        "23800e83eb4c4775aa292d4301014d07": {
          "model_module": "@jupyter-widgets/base",
          "model_name": "LayoutModel",
          "model_module_version": "1.2.0",
          "state": {
            "_model_module": "@jupyter-widgets/base",
            "_model_module_version": "1.2.0",
            "_model_name": "LayoutModel",
            "_view_count": null,
            "_view_module": "@jupyter-widgets/base",
            "_view_module_version": "1.2.0",
            "_view_name": "LayoutView",
            "align_content": null,
            "align_items": null,
            "align_self": null,
            "border": null,
            "bottom": null,
            "display": null,
            "flex": null,
            "flex_flow": null,
            "grid_area": null,
            "grid_auto_columns": null,
            "grid_auto_flow": null,
            "grid_auto_rows": null,
            "grid_column": null,
            "grid_gap": null,
            "grid_row": null,
            "grid_template_areas": null,
            "grid_template_columns": null,
            "grid_template_rows": null,
            "height": null,
            "justify_content": null,
            "justify_items": null,
            "left": null,
            "margin": null,
            "max_height": null,
            "max_width": null,
            "min_height": null,
            "min_width": null,
            "object_fit": null,
            "object_position": null,
            "order": null,
            "overflow": null,
            "overflow_x": null,
            "overflow_y": null,
            "padding": null,
            "right": null,
            "top": null,
            "visibility": null,
            "width": null
          }
        },
        "fc251f1e2a6c44f894cf2fbeb4ab8a0b": {
          "model_module": "@jupyter-widgets/controls",
          "model_name": "ProgressStyleModel",
          "model_module_version": "1.5.0",
          "state": {
            "_model_module": "@jupyter-widgets/controls",
            "_model_module_version": "1.5.0",
            "_model_name": "ProgressStyleModel",
            "_view_count": null,
            "_view_module": "@jupyter-widgets/base",
            "_view_module_version": "1.2.0",
            "_view_name": "StyleView",
            "bar_color": null,
            "description_width": ""
          }
        },
        "b4639b17e350460ba8adf9bcebbd3e6e": {
          "model_module": "@jupyter-widgets/base",
          "model_name": "LayoutModel",
          "model_module_version": "1.2.0",
          "state": {
            "_model_module": "@jupyter-widgets/base",
            "_model_module_version": "1.2.0",
            "_model_name": "LayoutModel",
            "_view_count": null,
            "_view_module": "@jupyter-widgets/base",
            "_view_module_version": "1.2.0",
            "_view_name": "LayoutView",
            "align_content": null,
            "align_items": null,
            "align_self": null,
            "border": null,
            "bottom": null,
            "display": null,
            "flex": null,
            "flex_flow": null,
            "grid_area": null,
            "grid_auto_columns": null,
            "grid_auto_flow": null,
            "grid_auto_rows": null,
            "grid_column": null,
            "grid_gap": null,
            "grid_row": null,
            "grid_template_areas": null,
            "grid_template_columns": null,
            "grid_template_rows": null,
            "height": null,
            "justify_content": null,
            "justify_items": null,
            "left": null,
            "margin": null,
            "max_height": null,
            "max_width": null,
            "min_height": null,
            "min_width": null,
            "object_fit": null,
            "object_position": null,
            "order": null,
            "overflow": null,
            "overflow_x": null,
            "overflow_y": null,
            "padding": null,
            "right": null,
            "top": null,
            "visibility": null,
            "width": null
          }
        },
        "9d179cef1b2d44e69caeaab2f8a1664d": {
          "model_module": "@jupyter-widgets/controls",
          "model_name": "DescriptionStyleModel",
          "model_module_version": "1.5.0",
          "state": {
            "_model_module": "@jupyter-widgets/controls",
            "_model_module_version": "1.5.0",
            "_model_name": "DescriptionStyleModel",
            "_view_count": null,
            "_view_module": "@jupyter-widgets/base",
            "_view_module_version": "1.2.0",
            "_view_name": "StyleView",
            "description_width": ""
          }
        },
        "21d4a2e60a3e4aa49fa1f5b0a8d740e1": {
          "model_module": "@jupyter-widgets/controls",
          "model_name": "HBoxModel",
          "model_module_version": "1.5.0",
          "state": {
            "_dom_classes": [],
            "_model_module": "@jupyter-widgets/controls",
            "_model_module_version": "1.5.0",
            "_model_name": "HBoxModel",
            "_view_count": null,
            "_view_module": "@jupyter-widgets/controls",
            "_view_module_version": "1.5.0",
            "_view_name": "HBoxView",
            "box_style": "",
            "children": [
              "IPY_MODEL_aad04316adb14142b8fe7020ab5ec97a",
              "IPY_MODEL_625ee90c9f9840958a19ea2567b8e802",
              "IPY_MODEL_50bce15270e94848838a2414f47ad305"
            ],
            "layout": "IPY_MODEL_079fa379c4ab447c9bf53d8c0a56633d"
          }
        },
        "aad04316adb14142b8fe7020ab5ec97a": {
          "model_module": "@jupyter-widgets/controls",
          "model_name": "HTMLModel",
          "model_module_version": "1.5.0",
          "state": {
            "_dom_classes": [],
            "_model_module": "@jupyter-widgets/controls",
            "_model_module_version": "1.5.0",
            "_model_name": "HTMLModel",
            "_view_count": null,
            "_view_module": "@jupyter-widgets/controls",
            "_view_module_version": "1.5.0",
            "_view_name": "HTMLView",
            "description": "",
            "description_tooltip": null,
            "layout": "IPY_MODEL_ebfea940c57d4564935ad066c1cec94f",
            "placeholder": "​",
            "style": "IPY_MODEL_a14b602df4084f2fa7171dba2b605e4c",
            "value": "Downloading pytorch_model.bin: 100%"
          }
        },
        "625ee90c9f9840958a19ea2567b8e802": {
          "model_module": "@jupyter-widgets/controls",
          "model_name": "FloatProgressModel",
          "model_module_version": "1.5.0",
          "state": {
            "_dom_classes": [],
            "_model_module": "@jupyter-widgets/controls",
            "_model_module_version": "1.5.0",
            "_model_name": "FloatProgressModel",
            "_view_count": null,
            "_view_module": "@jupyter-widgets/controls",
            "_view_module_version": "1.5.0",
            "_view_name": "ProgressView",
            "bar_style": "success",
            "description": "",
            "description_tooltip": null,
            "layout": "IPY_MODEL_70c72ade92f94dcdac06dc63360fe064",
            "max": 328544361,
            "min": 0,
            "orientation": "horizontal",
            "style": "IPY_MODEL_ce131f582e6f4379b501d79ba46dd863",
            "value": 328544361
          }
        },
        "50bce15270e94848838a2414f47ad305": {
          "model_module": "@jupyter-widgets/controls",
          "model_name": "HTMLModel",
          "model_module_version": "1.5.0",
          "state": {
            "_dom_classes": [],
            "_model_module": "@jupyter-widgets/controls",
            "_model_module_version": "1.5.0",
            "_model_name": "HTMLModel",
            "_view_count": null,
            "_view_module": "@jupyter-widgets/controls",
            "_view_module_version": "1.5.0",
            "_view_name": "HTMLView",
            "description": "",
            "description_tooltip": null,
            "layout": "IPY_MODEL_2b322b6f482840e48f7139c529910cea",
            "placeholder": "​",
            "style": "IPY_MODEL_2642e15b7b0349e69793fec48849618a",
            "value": " 329M/329M [00:01&lt;00:00, 244MB/s]"
          }
        },
        "079fa379c4ab447c9bf53d8c0a56633d": {
          "model_module": "@jupyter-widgets/base",
          "model_name": "LayoutModel",
          "model_module_version": "1.2.0",
          "state": {
            "_model_module": "@jupyter-widgets/base",
            "_model_module_version": "1.2.0",
            "_model_name": "LayoutModel",
            "_view_count": null,
            "_view_module": "@jupyter-widgets/base",
            "_view_module_version": "1.2.0",
            "_view_name": "LayoutView",
            "align_content": null,
            "align_items": null,
            "align_self": null,
            "border": null,
            "bottom": null,
            "display": null,
            "flex": null,
            "flex_flow": null,
            "grid_area": null,
            "grid_auto_columns": null,
            "grid_auto_flow": null,
            "grid_auto_rows": null,
            "grid_column": null,
            "grid_gap": null,
            "grid_row": null,
            "grid_template_areas": null,
            "grid_template_columns": null,
            "grid_template_rows": null,
            "height": null,
            "justify_content": null,
            "justify_items": null,
            "left": null,
            "margin": null,
            "max_height": null,
            "max_width": null,
            "min_height": null,
            "min_width": null,
            "object_fit": null,
            "object_position": null,
            "order": null,
            "overflow": null,
            "overflow_x": null,
            "overflow_y": null,
            "padding": null,
            "right": null,
            "top": null,
            "visibility": null,
            "width": null
          }
        },
        "ebfea940c57d4564935ad066c1cec94f": {
          "model_module": "@jupyter-widgets/base",
          "model_name": "LayoutModel",
          "model_module_version": "1.2.0",
          "state": {
            "_model_module": "@jupyter-widgets/base",
            "_model_module_version": "1.2.0",
            "_model_name": "LayoutModel",
            "_view_count": null,
            "_view_module": "@jupyter-widgets/base",
            "_view_module_version": "1.2.0",
            "_view_name": "LayoutView",
            "align_content": null,
            "align_items": null,
            "align_self": null,
            "border": null,
            "bottom": null,
            "display": null,
            "flex": null,
            "flex_flow": null,
            "grid_area": null,
            "grid_auto_columns": null,
            "grid_auto_flow": null,
            "grid_auto_rows": null,
            "grid_column": null,
            "grid_gap": null,
            "grid_row": null,
            "grid_template_areas": null,
            "grid_template_columns": null,
            "grid_template_rows": null,
            "height": null,
            "justify_content": null,
            "justify_items": null,
            "left": null,
            "margin": null,
            "max_height": null,
            "max_width": null,
            "min_height": null,
            "min_width": null,
            "object_fit": null,
            "object_position": null,
            "order": null,
            "overflow": null,
            "overflow_x": null,
            "overflow_y": null,
            "padding": null,
            "right": null,
            "top": null,
            "visibility": null,
            "width": null
          }
        },
        "a14b602df4084f2fa7171dba2b605e4c": {
          "model_module": "@jupyter-widgets/controls",
          "model_name": "DescriptionStyleModel",
          "model_module_version": "1.5.0",
          "state": {
            "_model_module": "@jupyter-widgets/controls",
            "_model_module_version": "1.5.0",
            "_model_name": "DescriptionStyleModel",
            "_view_count": null,
            "_view_module": "@jupyter-widgets/base",
            "_view_module_version": "1.2.0",
            "_view_name": "StyleView",
            "description_width": ""
          }
        },
        "70c72ade92f94dcdac06dc63360fe064": {
          "model_module": "@jupyter-widgets/base",
          "model_name": "LayoutModel",
          "model_module_version": "1.2.0",
          "state": {
            "_model_module": "@jupyter-widgets/base",
            "_model_module_version": "1.2.0",
            "_model_name": "LayoutModel",
            "_view_count": null,
            "_view_module": "@jupyter-widgets/base",
            "_view_module_version": "1.2.0",
            "_view_name": "LayoutView",
            "align_content": null,
            "align_items": null,
            "align_self": null,
            "border": null,
            "bottom": null,
            "display": null,
            "flex": null,
            "flex_flow": null,
            "grid_area": null,
            "grid_auto_columns": null,
            "grid_auto_flow": null,
            "grid_auto_rows": null,
            "grid_column": null,
            "grid_gap": null,
            "grid_row": null,
            "grid_template_areas": null,
            "grid_template_columns": null,
            "grid_template_rows": null,
            "height": null,
            "justify_content": null,
            "justify_items": null,
            "left": null,
            "margin": null,
            "max_height": null,
            "max_width": null,
            "min_height": null,
            "min_width": null,
            "object_fit": null,
            "object_position": null,
            "order": null,
            "overflow": null,
            "overflow_x": null,
            "overflow_y": null,
            "padding": null,
            "right": null,
            "top": null,
            "visibility": null,
            "width": null
          }
        },
        "ce131f582e6f4379b501d79ba46dd863": {
          "model_module": "@jupyter-widgets/controls",
          "model_name": "ProgressStyleModel",
          "model_module_version": "1.5.0",
          "state": {
            "_model_module": "@jupyter-widgets/controls",
            "_model_module_version": "1.5.0",
            "_model_name": "ProgressStyleModel",
            "_view_count": null,
            "_view_module": "@jupyter-widgets/base",
            "_view_module_version": "1.2.0",
            "_view_name": "StyleView",
            "bar_color": null,
            "description_width": ""
          }
        },
        "2b322b6f482840e48f7139c529910cea": {
          "model_module": "@jupyter-widgets/base",
          "model_name": "LayoutModel",
          "model_module_version": "1.2.0",
          "state": {
            "_model_module": "@jupyter-widgets/base",
            "_model_module_version": "1.2.0",
            "_model_name": "LayoutModel",
            "_view_count": null,
            "_view_module": "@jupyter-widgets/base",
            "_view_module_version": "1.2.0",
            "_view_name": "LayoutView",
            "align_content": null,
            "align_items": null,
            "align_self": null,
            "border": null,
            "bottom": null,
            "display": null,
            "flex": null,
            "flex_flow": null,
            "grid_area": null,
            "grid_auto_columns": null,
            "grid_auto_flow": null,
            "grid_auto_rows": null,
            "grid_column": null,
            "grid_gap": null,
            "grid_row": null,
            "grid_template_areas": null,
            "grid_template_columns": null,
            "grid_template_rows": null,
            "height": null,
            "justify_content": null,
            "justify_items": null,
            "left": null,
            "margin": null,
            "max_height": null,
            "max_width": null,
            "min_height": null,
            "min_width": null,
            "object_fit": null,
            "object_position": null,
            "order": null,
            "overflow": null,
            "overflow_x": null,
            "overflow_y": null,
            "padding": null,
            "right": null,
            "top": null,
            "visibility": null,
            "width": null
          }
        },
        "2642e15b7b0349e69793fec48849618a": {
          "model_module": "@jupyter-widgets/controls",
          "model_name": "DescriptionStyleModel",
          "model_module_version": "1.5.0",
          "state": {
            "_model_module": "@jupyter-widgets/controls",
            "_model_module_version": "1.5.0",
            "_model_name": "DescriptionStyleModel",
            "_view_count": null,
            "_view_module": "@jupyter-widgets/base",
            "_view_module_version": "1.2.0",
            "_view_name": "StyleView",
            "description_width": ""
          }
        },
        "8bd83f63e93345408327b76a9e5a3651": {
          "model_module": "@jupyter-widgets/controls",
          "model_name": "HBoxModel",
          "model_module_version": "1.5.0",
          "state": {
            "_dom_classes": [],
            "_model_module": "@jupyter-widgets/controls",
            "_model_module_version": "1.5.0",
            "_model_name": "HBoxModel",
            "_view_count": null,
            "_view_module": "@jupyter-widgets/controls",
            "_view_module_version": "1.5.0",
            "_view_name": "HBoxView",
            "box_style": "",
            "children": [
              "IPY_MODEL_31b57662b054421f983fc6c1454b6e83",
              "IPY_MODEL_de659fb1ae3d457bab29b5f034021113",
              "IPY_MODEL_00ffb327c76440118a4818bad11493b1"
            ],
            "layout": "IPY_MODEL_4d5a5e41c70f4d27a4a3ba7c9027f719"
          }
        },
        "31b57662b054421f983fc6c1454b6e83": {
          "model_module": "@jupyter-widgets/controls",
          "model_name": "HTMLModel",
          "model_module_version": "1.5.0",
          "state": {
            "_dom_classes": [],
            "_model_module": "@jupyter-widgets/controls",
            "_model_module_version": "1.5.0",
            "_model_name": "HTMLModel",
            "_view_count": null,
            "_view_module": "@jupyter-widgets/controls",
            "_view_module_version": "1.5.0",
            "_view_name": "HTMLView",
            "description": "",
            "description_tooltip": null,
            "layout": "IPY_MODEL_0726effa626441cd8f8aa348b8ad18a3",
            "placeholder": "​",
            "style": "IPY_MODEL_c0cb6935c2004b5aabdbf19b716fa620",
            "value": "Downloading (…)okenizer_config.json: 100%"
          }
        },
        "de659fb1ae3d457bab29b5f034021113": {
          "model_module": "@jupyter-widgets/controls",
          "model_name": "FloatProgressModel",
          "model_module_version": "1.5.0",
          "state": {
            "_dom_classes": [],
            "_model_module": "@jupyter-widgets/controls",
            "_model_module_version": "1.5.0",
            "_model_name": "FloatProgressModel",
            "_view_count": null,
            "_view_module": "@jupyter-widgets/controls",
            "_view_module_version": "1.5.0",
            "_view_name": "ProgressView",
            "bar_style": "success",
            "description": "",
            "description_tooltip": null,
            "layout": "IPY_MODEL_7211d34053b94288ab836cf30b85000b",
            "max": 294,
            "min": 0,
            "orientation": "horizontal",
            "style": "IPY_MODEL_719e90432ed24e14a01f3617a14dcc39",
            "value": 294
          }
        },
        "00ffb327c76440118a4818bad11493b1": {
          "model_module": "@jupyter-widgets/controls",
          "model_name": "HTMLModel",
          "model_module_version": "1.5.0",
          "state": {
            "_dom_classes": [],
            "_model_module": "@jupyter-widgets/controls",
            "_model_module_version": "1.5.0",
            "_model_name": "HTMLModel",
            "_view_count": null,
            "_view_module": "@jupyter-widgets/controls",
            "_view_module_version": "1.5.0",
            "_view_name": "HTMLView",
            "description": "",
            "description_tooltip": null,
            "layout": "IPY_MODEL_16ae42a47ad24fa6aaf370cfb0fd51f5",
            "placeholder": "​",
            "style": "IPY_MODEL_9df800c755d543c9a8f1763029467585",
            "value": " 294/294 [00:00&lt;00:00, 21.2kB/s]"
          }
        },
        "4d5a5e41c70f4d27a4a3ba7c9027f719": {
          "model_module": "@jupyter-widgets/base",
          "model_name": "LayoutModel",
          "model_module_version": "1.2.0",
          "state": {
            "_model_module": "@jupyter-widgets/base",
            "_model_module_version": "1.2.0",
            "_model_name": "LayoutModel",
            "_view_count": null,
            "_view_module": "@jupyter-widgets/base",
            "_view_module_version": "1.2.0",
            "_view_name": "LayoutView",
            "align_content": null,
            "align_items": null,
            "align_self": null,
            "border": null,
            "bottom": null,
            "display": null,
            "flex": null,
            "flex_flow": null,
            "grid_area": null,
            "grid_auto_columns": null,
            "grid_auto_flow": null,
            "grid_auto_rows": null,
            "grid_column": null,
            "grid_gap": null,
            "grid_row": null,
            "grid_template_areas": null,
            "grid_template_columns": null,
            "grid_template_rows": null,
            "height": null,
            "justify_content": null,
            "justify_items": null,
            "left": null,
            "margin": null,
            "max_height": null,
            "max_width": null,
            "min_height": null,
            "min_width": null,
            "object_fit": null,
            "object_position": null,
            "order": null,
            "overflow": null,
            "overflow_x": null,
            "overflow_y": null,
            "padding": null,
            "right": null,
            "top": null,
            "visibility": null,
            "width": null
          }
        },
        "0726effa626441cd8f8aa348b8ad18a3": {
          "model_module": "@jupyter-widgets/base",
          "model_name": "LayoutModel",
          "model_module_version": "1.2.0",
          "state": {
            "_model_module": "@jupyter-widgets/base",
            "_model_module_version": "1.2.0",
            "_model_name": "LayoutModel",
            "_view_count": null,
            "_view_module": "@jupyter-widgets/base",
            "_view_module_version": "1.2.0",
            "_view_name": "LayoutView",
            "align_content": null,
            "align_items": null,
            "align_self": null,
            "border": null,
            "bottom": null,
            "display": null,
            "flex": null,
            "flex_flow": null,
            "grid_area": null,
            "grid_auto_columns": null,
            "grid_auto_flow": null,
            "grid_auto_rows": null,
            "grid_column": null,
            "grid_gap": null,
            "grid_row": null,
            "grid_template_areas": null,
            "grid_template_columns": null,
            "grid_template_rows": null,
            "height": null,
            "justify_content": null,
            "justify_items": null,
            "left": null,
            "margin": null,
            "max_height": null,
            "max_width": null,
            "min_height": null,
            "min_width": null,
            "object_fit": null,
            "object_position": null,
            "order": null,
            "overflow": null,
            "overflow_x": null,
            "overflow_y": null,
            "padding": null,
            "right": null,
            "top": null,
            "visibility": null,
            "width": null
          }
        },
        "c0cb6935c2004b5aabdbf19b716fa620": {
          "model_module": "@jupyter-widgets/controls",
          "model_name": "DescriptionStyleModel",
          "model_module_version": "1.5.0",
          "state": {
            "_model_module": "@jupyter-widgets/controls",
            "_model_module_version": "1.5.0",
            "_model_name": "DescriptionStyleModel",
            "_view_count": null,
            "_view_module": "@jupyter-widgets/base",
            "_view_module_version": "1.2.0",
            "_view_name": "StyleView",
            "description_width": ""
          }
        },
        "7211d34053b94288ab836cf30b85000b": {
          "model_module": "@jupyter-widgets/base",
          "model_name": "LayoutModel",
          "model_module_version": "1.2.0",
          "state": {
            "_model_module": "@jupyter-widgets/base",
            "_model_module_version": "1.2.0",
            "_model_name": "LayoutModel",
            "_view_count": null,
            "_view_module": "@jupyter-widgets/base",
            "_view_module_version": "1.2.0",
            "_view_name": "LayoutView",
            "align_content": null,
            "align_items": null,
            "align_self": null,
            "border": null,
            "bottom": null,
            "display": null,
            "flex": null,
            "flex_flow": null,
            "grid_area": null,
            "grid_auto_columns": null,
            "grid_auto_flow": null,
            "grid_auto_rows": null,
            "grid_column": null,
            "grid_gap": null,
            "grid_row": null,
            "grid_template_areas": null,
            "grid_template_columns": null,
            "grid_template_rows": null,
            "height": null,
            "justify_content": null,
            "justify_items": null,
            "left": null,
            "margin": null,
            "max_height": null,
            "max_width": null,
            "min_height": null,
            "min_width": null,
            "object_fit": null,
            "object_position": null,
            "order": null,
            "overflow": null,
            "overflow_x": null,
            "overflow_y": null,
            "padding": null,
            "right": null,
            "top": null,
            "visibility": null,
            "width": null
          }
        },
        "719e90432ed24e14a01f3617a14dcc39": {
          "model_module": "@jupyter-widgets/controls",
          "model_name": "ProgressStyleModel",
          "model_module_version": "1.5.0",
          "state": {
            "_model_module": "@jupyter-widgets/controls",
            "_model_module_version": "1.5.0",
            "_model_name": "ProgressStyleModel",
            "_view_count": null,
            "_view_module": "@jupyter-widgets/base",
            "_view_module_version": "1.2.0",
            "_view_name": "StyleView",
            "bar_color": null,
            "description_width": ""
          }
        },
        "16ae42a47ad24fa6aaf370cfb0fd51f5": {
          "model_module": "@jupyter-widgets/base",
          "model_name": "LayoutModel",
          "model_module_version": "1.2.0",
          "state": {
            "_model_module": "@jupyter-widgets/base",
            "_model_module_version": "1.2.0",
            "_model_name": "LayoutModel",
            "_view_count": null,
            "_view_module": "@jupyter-widgets/base",
            "_view_module_version": "1.2.0",
            "_view_name": "LayoutView",
            "align_content": null,
            "align_items": null,
            "align_self": null,
            "border": null,
            "bottom": null,
            "display": null,
            "flex": null,
            "flex_flow": null,
            "grid_area": null,
            "grid_auto_columns": null,
            "grid_auto_flow": null,
            "grid_auto_rows": null,
            "grid_column": null,
            "grid_gap": null,
            "grid_row": null,
            "grid_template_areas": null,
            "grid_template_columns": null,
            "grid_template_rows": null,
            "height": null,
            "justify_content": null,
            "justify_items": null,
            "left": null,
            "margin": null,
            "max_height": null,
            "max_width": null,
            "min_height": null,
            "min_width": null,
            "object_fit": null,
            "object_position": null,
            "order": null,
            "overflow": null,
            "overflow_x": null,
            "overflow_y": null,
            "padding": null,
            "right": null,
            "top": null,
            "visibility": null,
            "width": null
          }
        },
        "9df800c755d543c9a8f1763029467585": {
          "model_module": "@jupyter-widgets/controls",
          "model_name": "DescriptionStyleModel",
          "model_module_version": "1.5.0",
          "state": {
            "_model_module": "@jupyter-widgets/controls",
            "_model_module_version": "1.5.0",
            "_model_name": "DescriptionStyleModel",
            "_view_count": null,
            "_view_module": "@jupyter-widgets/base",
            "_view_module_version": "1.2.0",
            "_view_name": "StyleView",
            "description_width": ""
          }
        },
        "9c853d5bd83d4ef88d7f5944d39039e5": {
          "model_module": "@jupyter-widgets/controls",
          "model_name": "HBoxModel",
          "model_module_version": "1.5.0",
          "state": {
            "_dom_classes": [],
            "_model_module": "@jupyter-widgets/controls",
            "_model_module_version": "1.5.0",
            "_model_name": "HBoxModel",
            "_view_count": null,
            "_view_module": "@jupyter-widgets/controls",
            "_view_module_version": "1.5.0",
            "_view_name": "HBoxView",
            "box_style": "",
            "children": [
              "IPY_MODEL_544e108742c34a11b4628b1b1da9e80d",
              "IPY_MODEL_308c11f662394e19acb4d36ad05a909c",
              "IPY_MODEL_53998bfa5835484e87fb755d941ad565"
            ],
            "layout": "IPY_MODEL_e7cc35e01eda4505805ec67964fb91dd"
          }
        },
        "544e108742c34a11b4628b1b1da9e80d": {
          "model_module": "@jupyter-widgets/controls",
          "model_name": "HTMLModel",
          "model_module_version": "1.5.0",
          "state": {
            "_dom_classes": [],
            "_model_module": "@jupyter-widgets/controls",
            "_model_module_version": "1.5.0",
            "_model_name": "HTMLModel",
            "_view_count": null,
            "_view_module": "@jupyter-widgets/controls",
            "_view_module_version": "1.5.0",
            "_view_name": "HTMLView",
            "description": "",
            "description_tooltip": null,
            "layout": "IPY_MODEL_19873b87ef4a4e65b63b6a5f619a5e70",
            "placeholder": "​",
            "style": "IPY_MODEL_6166de434f854a4b9f8424c784367c3e",
            "value": "Downloading (…)olve/main/vocab.json: 100%"
          }
        },
        "308c11f662394e19acb4d36ad05a909c": {
          "model_module": "@jupyter-widgets/controls",
          "model_name": "FloatProgressModel",
          "model_module_version": "1.5.0",
          "state": {
            "_dom_classes": [],
            "_model_module": "@jupyter-widgets/controls",
            "_model_module_version": "1.5.0",
            "_model_name": "FloatProgressModel",
            "_view_count": null,
            "_view_module": "@jupyter-widgets/controls",
            "_view_module_version": "1.5.0",
            "_view_name": "ProgressView",
            "bar_style": "success",
            "description": "",
            "description_tooltip": null,
            "layout": "IPY_MODEL_98cd3ae0ccf84a93ae1e041e1092846a",
            "max": 798293,
            "min": 0,
            "orientation": "horizontal",
            "style": "IPY_MODEL_be7a9a037cea4e6fa3b9765d52b20d17",
            "value": 798293
          }
        },
        "53998bfa5835484e87fb755d941ad565": {
          "model_module": "@jupyter-widgets/controls",
          "model_name": "HTMLModel",
          "model_module_version": "1.5.0",
          "state": {
            "_dom_classes": [],
            "_model_module": "@jupyter-widgets/controls",
            "_model_module_version": "1.5.0",
            "_model_name": "HTMLModel",
            "_view_count": null,
            "_view_module": "@jupyter-widgets/controls",
            "_view_module_version": "1.5.0",
            "_view_name": "HTMLView",
            "description": "",
            "description_tooltip": null,
            "layout": "IPY_MODEL_3d5bc836b0fd43fb9e520f5bbbeb69c1",
            "placeholder": "​",
            "style": "IPY_MODEL_31c521723bfc4db5b222c2f6e480248d",
            "value": " 798k/798k [00:00&lt;00:00, 3.15MB/s]"
          }
        },
        "e7cc35e01eda4505805ec67964fb91dd": {
          "model_module": "@jupyter-widgets/base",
          "model_name": "LayoutModel",
          "model_module_version": "1.2.0",
          "state": {
            "_model_module": "@jupyter-widgets/base",
            "_model_module_version": "1.2.0",
            "_model_name": "LayoutModel",
            "_view_count": null,
            "_view_module": "@jupyter-widgets/base",
            "_view_module_version": "1.2.0",
            "_view_name": "LayoutView",
            "align_content": null,
            "align_items": null,
            "align_self": null,
            "border": null,
            "bottom": null,
            "display": null,
            "flex": null,
            "flex_flow": null,
            "grid_area": null,
            "grid_auto_columns": null,
            "grid_auto_flow": null,
            "grid_auto_rows": null,
            "grid_column": null,
            "grid_gap": null,
            "grid_row": null,
            "grid_template_areas": null,
            "grid_template_columns": null,
            "grid_template_rows": null,
            "height": null,
            "justify_content": null,
            "justify_items": null,
            "left": null,
            "margin": null,
            "max_height": null,
            "max_width": null,
            "min_height": null,
            "min_width": null,
            "object_fit": null,
            "object_position": null,
            "order": null,
            "overflow": null,
            "overflow_x": null,
            "overflow_y": null,
            "padding": null,
            "right": null,
            "top": null,
            "visibility": null,
            "width": null
          }
        },
        "19873b87ef4a4e65b63b6a5f619a5e70": {
          "model_module": "@jupyter-widgets/base",
          "model_name": "LayoutModel",
          "model_module_version": "1.2.0",
          "state": {
            "_model_module": "@jupyter-widgets/base",
            "_model_module_version": "1.2.0",
            "_model_name": "LayoutModel",
            "_view_count": null,
            "_view_module": "@jupyter-widgets/base",
            "_view_module_version": "1.2.0",
            "_view_name": "LayoutView",
            "align_content": null,
            "align_items": null,
            "align_self": null,
            "border": null,
            "bottom": null,
            "display": null,
            "flex": null,
            "flex_flow": null,
            "grid_area": null,
            "grid_auto_columns": null,
            "grid_auto_flow": null,
            "grid_auto_rows": null,
            "grid_column": null,
            "grid_gap": null,
            "grid_row": null,
            "grid_template_areas": null,
            "grid_template_columns": null,
            "grid_template_rows": null,
            "height": null,
            "justify_content": null,
            "justify_items": null,
            "left": null,
            "margin": null,
            "max_height": null,
            "max_width": null,
            "min_height": null,
            "min_width": null,
            "object_fit": null,
            "object_position": null,
            "order": null,
            "overflow": null,
            "overflow_x": null,
            "overflow_y": null,
            "padding": null,
            "right": null,
            "top": null,
            "visibility": null,
            "width": null
          }
        },
        "6166de434f854a4b9f8424c784367c3e": {
          "model_module": "@jupyter-widgets/controls",
          "model_name": "DescriptionStyleModel",
          "model_module_version": "1.5.0",
          "state": {
            "_model_module": "@jupyter-widgets/controls",
            "_model_module_version": "1.5.0",
            "_model_name": "DescriptionStyleModel",
            "_view_count": null,
            "_view_module": "@jupyter-widgets/base",
            "_view_module_version": "1.2.0",
            "_view_name": "StyleView",
            "description_width": ""
          }
        },
        "98cd3ae0ccf84a93ae1e041e1092846a": {
          "model_module": "@jupyter-widgets/base",
          "model_name": "LayoutModel",
          "model_module_version": "1.2.0",
          "state": {
            "_model_module": "@jupyter-widgets/base",
            "_model_module_version": "1.2.0",
            "_model_name": "LayoutModel",
            "_view_count": null,
            "_view_module": "@jupyter-widgets/base",
            "_view_module_version": "1.2.0",
            "_view_name": "LayoutView",
            "align_content": null,
            "align_items": null,
            "align_self": null,
            "border": null,
            "bottom": null,
            "display": null,
            "flex": null,
            "flex_flow": null,
            "grid_area": null,
            "grid_auto_columns": null,
            "grid_auto_flow": null,
            "grid_auto_rows": null,
            "grid_column": null,
            "grid_gap": null,
            "grid_row": null,
            "grid_template_areas": null,
            "grid_template_columns": null,
            "grid_template_rows": null,
            "height": null,
            "justify_content": null,
            "justify_items": null,
            "left": null,
            "margin": null,
            "max_height": null,
            "max_width": null,
            "min_height": null,
            "min_width": null,
            "object_fit": null,
            "object_position": null,
            "order": null,
            "overflow": null,
            "overflow_x": null,
            "overflow_y": null,
            "padding": null,
            "right": null,
            "top": null,
            "visibility": null,
            "width": null
          }
        },
        "be7a9a037cea4e6fa3b9765d52b20d17": {
          "model_module": "@jupyter-widgets/controls",
          "model_name": "ProgressStyleModel",
          "model_module_version": "1.5.0",
          "state": {
            "_model_module": "@jupyter-widgets/controls",
            "_model_module_version": "1.5.0",
            "_model_name": "ProgressStyleModel",
            "_view_count": null,
            "_view_module": "@jupyter-widgets/base",
            "_view_module_version": "1.2.0",
            "_view_name": "StyleView",
            "bar_color": null,
            "description_width": ""
          }
        },
        "3d5bc836b0fd43fb9e520f5bbbeb69c1": {
          "model_module": "@jupyter-widgets/base",
          "model_name": "LayoutModel",
          "model_module_version": "1.2.0",
          "state": {
            "_model_module": "@jupyter-widgets/base",
            "_model_module_version": "1.2.0",
            "_model_name": "LayoutModel",
            "_view_count": null,
            "_view_module": "@jupyter-widgets/base",
            "_view_module_version": "1.2.0",
            "_view_name": "LayoutView",
            "align_content": null,
            "align_items": null,
            "align_self": null,
            "border": null,
            "bottom": null,
            "display": null,
            "flex": null,
            "flex_flow": null,
            "grid_area": null,
            "grid_auto_columns": null,
            "grid_auto_flow": null,
            "grid_auto_rows": null,
            "grid_column": null,
            "grid_gap": null,
            "grid_row": null,
            "grid_template_areas": null,
            "grid_template_columns": null,
            "grid_template_rows": null,
            "height": null,
            "justify_content": null,
            "justify_items": null,
            "left": null,
            "margin": null,
            "max_height": null,
            "max_width": null,
            "min_height": null,
            "min_width": null,
            "object_fit": null,
            "object_position": null,
            "order": null,
            "overflow": null,
            "overflow_x": null,
            "overflow_y": null,
            "padding": null,
            "right": null,
            "top": null,
            "visibility": null,
            "width": null
          }
        },
        "31c521723bfc4db5b222c2f6e480248d": {
          "model_module": "@jupyter-widgets/controls",
          "model_name": "DescriptionStyleModel",
          "model_module_version": "1.5.0",
          "state": {
            "_model_module": "@jupyter-widgets/controls",
            "_model_module_version": "1.5.0",
            "_model_name": "DescriptionStyleModel",
            "_view_count": null,
            "_view_module": "@jupyter-widgets/base",
            "_view_module_version": "1.2.0",
            "_view_name": "StyleView",
            "description_width": ""
          }
        },
        "0f95695aaeff4142a7027663fbbef5d7": {
          "model_module": "@jupyter-widgets/controls",
          "model_name": "HBoxModel",
          "model_module_version": "1.5.0",
          "state": {
            "_dom_classes": [],
            "_model_module": "@jupyter-widgets/controls",
            "_model_module_version": "1.5.0",
            "_model_name": "HBoxModel",
            "_view_count": null,
            "_view_module": "@jupyter-widgets/controls",
            "_view_module_version": "1.5.0",
            "_view_name": "HBoxView",
            "box_style": "",
            "children": [
              "IPY_MODEL_abc780b5be7d4f019531fea43ef78d57",
              "IPY_MODEL_d1be5ebcf6264310babaa4ec64009d57",
              "IPY_MODEL_71df3486199149bdb3c005cd81c4c171"
            ],
            "layout": "IPY_MODEL_a89936e166e24725aa8261651ec2330e"
          }
        },
        "abc780b5be7d4f019531fea43ef78d57": {
          "model_module": "@jupyter-widgets/controls",
          "model_name": "HTMLModel",
          "model_module_version": "1.5.0",
          "state": {
            "_dom_classes": [],
            "_model_module": "@jupyter-widgets/controls",
            "_model_module_version": "1.5.0",
            "_model_name": "HTMLModel",
            "_view_count": null,
            "_view_module": "@jupyter-widgets/controls",
            "_view_module_version": "1.5.0",
            "_view_name": "HTMLView",
            "description": "",
            "description_tooltip": null,
            "layout": "IPY_MODEL_bf84d1438f574b86a8ed05ac68f35d1a",
            "placeholder": "​",
            "style": "IPY_MODEL_25e03b5bbec3463396d2ec227661c4ee",
            "value": "Downloading (…)olve/main/merges.txt: 100%"
          }
        },
        "d1be5ebcf6264310babaa4ec64009d57": {
          "model_module": "@jupyter-widgets/controls",
          "model_name": "FloatProgressModel",
          "model_module_version": "1.5.0",
          "state": {
            "_dom_classes": [],
            "_model_module": "@jupyter-widgets/controls",
            "_model_module_version": "1.5.0",
            "_model_name": "FloatProgressModel",
            "_view_count": null,
            "_view_module": "@jupyter-widgets/controls",
            "_view_module_version": "1.5.0",
            "_view_name": "ProgressView",
            "bar_style": "success",
            "description": "",
            "description_tooltip": null,
            "layout": "IPY_MODEL_5cb4b55194ed468281de68786dc99827",
            "max": 456356,
            "min": 0,
            "orientation": "horizontal",
            "style": "IPY_MODEL_b23526edefd741539cbb7f1a977540cf",
            "value": 456356
          }
        },
        "71df3486199149bdb3c005cd81c4c171": {
          "model_module": "@jupyter-widgets/controls",
          "model_name": "HTMLModel",
          "model_module_version": "1.5.0",
          "state": {
            "_dom_classes": [],
            "_model_module": "@jupyter-widgets/controls",
            "_model_module_version": "1.5.0",
            "_model_name": "HTMLModel",
            "_view_count": null,
            "_view_module": "@jupyter-widgets/controls",
            "_view_module_version": "1.5.0",
            "_view_name": "HTMLView",
            "description": "",
            "description_tooltip": null,
            "layout": "IPY_MODEL_18cc31cd24b44c139563b7435c961af7",
            "placeholder": "​",
            "style": "IPY_MODEL_7be86f6adad747ccb86110eab6345dc6",
            "value": " 456k/456k [00:00&lt;00:00, 2.46MB/s]"
          }
        },
        "a89936e166e24725aa8261651ec2330e": {
          "model_module": "@jupyter-widgets/base",
          "model_name": "LayoutModel",
          "model_module_version": "1.2.0",
          "state": {
            "_model_module": "@jupyter-widgets/base",
            "_model_module_version": "1.2.0",
            "_model_name": "LayoutModel",
            "_view_count": null,
            "_view_module": "@jupyter-widgets/base",
            "_view_module_version": "1.2.0",
            "_view_name": "LayoutView",
            "align_content": null,
            "align_items": null,
            "align_self": null,
            "border": null,
            "bottom": null,
            "display": null,
            "flex": null,
            "flex_flow": null,
            "grid_area": null,
            "grid_auto_columns": null,
            "grid_auto_flow": null,
            "grid_auto_rows": null,
            "grid_column": null,
            "grid_gap": null,
            "grid_row": null,
            "grid_template_areas": null,
            "grid_template_columns": null,
            "grid_template_rows": null,
            "height": null,
            "justify_content": null,
            "justify_items": null,
            "left": null,
            "margin": null,
            "max_height": null,
            "max_width": null,
            "min_height": null,
            "min_width": null,
            "object_fit": null,
            "object_position": null,
            "order": null,
            "overflow": null,
            "overflow_x": null,
            "overflow_y": null,
            "padding": null,
            "right": null,
            "top": null,
            "visibility": null,
            "width": null
          }
        },
        "bf84d1438f574b86a8ed05ac68f35d1a": {
          "model_module": "@jupyter-widgets/base",
          "model_name": "LayoutModel",
          "model_module_version": "1.2.0",
          "state": {
            "_model_module": "@jupyter-widgets/base",
            "_model_module_version": "1.2.0",
            "_model_name": "LayoutModel",
            "_view_count": null,
            "_view_module": "@jupyter-widgets/base",
            "_view_module_version": "1.2.0",
            "_view_name": "LayoutView",
            "align_content": null,
            "align_items": null,
            "align_self": null,
            "border": null,
            "bottom": null,
            "display": null,
            "flex": null,
            "flex_flow": null,
            "grid_area": null,
            "grid_auto_columns": null,
            "grid_auto_flow": null,
            "grid_auto_rows": null,
            "grid_column": null,
            "grid_gap": null,
            "grid_row": null,
            "grid_template_areas": null,
            "grid_template_columns": null,
            "grid_template_rows": null,
            "height": null,
            "justify_content": null,
            "justify_items": null,
            "left": null,
            "margin": null,
            "max_height": null,
            "max_width": null,
            "min_height": null,
            "min_width": null,
            "object_fit": null,
            "object_position": null,
            "order": null,
            "overflow": null,
            "overflow_x": null,
            "overflow_y": null,
            "padding": null,
            "right": null,
            "top": null,
            "visibility": null,
            "width": null
          }
        },
        "25e03b5bbec3463396d2ec227661c4ee": {
          "model_module": "@jupyter-widgets/controls",
          "model_name": "DescriptionStyleModel",
          "model_module_version": "1.5.0",
          "state": {
            "_model_module": "@jupyter-widgets/controls",
            "_model_module_version": "1.5.0",
            "_model_name": "DescriptionStyleModel",
            "_view_count": null,
            "_view_module": "@jupyter-widgets/base",
            "_view_module_version": "1.2.0",
            "_view_name": "StyleView",
            "description_width": ""
          }
        },
        "5cb4b55194ed468281de68786dc99827": {
          "model_module": "@jupyter-widgets/base",
          "model_name": "LayoutModel",
          "model_module_version": "1.2.0",
          "state": {
            "_model_module": "@jupyter-widgets/base",
            "_model_module_version": "1.2.0",
            "_model_name": "LayoutModel",
            "_view_count": null,
            "_view_module": "@jupyter-widgets/base",
            "_view_module_version": "1.2.0",
            "_view_name": "LayoutView",
            "align_content": null,
            "align_items": null,
            "align_self": null,
            "border": null,
            "bottom": null,
            "display": null,
            "flex": null,
            "flex_flow": null,
            "grid_area": null,
            "grid_auto_columns": null,
            "grid_auto_flow": null,
            "grid_auto_rows": null,
            "grid_column": null,
            "grid_gap": null,
            "grid_row": null,
            "grid_template_areas": null,
            "grid_template_columns": null,
            "grid_template_rows": null,
            "height": null,
            "justify_content": null,
            "justify_items": null,
            "left": null,
            "margin": null,
            "max_height": null,
            "max_width": null,
            "min_height": null,
            "min_width": null,
            "object_fit": null,
            "object_position": null,
            "order": null,
            "overflow": null,
            "overflow_x": null,
            "overflow_y": null,
            "padding": null,
            "right": null,
            "top": null,
            "visibility": null,
            "width": null
          }
        },
        "b23526edefd741539cbb7f1a977540cf": {
          "model_module": "@jupyter-widgets/controls",
          "model_name": "ProgressStyleModel",
          "model_module_version": "1.5.0",
          "state": {
            "_model_module": "@jupyter-widgets/controls",
            "_model_module_version": "1.5.0",
            "_model_name": "ProgressStyleModel",
            "_view_count": null,
            "_view_module": "@jupyter-widgets/base",
            "_view_module_version": "1.2.0",
            "_view_name": "StyleView",
            "bar_color": null,
            "description_width": ""
          }
        },
        "18cc31cd24b44c139563b7435c961af7": {
          "model_module": "@jupyter-widgets/base",
          "model_name": "LayoutModel",
          "model_module_version": "1.2.0",
          "state": {
            "_model_module": "@jupyter-widgets/base",
            "_model_module_version": "1.2.0",
            "_model_name": "LayoutModel",
            "_view_count": null,
            "_view_module": "@jupyter-widgets/base",
            "_view_module_version": "1.2.0",
            "_view_name": "LayoutView",
            "align_content": null,
            "align_items": null,
            "align_self": null,
            "border": null,
            "bottom": null,
            "display": null,
            "flex": null,
            "flex_flow": null,
            "grid_area": null,
            "grid_auto_columns": null,
            "grid_auto_flow": null,
            "grid_auto_rows": null,
            "grid_column": null,
            "grid_gap": null,
            "grid_row": null,
            "grid_template_areas": null,
            "grid_template_columns": null,
            "grid_template_rows": null,
            "height": null,
            "justify_content": null,
            "justify_items": null,
            "left": null,
            "margin": null,
            "max_height": null,
            "max_width": null,
            "min_height": null,
            "min_width": null,
            "object_fit": null,
            "object_position": null,
            "order": null,
            "overflow": null,
            "overflow_x": null,
            "overflow_y": null,
            "padding": null,
            "right": null,
            "top": null,
            "visibility": null,
            "width": null
          }
        },
        "7be86f6adad747ccb86110eab6345dc6": {
          "model_module": "@jupyter-widgets/controls",
          "model_name": "DescriptionStyleModel",
          "model_module_version": "1.5.0",
          "state": {
            "_model_module": "@jupyter-widgets/controls",
            "_model_module_version": "1.5.0",
            "_model_name": "DescriptionStyleModel",
            "_view_count": null,
            "_view_module": "@jupyter-widgets/base",
            "_view_module_version": "1.2.0",
            "_view_name": "StyleView",
            "description_width": ""
          }
        },
        "a2940efbc9eb499cbb131e9b4ae4af30": {
          "model_module": "@jupyter-widgets/controls",
          "model_name": "HBoxModel",
          "model_module_version": "1.5.0",
          "state": {
            "_dom_classes": [],
            "_model_module": "@jupyter-widgets/controls",
            "_model_module_version": "1.5.0",
            "_model_name": "HBoxModel",
            "_view_count": null,
            "_view_module": "@jupyter-widgets/controls",
            "_view_module_version": "1.5.0",
            "_view_name": "HBoxView",
            "box_style": "",
            "children": [
              "IPY_MODEL_a4fc58f1e6a94fb3967d17045899765a",
              "IPY_MODEL_a9d2dbe94bd2403dbb2e929ace9b9f2a",
              "IPY_MODEL_6a992e861f09433b93f62805d017f197"
            ],
            "layout": "IPY_MODEL_777568db02324fd98f37882d194a6504"
          }
        },
        "a4fc58f1e6a94fb3967d17045899765a": {
          "model_module": "@jupyter-widgets/controls",
          "model_name": "HTMLModel",
          "model_module_version": "1.5.0",
          "state": {
            "_dom_classes": [],
            "_model_module": "@jupyter-widgets/controls",
            "_model_module_version": "1.5.0",
            "_model_name": "HTMLModel",
            "_view_count": null,
            "_view_module": "@jupyter-widgets/controls",
            "_view_module_version": "1.5.0",
            "_view_name": "HTMLView",
            "description": "",
            "description_tooltip": null,
            "layout": "IPY_MODEL_b12e669c607d4f60b6efeb80c875fba0",
            "placeholder": "​",
            "style": "IPY_MODEL_6c8c330c83c041a1bbd4ff1177d1c43e",
            "value": "Downloading (…)/main/tokenizer.json: 100%"
          }
        },
        "a9d2dbe94bd2403dbb2e929ace9b9f2a": {
          "model_module": "@jupyter-widgets/controls",
          "model_name": "FloatProgressModel",
          "model_module_version": "1.5.0",
          "state": {
            "_dom_classes": [],
            "_model_module": "@jupyter-widgets/controls",
            "_model_module_version": "1.5.0",
            "_model_name": "FloatProgressModel",
            "_view_count": null,
            "_view_module": "@jupyter-widgets/controls",
            "_view_module_version": "1.5.0",
            "_view_name": "ProgressView",
            "bar_style": "success",
            "description": "",
            "description_tooltip": null,
            "layout": "IPY_MODEL_3f179d457c4c499c83f95244f6db3c99",
            "max": 1356047,
            "min": 0,
            "orientation": "horizontal",
            "style": "IPY_MODEL_92dc1f0ae3eb4708b65cca1c8b2a9214",
            "value": 1356047
          }
        },
        "6a992e861f09433b93f62805d017f197": {
          "model_module": "@jupyter-widgets/controls",
          "model_name": "HTMLModel",
          "model_module_version": "1.5.0",
          "state": {
            "_dom_classes": [],
            "_model_module": "@jupyter-widgets/controls",
            "_model_module_version": "1.5.0",
            "_model_name": "HTMLModel",
            "_view_count": null,
            "_view_module": "@jupyter-widgets/controls",
            "_view_module_version": "1.5.0",
            "_view_name": "HTMLView",
            "description": "",
            "description_tooltip": null,
            "layout": "IPY_MODEL_3a422785a59440b4964c173f74996992",
            "placeholder": "​",
            "style": "IPY_MODEL_37ee70b69f444f93b06f27dde079ab5b",
            "value": " 1.36M/1.36M [00:00&lt;00:00, 4.47MB/s]"
          }
        },
        "777568db02324fd98f37882d194a6504": {
          "model_module": "@jupyter-widgets/base",
          "model_name": "LayoutModel",
          "model_module_version": "1.2.0",
          "state": {
            "_model_module": "@jupyter-widgets/base",
            "_model_module_version": "1.2.0",
            "_model_name": "LayoutModel",
            "_view_count": null,
            "_view_module": "@jupyter-widgets/base",
            "_view_module_version": "1.2.0",
            "_view_name": "LayoutView",
            "align_content": null,
            "align_items": null,
            "align_self": null,
            "border": null,
            "bottom": null,
            "display": null,
            "flex": null,
            "flex_flow": null,
            "grid_area": null,
            "grid_auto_columns": null,
            "grid_auto_flow": null,
            "grid_auto_rows": null,
            "grid_column": null,
            "grid_gap": null,
            "grid_row": null,
            "grid_template_areas": null,
            "grid_template_columns": null,
            "grid_template_rows": null,
            "height": null,
            "justify_content": null,
            "justify_items": null,
            "left": null,
            "margin": null,
            "max_height": null,
            "max_width": null,
            "min_height": null,
            "min_width": null,
            "object_fit": null,
            "object_position": null,
            "order": null,
            "overflow": null,
            "overflow_x": null,
            "overflow_y": null,
            "padding": null,
            "right": null,
            "top": null,
            "visibility": null,
            "width": null
          }
        },
        "b12e669c607d4f60b6efeb80c875fba0": {
          "model_module": "@jupyter-widgets/base",
          "model_name": "LayoutModel",
          "model_module_version": "1.2.0",
          "state": {
            "_model_module": "@jupyter-widgets/base",
            "_model_module_version": "1.2.0",
            "_model_name": "LayoutModel",
            "_view_count": null,
            "_view_module": "@jupyter-widgets/base",
            "_view_module_version": "1.2.0",
            "_view_name": "LayoutView",
            "align_content": null,
            "align_items": null,
            "align_self": null,
            "border": null,
            "bottom": null,
            "display": null,
            "flex": null,
            "flex_flow": null,
            "grid_area": null,
            "grid_auto_columns": null,
            "grid_auto_flow": null,
            "grid_auto_rows": null,
            "grid_column": null,
            "grid_gap": null,
            "grid_row": null,
            "grid_template_areas": null,
            "grid_template_columns": null,
            "grid_template_rows": null,
            "height": null,
            "justify_content": null,
            "justify_items": null,
            "left": null,
            "margin": null,
            "max_height": null,
            "max_width": null,
            "min_height": null,
            "min_width": null,
            "object_fit": null,
            "object_position": null,
            "order": null,
            "overflow": null,
            "overflow_x": null,
            "overflow_y": null,
            "padding": null,
            "right": null,
            "top": null,
            "visibility": null,
            "width": null
          }
        },
        "6c8c330c83c041a1bbd4ff1177d1c43e": {
          "model_module": "@jupyter-widgets/controls",
          "model_name": "DescriptionStyleModel",
          "model_module_version": "1.5.0",
          "state": {
            "_model_module": "@jupyter-widgets/controls",
            "_model_module_version": "1.5.0",
            "_model_name": "DescriptionStyleModel",
            "_view_count": null,
            "_view_module": "@jupyter-widgets/base",
            "_view_module_version": "1.2.0",
            "_view_name": "StyleView",
            "description_width": ""
          }
        },
        "3f179d457c4c499c83f95244f6db3c99": {
          "model_module": "@jupyter-widgets/base",
          "model_name": "LayoutModel",
          "model_module_version": "1.2.0",
          "state": {
            "_model_module": "@jupyter-widgets/base",
            "_model_module_version": "1.2.0",
            "_model_name": "LayoutModel",
            "_view_count": null,
            "_view_module": "@jupyter-widgets/base",
            "_view_module_version": "1.2.0",
            "_view_name": "LayoutView",
            "align_content": null,
            "align_items": null,
            "align_self": null,
            "border": null,
            "bottom": null,
            "display": null,
            "flex": null,
            "flex_flow": null,
            "grid_area": null,
            "grid_auto_columns": null,
            "grid_auto_flow": null,
            "grid_auto_rows": null,
            "grid_column": null,
            "grid_gap": null,
            "grid_row": null,
            "grid_template_areas": null,
            "grid_template_columns": null,
            "grid_template_rows": null,
            "height": null,
            "justify_content": null,
            "justify_items": null,
            "left": null,
            "margin": null,
            "max_height": null,
            "max_width": null,
            "min_height": null,
            "min_width": null,
            "object_fit": null,
            "object_position": null,
            "order": null,
            "overflow": null,
            "overflow_x": null,
            "overflow_y": null,
            "padding": null,
            "right": null,
            "top": null,
            "visibility": null,
            "width": null
          }
        },
        "92dc1f0ae3eb4708b65cca1c8b2a9214": {
          "model_module": "@jupyter-widgets/controls",
          "model_name": "ProgressStyleModel",
          "model_module_version": "1.5.0",
          "state": {
            "_model_module": "@jupyter-widgets/controls",
            "_model_module_version": "1.5.0",
            "_model_name": "ProgressStyleModel",
            "_view_count": null,
            "_view_module": "@jupyter-widgets/base",
            "_view_module_version": "1.2.0",
            "_view_name": "StyleView",
            "bar_color": null,
            "description_width": ""
          }
        },
        "3a422785a59440b4964c173f74996992": {
          "model_module": "@jupyter-widgets/base",
          "model_name": "LayoutModel",
          "model_module_version": "1.2.0",
          "state": {
            "_model_module": "@jupyter-widgets/base",
            "_model_module_version": "1.2.0",
            "_model_name": "LayoutModel",
            "_view_count": null,
            "_view_module": "@jupyter-widgets/base",
            "_view_module_version": "1.2.0",
            "_view_name": "LayoutView",
            "align_content": null,
            "align_items": null,
            "align_self": null,
            "border": null,
            "bottom": null,
            "display": null,
            "flex": null,
            "flex_flow": null,
            "grid_area": null,
            "grid_auto_columns": null,
            "grid_auto_flow": null,
            "grid_auto_rows": null,
            "grid_column": null,
            "grid_gap": null,
            "grid_row": null,
            "grid_template_areas": null,
            "grid_template_columns": null,
            "grid_template_rows": null,
            "height": null,
            "justify_content": null,
            "justify_items": null,
            "left": null,
            "margin": null,
            "max_height": null,
            "max_width": null,
            "min_height": null,
            "min_width": null,
            "object_fit": null,
            "object_position": null,
            "order": null,
            "overflow": null,
            "overflow_x": null,
            "overflow_y": null,
            "padding": null,
            "right": null,
            "top": null,
            "visibility": null,
            "width": null
          }
        },
        "37ee70b69f444f93b06f27dde079ab5b": {
          "model_module": "@jupyter-widgets/controls",
          "model_name": "DescriptionStyleModel",
          "model_module_version": "1.5.0",
          "state": {
            "_model_module": "@jupyter-widgets/controls",
            "_model_module_version": "1.5.0",
            "_model_name": "DescriptionStyleModel",
            "_view_count": null,
            "_view_module": "@jupyter-widgets/base",
            "_view_module_version": "1.2.0",
            "_view_name": "StyleView",
            "description_width": ""
          }
        },
        "edaa6759bbf74445a8bd5cd0c0d3d406": {
          "model_module": "@jupyter-widgets/controls",
          "model_name": "HBoxModel",
          "model_module_version": "1.5.0",
          "state": {
            "_dom_classes": [],
            "_model_module": "@jupyter-widgets/controls",
            "_model_module_version": "1.5.0",
            "_model_name": "HBoxModel",
            "_view_count": null,
            "_view_module": "@jupyter-widgets/controls",
            "_view_module_version": "1.5.0",
            "_view_name": "HBoxView",
            "box_style": "",
            "children": [
              "IPY_MODEL_d1502759a09843cca6c4595a341443d5",
              "IPY_MODEL_8b6a3ea36b8a415aa583d31a4431a5e3",
              "IPY_MODEL_fbf1b01cab0c4693b1e93c6d955327ee"
            ],
            "layout": "IPY_MODEL_99a1feba41c3429e809483f1b6f7c071"
          }
        },
        "d1502759a09843cca6c4595a341443d5": {
          "model_module": "@jupyter-widgets/controls",
          "model_name": "HTMLModel",
          "model_module_version": "1.5.0",
          "state": {
            "_dom_classes": [],
            "_model_module": "@jupyter-widgets/controls",
            "_model_module_version": "1.5.0",
            "_model_name": "HTMLModel",
            "_view_count": null,
            "_view_module": "@jupyter-widgets/controls",
            "_view_module_version": "1.5.0",
            "_view_name": "HTMLView",
            "description": "",
            "description_tooltip": null,
            "layout": "IPY_MODEL_9d0fae838c674a2e8eda5cb2bb444889",
            "placeholder": "​",
            "style": "IPY_MODEL_78996e4581e447f4b6a228e27d3cec73",
            "value": "Downloading (…)cial_tokens_map.json: 100%"
          }
        },
        "8b6a3ea36b8a415aa583d31a4431a5e3": {
          "model_module": "@jupyter-widgets/controls",
          "model_name": "FloatProgressModel",
          "model_module_version": "1.5.0",
          "state": {
            "_dom_classes": [],
            "_model_module": "@jupyter-widgets/controls",
            "_model_module_version": "1.5.0",
            "_model_name": "FloatProgressModel",
            "_view_count": null,
            "_view_module": "@jupyter-widgets/controls",
            "_view_module_version": "1.5.0",
            "_view_name": "ProgressView",
            "bar_style": "success",
            "description": "",
            "description_tooltip": null,
            "layout": "IPY_MODEL_ceb18d56dc914d5dafd65251056c4189",
            "max": 239,
            "min": 0,
            "orientation": "horizontal",
            "style": "IPY_MODEL_7be77873878742b5aed7e35320bf2caa",
            "value": 239
          }
        },
        "fbf1b01cab0c4693b1e93c6d955327ee": {
          "model_module": "@jupyter-widgets/controls",
          "model_name": "HTMLModel",
          "model_module_version": "1.5.0",
          "state": {
            "_dom_classes": [],
            "_model_module": "@jupyter-widgets/controls",
            "_model_module_version": "1.5.0",
            "_model_name": "HTMLModel",
            "_view_count": null,
            "_view_module": "@jupyter-widgets/controls",
            "_view_module_version": "1.5.0",
            "_view_name": "HTMLView",
            "description": "",
            "description_tooltip": null,
            "layout": "IPY_MODEL_430ed263ff6748cf90fd9ecb5bc01aeb",
            "placeholder": "​",
            "style": "IPY_MODEL_9d7933184e8449e2bd3f7e742e0e2fa2",
            "value": " 239/239 [00:00&lt;00:00, 12.6kB/s]"
          }
        },
        "99a1feba41c3429e809483f1b6f7c071": {
          "model_module": "@jupyter-widgets/base",
          "model_name": "LayoutModel",
          "model_module_version": "1.2.0",
          "state": {
            "_model_module": "@jupyter-widgets/base",
            "_model_module_version": "1.2.0",
            "_model_name": "LayoutModel",
            "_view_count": null,
            "_view_module": "@jupyter-widgets/base",
            "_view_module_version": "1.2.0",
            "_view_name": "LayoutView",
            "align_content": null,
            "align_items": null,
            "align_self": null,
            "border": null,
            "bottom": null,
            "display": null,
            "flex": null,
            "flex_flow": null,
            "grid_area": null,
            "grid_auto_columns": null,
            "grid_auto_flow": null,
            "grid_auto_rows": null,
            "grid_column": null,
            "grid_gap": null,
            "grid_row": null,
            "grid_template_areas": null,
            "grid_template_columns": null,
            "grid_template_rows": null,
            "height": null,
            "justify_content": null,
            "justify_items": null,
            "left": null,
            "margin": null,
            "max_height": null,
            "max_width": null,
            "min_height": null,
            "min_width": null,
            "object_fit": null,
            "object_position": null,
            "order": null,
            "overflow": null,
            "overflow_x": null,
            "overflow_y": null,
            "padding": null,
            "right": null,
            "top": null,
            "visibility": null,
            "width": null
          }
        },
        "9d0fae838c674a2e8eda5cb2bb444889": {
          "model_module": "@jupyter-widgets/base",
          "model_name": "LayoutModel",
          "model_module_version": "1.2.0",
          "state": {
            "_model_module": "@jupyter-widgets/base",
            "_model_module_version": "1.2.0",
            "_model_name": "LayoutModel",
            "_view_count": null,
            "_view_module": "@jupyter-widgets/base",
            "_view_module_version": "1.2.0",
            "_view_name": "LayoutView",
            "align_content": null,
            "align_items": null,
            "align_self": null,
            "border": null,
            "bottom": null,
            "display": null,
            "flex": null,
            "flex_flow": null,
            "grid_area": null,
            "grid_auto_columns": null,
            "grid_auto_flow": null,
            "grid_auto_rows": null,
            "grid_column": null,
            "grid_gap": null,
            "grid_row": null,
            "grid_template_areas": null,
            "grid_template_columns": null,
            "grid_template_rows": null,
            "height": null,
            "justify_content": null,
            "justify_items": null,
            "left": null,
            "margin": null,
            "max_height": null,
            "max_width": null,
            "min_height": null,
            "min_width": null,
            "object_fit": null,
            "object_position": null,
            "order": null,
            "overflow": null,
            "overflow_x": null,
            "overflow_y": null,
            "padding": null,
            "right": null,
            "top": null,
            "visibility": null,
            "width": null
          }
        },
        "78996e4581e447f4b6a228e27d3cec73": {
          "model_module": "@jupyter-widgets/controls",
          "model_name": "DescriptionStyleModel",
          "model_module_version": "1.5.0",
          "state": {
            "_model_module": "@jupyter-widgets/controls",
            "_model_module_version": "1.5.0",
            "_model_name": "DescriptionStyleModel",
            "_view_count": null,
            "_view_module": "@jupyter-widgets/base",
            "_view_module_version": "1.2.0",
            "_view_name": "StyleView",
            "description_width": ""
          }
        },
        "ceb18d56dc914d5dafd65251056c4189": {
          "model_module": "@jupyter-widgets/base",
          "model_name": "LayoutModel",
          "model_module_version": "1.2.0",
          "state": {
            "_model_module": "@jupyter-widgets/base",
            "_model_module_version": "1.2.0",
            "_model_name": "LayoutModel",
            "_view_count": null,
            "_view_module": "@jupyter-widgets/base",
            "_view_module_version": "1.2.0",
            "_view_name": "LayoutView",
            "align_content": null,
            "align_items": null,
            "align_self": null,
            "border": null,
            "bottom": null,
            "display": null,
            "flex": null,
            "flex_flow": null,
            "grid_area": null,
            "grid_auto_columns": null,
            "grid_auto_flow": null,
            "grid_auto_rows": null,
            "grid_column": null,
            "grid_gap": null,
            "grid_row": null,
            "grid_template_areas": null,
            "grid_template_columns": null,
            "grid_template_rows": null,
            "height": null,
            "justify_content": null,
            "justify_items": null,
            "left": null,
            "margin": null,
            "max_height": null,
            "max_width": null,
            "min_height": null,
            "min_width": null,
            "object_fit": null,
            "object_position": null,
            "order": null,
            "overflow": null,
            "overflow_x": null,
            "overflow_y": null,
            "padding": null,
            "right": null,
            "top": null,
            "visibility": null,
            "width": null
          }
        },
        "7be77873878742b5aed7e35320bf2caa": {
          "model_module": "@jupyter-widgets/controls",
          "model_name": "ProgressStyleModel",
          "model_module_version": "1.5.0",
          "state": {
            "_model_module": "@jupyter-widgets/controls",
            "_model_module_version": "1.5.0",
            "_model_name": "ProgressStyleModel",
            "_view_count": null,
            "_view_module": "@jupyter-widgets/base",
            "_view_module_version": "1.2.0",
            "_view_name": "StyleView",
            "bar_color": null,
            "description_width": ""
          }
        },
        "430ed263ff6748cf90fd9ecb5bc01aeb": {
          "model_module": "@jupyter-widgets/base",
          "model_name": "LayoutModel",
          "model_module_version": "1.2.0",
          "state": {
            "_model_module": "@jupyter-widgets/base",
            "_model_module_version": "1.2.0",
            "_model_name": "LayoutModel",
            "_view_count": null,
            "_view_module": "@jupyter-widgets/base",
            "_view_module_version": "1.2.0",
            "_view_name": "LayoutView",
            "align_content": null,
            "align_items": null,
            "align_self": null,
            "border": null,
            "bottom": null,
            "display": null,
            "flex": null,
            "flex_flow": null,
            "grid_area": null,
            "grid_auto_columns": null,
            "grid_auto_flow": null,
            "grid_auto_rows": null,
            "grid_column": null,
            "grid_gap": null,
            "grid_row": null,
            "grid_template_areas": null,
            "grid_template_columns": null,
            "grid_template_rows": null,
            "height": null,
            "justify_content": null,
            "justify_items": null,
            "left": null,
            "margin": null,
            "max_height": null,
            "max_width": null,
            "min_height": null,
            "min_width": null,
            "object_fit": null,
            "object_position": null,
            "order": null,
            "overflow": null,
            "overflow_x": null,
            "overflow_y": null,
            "padding": null,
            "right": null,
            "top": null,
            "visibility": null,
            "width": null
          }
        },
        "9d7933184e8449e2bd3f7e742e0e2fa2": {
          "model_module": "@jupyter-widgets/controls",
          "model_name": "DescriptionStyleModel",
          "model_module_version": "1.5.0",
          "state": {
            "_model_module": "@jupyter-widgets/controls",
            "_model_module_version": "1.5.0",
            "_model_name": "DescriptionStyleModel",
            "_view_count": null,
            "_view_module": "@jupyter-widgets/base",
            "_view_module_version": "1.2.0",
            "_view_name": "StyleView",
            "description_width": ""
          }
        },
        "d08ff7f1485f4415b18823519a66ee6e": {
          "model_module": "@jupyter-widgets/controls",
          "model_name": "HBoxModel",
          "model_module_version": "1.5.0",
          "state": {
            "_dom_classes": [],
            "_model_module": "@jupyter-widgets/controls",
            "_model_module_version": "1.5.0",
            "_model_name": "HBoxModel",
            "_view_count": null,
            "_view_module": "@jupyter-widgets/controls",
            "_view_module_version": "1.5.0",
            "_view_name": "HBoxView",
            "box_style": "",
            "children": [
              "IPY_MODEL_81f1baa5440547e8814edcd4a595430e",
              "IPY_MODEL_783c9d9d478d42beb92bd858c81da0a8",
              "IPY_MODEL_bb520821f67d4d55b1658cdc5f17f3bb"
            ],
            "layout": "IPY_MODEL_4d01d0db10dc4a2aa706a7c7a5b0bf66"
          }
        },
        "81f1baa5440547e8814edcd4a595430e": {
          "model_module": "@jupyter-widgets/controls",
          "model_name": "HTMLModel",
          "model_module_version": "1.5.0",
          "state": {
            "_dom_classes": [],
            "_model_module": "@jupyter-widgets/controls",
            "_model_module_version": "1.5.0",
            "_model_name": "HTMLModel",
            "_view_count": null,
            "_view_module": "@jupyter-widgets/controls",
            "_view_module_version": "1.5.0",
            "_view_name": "HTMLView",
            "description": "",
            "description_tooltip": null,
            "layout": "IPY_MODEL_f2e1df910bc540b18bb475cc86af71bb",
            "placeholder": "​",
            "style": "IPY_MODEL_bce47517d6f146c4bc23a1a5a638f2d2",
            "value": "Downloading (…)lve/main/config.json: 100%"
          }
        },
        "783c9d9d478d42beb92bd858c81da0a8": {
          "model_module": "@jupyter-widgets/controls",
          "model_name": "FloatProgressModel",
          "model_module_version": "1.5.0",
          "state": {
            "_dom_classes": [],
            "_model_module": "@jupyter-widgets/controls",
            "_model_module_version": "1.5.0",
            "_model_name": "FloatProgressModel",
            "_view_count": null,
            "_view_module": "@jupyter-widgets/controls",
            "_view_module_version": "1.5.0",
            "_view_name": "ProgressView",
            "bar_style": "success",
            "description": "",
            "description_tooltip": null,
            "layout": "IPY_MODEL_47e35588cf7146d8b31e69384db83e33",
            "max": 929,
            "min": 0,
            "orientation": "horizontal",
            "style": "IPY_MODEL_0791f4b2f56049c88f13b688477d9aef",
            "value": 929
          }
        },
        "bb520821f67d4d55b1658cdc5f17f3bb": {
          "model_module": "@jupyter-widgets/controls",
          "model_name": "HTMLModel",
          "model_module_version": "1.5.0",
          "state": {
            "_dom_classes": [],
            "_model_module": "@jupyter-widgets/controls",
            "_model_module_version": "1.5.0",
            "_model_name": "HTMLModel",
            "_view_count": null,
            "_view_module": "@jupyter-widgets/controls",
            "_view_module_version": "1.5.0",
            "_view_name": "HTMLView",
            "description": "",
            "description_tooltip": null,
            "layout": "IPY_MODEL_f3ac9ebf0e0b46f7a942746b500d9d5c",
            "placeholder": "​",
            "style": "IPY_MODEL_85b7d8ca3ae94de3b5970715ee6f822f",
            "value": " 929/929 [00:00&lt;00:00, 44.1kB/s]"
          }
        },
        "4d01d0db10dc4a2aa706a7c7a5b0bf66": {
          "model_module": "@jupyter-widgets/base",
          "model_name": "LayoutModel",
          "model_module_version": "1.2.0",
          "state": {
            "_model_module": "@jupyter-widgets/base",
            "_model_module_version": "1.2.0",
            "_model_name": "LayoutModel",
            "_view_count": null,
            "_view_module": "@jupyter-widgets/base",
            "_view_module_version": "1.2.0",
            "_view_name": "LayoutView",
            "align_content": null,
            "align_items": null,
            "align_self": null,
            "border": null,
            "bottom": null,
            "display": null,
            "flex": null,
            "flex_flow": null,
            "grid_area": null,
            "grid_auto_columns": null,
            "grid_auto_flow": null,
            "grid_auto_rows": null,
            "grid_column": null,
            "grid_gap": null,
            "grid_row": null,
            "grid_template_areas": null,
            "grid_template_columns": null,
            "grid_template_rows": null,
            "height": null,
            "justify_content": null,
            "justify_items": null,
            "left": null,
            "margin": null,
            "max_height": null,
            "max_width": null,
            "min_height": null,
            "min_width": null,
            "object_fit": null,
            "object_position": null,
            "order": null,
            "overflow": null,
            "overflow_x": null,
            "overflow_y": null,
            "padding": null,
            "right": null,
            "top": null,
            "visibility": null,
            "width": null
          }
        },
        "f2e1df910bc540b18bb475cc86af71bb": {
          "model_module": "@jupyter-widgets/base",
          "model_name": "LayoutModel",
          "model_module_version": "1.2.0",
          "state": {
            "_model_module": "@jupyter-widgets/base",
            "_model_module_version": "1.2.0",
            "_model_name": "LayoutModel",
            "_view_count": null,
            "_view_module": "@jupyter-widgets/base",
            "_view_module_version": "1.2.0",
            "_view_name": "LayoutView",
            "align_content": null,
            "align_items": null,
            "align_self": null,
            "border": null,
            "bottom": null,
            "display": null,
            "flex": null,
            "flex_flow": null,
            "grid_area": null,
            "grid_auto_columns": null,
            "grid_auto_flow": null,
            "grid_auto_rows": null,
            "grid_column": null,
            "grid_gap": null,
            "grid_row": null,
            "grid_template_areas": null,
            "grid_template_columns": null,
            "grid_template_rows": null,
            "height": null,
            "justify_content": null,
            "justify_items": null,
            "left": null,
            "margin": null,
            "max_height": null,
            "max_width": null,
            "min_height": null,
            "min_width": null,
            "object_fit": null,
            "object_position": null,
            "order": null,
            "overflow": null,
            "overflow_x": null,
            "overflow_y": null,
            "padding": null,
            "right": null,
            "top": null,
            "visibility": null,
            "width": null
          }
        },
        "bce47517d6f146c4bc23a1a5a638f2d2": {
          "model_module": "@jupyter-widgets/controls",
          "model_name": "DescriptionStyleModel",
          "model_module_version": "1.5.0",
          "state": {
            "_model_module": "@jupyter-widgets/controls",
            "_model_module_version": "1.5.0",
            "_model_name": "DescriptionStyleModel",
            "_view_count": null,
            "_view_module": "@jupyter-widgets/base",
            "_view_module_version": "1.2.0",
            "_view_name": "StyleView",
            "description_width": ""
          }
        },
        "47e35588cf7146d8b31e69384db83e33": {
          "model_module": "@jupyter-widgets/base",
          "model_name": "LayoutModel",
          "model_module_version": "1.2.0",
          "state": {
            "_model_module": "@jupyter-widgets/base",
            "_model_module_version": "1.2.0",
            "_model_name": "LayoutModel",
            "_view_count": null,
            "_view_module": "@jupyter-widgets/base",
            "_view_module_version": "1.2.0",
            "_view_name": "LayoutView",
            "align_content": null,
            "align_items": null,
            "align_self": null,
            "border": null,
            "bottom": null,
            "display": null,
            "flex": null,
            "flex_flow": null,
            "grid_area": null,
            "grid_auto_columns": null,
            "grid_auto_flow": null,
            "grid_auto_rows": null,
            "grid_column": null,
            "grid_gap": null,
            "grid_row": null,
            "grid_template_areas": null,
            "grid_template_columns": null,
            "grid_template_rows": null,
            "height": null,
            "justify_content": null,
            "justify_items": null,
            "left": null,
            "margin": null,
            "max_height": null,
            "max_width": null,
            "min_height": null,
            "min_width": null,
            "object_fit": null,
            "object_position": null,
            "order": null,
            "overflow": null,
            "overflow_x": null,
            "overflow_y": null,
            "padding": null,
            "right": null,
            "top": null,
            "visibility": null,
            "width": null
          }
        },
        "0791f4b2f56049c88f13b688477d9aef": {
          "model_module": "@jupyter-widgets/controls",
          "model_name": "ProgressStyleModel",
          "model_module_version": "1.5.0",
          "state": {
            "_model_module": "@jupyter-widgets/controls",
            "_model_module_version": "1.5.0",
            "_model_name": "ProgressStyleModel",
            "_view_count": null,
            "_view_module": "@jupyter-widgets/base",
            "_view_module_version": "1.2.0",
            "_view_name": "StyleView",
            "bar_color": null,
            "description_width": ""
          }
        },
        "f3ac9ebf0e0b46f7a942746b500d9d5c": {
          "model_module": "@jupyter-widgets/base",
          "model_name": "LayoutModel",
          "model_module_version": "1.2.0",
          "state": {
            "_model_module": "@jupyter-widgets/base",
            "_model_module_version": "1.2.0",
            "_model_name": "LayoutModel",
            "_view_count": null,
            "_view_module": "@jupyter-widgets/base",
            "_view_module_version": "1.2.0",
            "_view_name": "LayoutView",
            "align_content": null,
            "align_items": null,
            "align_self": null,
            "border": null,
            "bottom": null,
            "display": null,
            "flex": null,
            "flex_flow": null,
            "grid_area": null,
            "grid_auto_columns": null,
            "grid_auto_flow": null,
            "grid_auto_rows": null,
            "grid_column": null,
            "grid_gap": null,
            "grid_row": null,
            "grid_template_areas": null,
            "grid_template_columns": null,
            "grid_template_rows": null,
            "height": null,
            "justify_content": null,
            "justify_items": null,
            "left": null,
            "margin": null,
            "max_height": null,
            "max_width": null,
            "min_height": null,
            "min_width": null,
            "object_fit": null,
            "object_position": null,
            "order": null,
            "overflow": null,
            "overflow_x": null,
            "overflow_y": null,
            "padding": null,
            "right": null,
            "top": null,
            "visibility": null,
            "width": null
          }
        },
        "85b7d8ca3ae94de3b5970715ee6f822f": {
          "model_module": "@jupyter-widgets/controls",
          "model_name": "DescriptionStyleModel",
          "model_module_version": "1.5.0",
          "state": {
            "_model_module": "@jupyter-widgets/controls",
            "_model_module_version": "1.5.0",
            "_model_name": "DescriptionStyleModel",
            "_view_count": null,
            "_view_module": "@jupyter-widgets/base",
            "_view_module_version": "1.2.0",
            "_view_name": "StyleView",
            "description_width": ""
          }
        },
        "552cbcd92e944196a98b0e3e5f1e3985": {
          "model_module": "@jupyter-widgets/controls",
          "model_name": "HBoxModel",
          "model_module_version": "1.5.0",
          "state": {
            "_dom_classes": [],
            "_model_module": "@jupyter-widgets/controls",
            "_model_module_version": "1.5.0",
            "_model_name": "HBoxModel",
            "_view_count": null,
            "_view_module": "@jupyter-widgets/controls",
            "_view_module_version": "1.5.0",
            "_view_name": "HBoxView",
            "box_style": "",
            "children": [
              "IPY_MODEL_645892bd2edd40d28ff5dc66c1723b0d",
              "IPY_MODEL_569f6e232cfb4d068254e13feb31f586",
              "IPY_MODEL_cfd1aadbd14b4e518244fab85ecd51a1"
            ],
            "layout": "IPY_MODEL_93a91d92e4304399a6e4cc25ea51b04a"
          }
        },
        "645892bd2edd40d28ff5dc66c1723b0d": {
          "model_module": "@jupyter-widgets/controls",
          "model_name": "HTMLModel",
          "model_module_version": "1.5.0",
          "state": {
            "_dom_classes": [],
            "_model_module": "@jupyter-widgets/controls",
            "_model_module_version": "1.5.0",
            "_model_name": "HTMLModel",
            "_view_count": null,
            "_view_module": "@jupyter-widgets/controls",
            "_view_module_version": "1.5.0",
            "_view_name": "HTMLView",
            "description": "",
            "description_tooltip": null,
            "layout": "IPY_MODEL_45a6240225e64ac1abc18c37cade3188",
            "placeholder": "​",
            "style": "IPY_MODEL_147431dd307c46549579123fceaef486",
            "value": "Downloading pytorch_model.bin: 100%"
          }
        },
        "569f6e232cfb4d068254e13feb31f586": {
          "model_module": "@jupyter-widgets/controls",
          "model_name": "FloatProgressModel",
          "model_module_version": "1.5.0",
          "state": {
            "_dom_classes": [],
            "_model_module": "@jupyter-widgets/controls",
            "_model_module_version": "1.5.0",
            "_model_name": "FloatProgressModel",
            "_view_count": null,
            "_view_module": "@jupyter-widgets/controls",
            "_view_module_version": "1.5.0",
            "_view_name": "ProgressView",
            "bar_style": "success",
            "description": "",
            "description_tooltip": null,
            "layout": "IPY_MODEL_53a06f658d7b48afaf34048e95dd3392",
            "max": 501045531,
            "min": 0,
            "orientation": "horizontal",
            "style": "IPY_MODEL_deb917ddfc364225ac98ef1029025ec1",
            "value": 501045531
          }
        },
        "cfd1aadbd14b4e518244fab85ecd51a1": {
          "model_module": "@jupyter-widgets/controls",
          "model_name": "HTMLModel",
          "model_module_version": "1.5.0",
          "state": {
            "_dom_classes": [],
            "_model_module": "@jupyter-widgets/controls",
            "_model_module_version": "1.5.0",
            "_model_name": "HTMLModel",
            "_view_count": null,
            "_view_module": "@jupyter-widgets/controls",
            "_view_module_version": "1.5.0",
            "_view_name": "HTMLView",
            "description": "",
            "description_tooltip": null,
            "layout": "IPY_MODEL_cb45748452f94a9e91192317133cbf8f",
            "placeholder": "​",
            "style": "IPY_MODEL_dcfe13cc41be41f5b8752ff867a79a12",
            "value": " 501M/501M [00:02&lt;00:00, 226MB/s]"
          }
        },
        "93a91d92e4304399a6e4cc25ea51b04a": {
          "model_module": "@jupyter-widgets/base",
          "model_name": "LayoutModel",
          "model_module_version": "1.2.0",
          "state": {
            "_model_module": "@jupyter-widgets/base",
            "_model_module_version": "1.2.0",
            "_model_name": "LayoutModel",
            "_view_count": null,
            "_view_module": "@jupyter-widgets/base",
            "_view_module_version": "1.2.0",
            "_view_name": "LayoutView",
            "align_content": null,
            "align_items": null,
            "align_self": null,
            "border": null,
            "bottom": null,
            "display": null,
            "flex": null,
            "flex_flow": null,
            "grid_area": null,
            "grid_auto_columns": null,
            "grid_auto_flow": null,
            "grid_auto_rows": null,
            "grid_column": null,
            "grid_gap": null,
            "grid_row": null,
            "grid_template_areas": null,
            "grid_template_columns": null,
            "grid_template_rows": null,
            "height": null,
            "justify_content": null,
            "justify_items": null,
            "left": null,
            "margin": null,
            "max_height": null,
            "max_width": null,
            "min_height": null,
            "min_width": null,
            "object_fit": null,
            "object_position": null,
            "order": null,
            "overflow": null,
            "overflow_x": null,
            "overflow_y": null,
            "padding": null,
            "right": null,
            "top": null,
            "visibility": null,
            "width": null
          }
        },
        "45a6240225e64ac1abc18c37cade3188": {
          "model_module": "@jupyter-widgets/base",
          "model_name": "LayoutModel",
          "model_module_version": "1.2.0",
          "state": {
            "_model_module": "@jupyter-widgets/base",
            "_model_module_version": "1.2.0",
            "_model_name": "LayoutModel",
            "_view_count": null,
            "_view_module": "@jupyter-widgets/base",
            "_view_module_version": "1.2.0",
            "_view_name": "LayoutView",
            "align_content": null,
            "align_items": null,
            "align_self": null,
            "border": null,
            "bottom": null,
            "display": null,
            "flex": null,
            "flex_flow": null,
            "grid_area": null,
            "grid_auto_columns": null,
            "grid_auto_flow": null,
            "grid_auto_rows": null,
            "grid_column": null,
            "grid_gap": null,
            "grid_row": null,
            "grid_template_areas": null,
            "grid_template_columns": null,
            "grid_template_rows": null,
            "height": null,
            "justify_content": null,
            "justify_items": null,
            "left": null,
            "margin": null,
            "max_height": null,
            "max_width": null,
            "min_height": null,
            "min_width": null,
            "object_fit": null,
            "object_position": null,
            "order": null,
            "overflow": null,
            "overflow_x": null,
            "overflow_y": null,
            "padding": null,
            "right": null,
            "top": null,
            "visibility": null,
            "width": null
          }
        },
        "147431dd307c46549579123fceaef486": {
          "model_module": "@jupyter-widgets/controls",
          "model_name": "DescriptionStyleModel",
          "model_module_version": "1.5.0",
          "state": {
            "_model_module": "@jupyter-widgets/controls",
            "_model_module_version": "1.5.0",
            "_model_name": "DescriptionStyleModel",
            "_view_count": null,
            "_view_module": "@jupyter-widgets/base",
            "_view_module_version": "1.2.0",
            "_view_name": "StyleView",
            "description_width": ""
          }
        },
        "53a06f658d7b48afaf34048e95dd3392": {
          "model_module": "@jupyter-widgets/base",
          "model_name": "LayoutModel",
          "model_module_version": "1.2.0",
          "state": {
            "_model_module": "@jupyter-widgets/base",
            "_model_module_version": "1.2.0",
            "_model_name": "LayoutModel",
            "_view_count": null,
            "_view_module": "@jupyter-widgets/base",
            "_view_module_version": "1.2.0",
            "_view_name": "LayoutView",
            "align_content": null,
            "align_items": null,
            "align_self": null,
            "border": null,
            "bottom": null,
            "display": null,
            "flex": null,
            "flex_flow": null,
            "grid_area": null,
            "grid_auto_columns": null,
            "grid_auto_flow": null,
            "grid_auto_rows": null,
            "grid_column": null,
            "grid_gap": null,
            "grid_row": null,
            "grid_template_areas": null,
            "grid_template_columns": null,
            "grid_template_rows": null,
            "height": null,
            "justify_content": null,
            "justify_items": null,
            "left": null,
            "margin": null,
            "max_height": null,
            "max_width": null,
            "min_height": null,
            "min_width": null,
            "object_fit": null,
            "object_position": null,
            "order": null,
            "overflow": null,
            "overflow_x": null,
            "overflow_y": null,
            "padding": null,
            "right": null,
            "top": null,
            "visibility": null,
            "width": null
          }
        },
        "deb917ddfc364225ac98ef1029025ec1": {
          "model_module": "@jupyter-widgets/controls",
          "model_name": "ProgressStyleModel",
          "model_module_version": "1.5.0",
          "state": {
            "_model_module": "@jupyter-widgets/controls",
            "_model_module_version": "1.5.0",
            "_model_name": "ProgressStyleModel",
            "_view_count": null,
            "_view_module": "@jupyter-widgets/base",
            "_view_module_version": "1.2.0",
            "_view_name": "StyleView",
            "bar_color": null,
            "description_width": ""
          }
        },
        "cb45748452f94a9e91192317133cbf8f": {
          "model_module": "@jupyter-widgets/base",
          "model_name": "LayoutModel",
          "model_module_version": "1.2.0",
          "state": {
            "_model_module": "@jupyter-widgets/base",
            "_model_module_version": "1.2.0",
            "_model_name": "LayoutModel",
            "_view_count": null,
            "_view_module": "@jupyter-widgets/base",
            "_view_module_version": "1.2.0",
            "_view_name": "LayoutView",
            "align_content": null,
            "align_items": null,
            "align_self": null,
            "border": null,
            "bottom": null,
            "display": null,
            "flex": null,
            "flex_flow": null,
            "grid_area": null,
            "grid_auto_columns": null,
            "grid_auto_flow": null,
            "grid_auto_rows": null,
            "grid_column": null,
            "grid_gap": null,
            "grid_row": null,
            "grid_template_areas": null,
            "grid_template_columns": null,
            "grid_template_rows": null,
            "height": null,
            "justify_content": null,
            "justify_items": null,
            "left": null,
            "margin": null,
            "max_height": null,
            "max_width": null,
            "min_height": null,
            "min_width": null,
            "object_fit": null,
            "object_position": null,
            "order": null,
            "overflow": null,
            "overflow_x": null,
            "overflow_y": null,
            "padding": null,
            "right": null,
            "top": null,
            "visibility": null,
            "width": null
          }
        },
        "dcfe13cc41be41f5b8752ff867a79a12": {
          "model_module": "@jupyter-widgets/controls",
          "model_name": "DescriptionStyleModel",
          "model_module_version": "1.5.0",
          "state": {
            "_model_module": "@jupyter-widgets/controls",
            "_model_module_version": "1.5.0",
            "_model_name": "DescriptionStyleModel",
            "_view_count": null,
            "_view_module": "@jupyter-widgets/base",
            "_view_module_version": "1.2.0",
            "_view_name": "StyleView",
            "description_width": ""
          }
        },
        "2330518379954ff693d8d2fd53d768f9": {
          "model_module": "@jupyter-widgets/controls",
          "model_name": "HBoxModel",
          "model_module_version": "1.5.0",
          "state": {
            "_dom_classes": [],
            "_model_module": "@jupyter-widgets/controls",
            "_model_module_version": "1.5.0",
            "_model_name": "HBoxModel",
            "_view_count": null,
            "_view_module": "@jupyter-widgets/controls",
            "_view_module_version": "1.5.0",
            "_view_name": "HBoxView",
            "box_style": "",
            "children": [
              "IPY_MODEL_6ef4a4f37d6043d09507c431dfbd9eda",
              "IPY_MODEL_3b1bfd54a929461592f94b768ff77d72",
              "IPY_MODEL_936bd9c561314eed9aad38f86331b864"
            ],
            "layout": "IPY_MODEL_e8a44c64f1204176b9152720f27f264b"
          }
        },
        "6ef4a4f37d6043d09507c431dfbd9eda": {
          "model_module": "@jupyter-widgets/controls",
          "model_name": "HTMLModel",
          "model_module_version": "1.5.0",
          "state": {
            "_dom_classes": [],
            "_model_module": "@jupyter-widgets/controls",
            "_model_module_version": "1.5.0",
            "_model_name": "HTMLModel",
            "_view_count": null,
            "_view_module": "@jupyter-widgets/controls",
            "_view_module_version": "1.5.0",
            "_view_name": "HTMLView",
            "description": "",
            "description_tooltip": null,
            "layout": "IPY_MODEL_ad4a9ac3a14841f896212746fb0a765a",
            "placeholder": "​",
            "style": "IPY_MODEL_8c5e05aead804c8abbaf803c16969229",
            "value": "Downloading (…)olve/main/vocab.json: 100%"
          }
        },
        "3b1bfd54a929461592f94b768ff77d72": {
          "model_module": "@jupyter-widgets/controls",
          "model_name": "FloatProgressModel",
          "model_module_version": "1.5.0",
          "state": {
            "_dom_classes": [],
            "_model_module": "@jupyter-widgets/controls",
            "_model_module_version": "1.5.0",
            "_model_name": "FloatProgressModel",
            "_view_count": null,
            "_view_module": "@jupyter-widgets/controls",
            "_view_module_version": "1.5.0",
            "_view_name": "ProgressView",
            "bar_style": "success",
            "description": "",
            "description_tooltip": null,
            "layout": "IPY_MODEL_8190da95a22f486599d67cfebe20dddd",
            "max": 898822,
            "min": 0,
            "orientation": "horizontal",
            "style": "IPY_MODEL_690074bf38964baf997d8f55dd3f9d5c",
            "value": 898822
          }
        },
        "936bd9c561314eed9aad38f86331b864": {
          "model_module": "@jupyter-widgets/controls",
          "model_name": "HTMLModel",
          "model_module_version": "1.5.0",
          "state": {
            "_dom_classes": [],
            "_model_module": "@jupyter-widgets/controls",
            "_model_module_version": "1.5.0",
            "_model_name": "HTMLModel",
            "_view_count": null,
            "_view_module": "@jupyter-widgets/controls",
            "_view_module_version": "1.5.0",
            "_view_name": "HTMLView",
            "description": "",
            "description_tooltip": null,
            "layout": "IPY_MODEL_8d72ac5a930f43faa797e68f2811ad21",
            "placeholder": "​",
            "style": "IPY_MODEL_0a2e4a422dda47f58ae34fc70499c333",
            "value": " 899k/899k [00:00&lt;00:00, 3.50MB/s]"
          }
        },
        "e8a44c64f1204176b9152720f27f264b": {
          "model_module": "@jupyter-widgets/base",
          "model_name": "LayoutModel",
          "model_module_version": "1.2.0",
          "state": {
            "_model_module": "@jupyter-widgets/base",
            "_model_module_version": "1.2.0",
            "_model_name": "LayoutModel",
            "_view_count": null,
            "_view_module": "@jupyter-widgets/base",
            "_view_module_version": "1.2.0",
            "_view_name": "LayoutView",
            "align_content": null,
            "align_items": null,
            "align_self": null,
            "border": null,
            "bottom": null,
            "display": null,
            "flex": null,
            "flex_flow": null,
            "grid_area": null,
            "grid_auto_columns": null,
            "grid_auto_flow": null,
            "grid_auto_rows": null,
            "grid_column": null,
            "grid_gap": null,
            "grid_row": null,
            "grid_template_areas": null,
            "grid_template_columns": null,
            "grid_template_rows": null,
            "height": null,
            "justify_content": null,
            "justify_items": null,
            "left": null,
            "margin": null,
            "max_height": null,
            "max_width": null,
            "min_height": null,
            "min_width": null,
            "object_fit": null,
            "object_position": null,
            "order": null,
            "overflow": null,
            "overflow_x": null,
            "overflow_y": null,
            "padding": null,
            "right": null,
            "top": null,
            "visibility": null,
            "width": null
          }
        },
        "ad4a9ac3a14841f896212746fb0a765a": {
          "model_module": "@jupyter-widgets/base",
          "model_name": "LayoutModel",
          "model_module_version": "1.2.0",
          "state": {
            "_model_module": "@jupyter-widgets/base",
            "_model_module_version": "1.2.0",
            "_model_name": "LayoutModel",
            "_view_count": null,
            "_view_module": "@jupyter-widgets/base",
            "_view_module_version": "1.2.0",
            "_view_name": "LayoutView",
            "align_content": null,
            "align_items": null,
            "align_self": null,
            "border": null,
            "bottom": null,
            "display": null,
            "flex": null,
            "flex_flow": null,
            "grid_area": null,
            "grid_auto_columns": null,
            "grid_auto_flow": null,
            "grid_auto_rows": null,
            "grid_column": null,
            "grid_gap": null,
            "grid_row": null,
            "grid_template_areas": null,
            "grid_template_columns": null,
            "grid_template_rows": null,
            "height": null,
            "justify_content": null,
            "justify_items": null,
            "left": null,
            "margin": null,
            "max_height": null,
            "max_width": null,
            "min_height": null,
            "min_width": null,
            "object_fit": null,
            "object_position": null,
            "order": null,
            "overflow": null,
            "overflow_x": null,
            "overflow_y": null,
            "padding": null,
            "right": null,
            "top": null,
            "visibility": null,
            "width": null
          }
        },
        "8c5e05aead804c8abbaf803c16969229": {
          "model_module": "@jupyter-widgets/controls",
          "model_name": "DescriptionStyleModel",
          "model_module_version": "1.5.0",
          "state": {
            "_model_module": "@jupyter-widgets/controls",
            "_model_module_version": "1.5.0",
            "_model_name": "DescriptionStyleModel",
            "_view_count": null,
            "_view_module": "@jupyter-widgets/base",
            "_view_module_version": "1.2.0",
            "_view_name": "StyleView",
            "description_width": ""
          }
        },
        "8190da95a22f486599d67cfebe20dddd": {
          "model_module": "@jupyter-widgets/base",
          "model_name": "LayoutModel",
          "model_module_version": "1.2.0",
          "state": {
            "_model_module": "@jupyter-widgets/base",
            "_model_module_version": "1.2.0",
            "_model_name": "LayoutModel",
            "_view_count": null,
            "_view_module": "@jupyter-widgets/base",
            "_view_module_version": "1.2.0",
            "_view_name": "LayoutView",
            "align_content": null,
            "align_items": null,
            "align_self": null,
            "border": null,
            "bottom": null,
            "display": null,
            "flex": null,
            "flex_flow": null,
            "grid_area": null,
            "grid_auto_columns": null,
            "grid_auto_flow": null,
            "grid_auto_rows": null,
            "grid_column": null,
            "grid_gap": null,
            "grid_row": null,
            "grid_template_areas": null,
            "grid_template_columns": null,
            "grid_template_rows": null,
            "height": null,
            "justify_content": null,
            "justify_items": null,
            "left": null,
            "margin": null,
            "max_height": null,
            "max_width": null,
            "min_height": null,
            "min_width": null,
            "object_fit": null,
            "object_position": null,
            "order": null,
            "overflow": null,
            "overflow_x": null,
            "overflow_y": null,
            "padding": null,
            "right": null,
            "top": null,
            "visibility": null,
            "width": null
          }
        },
        "690074bf38964baf997d8f55dd3f9d5c": {
          "model_module": "@jupyter-widgets/controls",
          "model_name": "ProgressStyleModel",
          "model_module_version": "1.5.0",
          "state": {
            "_model_module": "@jupyter-widgets/controls",
            "_model_module_version": "1.5.0",
            "_model_name": "ProgressStyleModel",
            "_view_count": null,
            "_view_module": "@jupyter-widgets/base",
            "_view_module_version": "1.2.0",
            "_view_name": "StyleView",
            "bar_color": null,
            "description_width": ""
          }
        },
        "8d72ac5a930f43faa797e68f2811ad21": {
          "model_module": "@jupyter-widgets/base",
          "model_name": "LayoutModel",
          "model_module_version": "1.2.0",
          "state": {
            "_model_module": "@jupyter-widgets/base",
            "_model_module_version": "1.2.0",
            "_model_name": "LayoutModel",
            "_view_count": null,
            "_view_module": "@jupyter-widgets/base",
            "_view_module_version": "1.2.0",
            "_view_name": "LayoutView",
            "align_content": null,
            "align_items": null,
            "align_self": null,
            "border": null,
            "bottom": null,
            "display": null,
            "flex": null,
            "flex_flow": null,
            "grid_area": null,
            "grid_auto_columns": null,
            "grid_auto_flow": null,
            "grid_auto_rows": null,
            "grid_column": null,
            "grid_gap": null,
            "grid_row": null,
            "grid_template_areas": null,
            "grid_template_columns": null,
            "grid_template_rows": null,
            "height": null,
            "justify_content": null,
            "justify_items": null,
            "left": null,
            "margin": null,
            "max_height": null,
            "max_width": null,
            "min_height": null,
            "min_width": null,
            "object_fit": null,
            "object_position": null,
            "order": null,
            "overflow": null,
            "overflow_x": null,
            "overflow_y": null,
            "padding": null,
            "right": null,
            "top": null,
            "visibility": null,
            "width": null
          }
        },
        "0a2e4a422dda47f58ae34fc70499c333": {
          "model_module": "@jupyter-widgets/controls",
          "model_name": "DescriptionStyleModel",
          "model_module_version": "1.5.0",
          "state": {
            "_model_module": "@jupyter-widgets/controls",
            "_model_module_version": "1.5.0",
            "_model_name": "DescriptionStyleModel",
            "_view_count": null,
            "_view_module": "@jupyter-widgets/base",
            "_view_module_version": "1.2.0",
            "_view_name": "StyleView",
            "description_width": ""
          }
        },
        "6710073a5d0b43d1ae0e83a2aca25364": {
          "model_module": "@jupyter-widgets/controls",
          "model_name": "HBoxModel",
          "model_module_version": "1.5.0",
          "state": {
            "_dom_classes": [],
            "_model_module": "@jupyter-widgets/controls",
            "_model_module_version": "1.5.0",
            "_model_name": "HBoxModel",
            "_view_count": null,
            "_view_module": "@jupyter-widgets/controls",
            "_view_module_version": "1.5.0",
            "_view_name": "HBoxView",
            "box_style": "",
            "children": [
              "IPY_MODEL_67b4d5d967b54611b9c873e954cd9903",
              "IPY_MODEL_32ac4ef808874a438a7727f8bdb7c030",
              "IPY_MODEL_108e71053ae9461091df1417f843d29b"
            ],
            "layout": "IPY_MODEL_17dbb33c14724cd7acd1fdfc59ff5131"
          }
        },
        "67b4d5d967b54611b9c873e954cd9903": {
          "model_module": "@jupyter-widgets/controls",
          "model_name": "HTMLModel",
          "model_module_version": "1.5.0",
          "state": {
            "_dom_classes": [],
            "_model_module": "@jupyter-widgets/controls",
            "_model_module_version": "1.5.0",
            "_model_name": "HTMLModel",
            "_view_count": null,
            "_view_module": "@jupyter-widgets/controls",
            "_view_module_version": "1.5.0",
            "_view_name": "HTMLView",
            "description": "",
            "description_tooltip": null,
            "layout": "IPY_MODEL_c1e44886818948b09e31a92fe9aa83d2",
            "placeholder": "​",
            "style": "IPY_MODEL_9f0d01df435c43f88a45f50c9962e40c",
            "value": "Downloading (…)olve/main/merges.txt: 100%"
          }
        },
        "32ac4ef808874a438a7727f8bdb7c030": {
          "model_module": "@jupyter-widgets/controls",
          "model_name": "FloatProgressModel",
          "model_module_version": "1.5.0",
          "state": {
            "_dom_classes": [],
            "_model_module": "@jupyter-widgets/controls",
            "_model_module_version": "1.5.0",
            "_model_name": "FloatProgressModel",
            "_view_count": null,
            "_view_module": "@jupyter-widgets/controls",
            "_view_module_version": "1.5.0",
            "_view_name": "ProgressView",
            "bar_style": "success",
            "description": "",
            "description_tooltip": null,
            "layout": "IPY_MODEL_f0023e58d7a643169c0bb350eb733226",
            "max": 456318,
            "min": 0,
            "orientation": "horizontal",
            "style": "IPY_MODEL_3deacbf46b104fe2bc44e19242d1009c",
            "value": 456318
          }
        },
        "108e71053ae9461091df1417f843d29b": {
          "model_module": "@jupyter-widgets/controls",
          "model_name": "HTMLModel",
          "model_module_version": "1.5.0",
          "state": {
            "_dom_classes": [],
            "_model_module": "@jupyter-widgets/controls",
            "_model_module_version": "1.5.0",
            "_model_name": "HTMLModel",
            "_view_count": null,
            "_view_module": "@jupyter-widgets/controls",
            "_view_module_version": "1.5.0",
            "_view_name": "HTMLView",
            "description": "",
            "description_tooltip": null,
            "layout": "IPY_MODEL_82ab2251a1cb46e586f14d3d13634770",
            "placeholder": "​",
            "style": "IPY_MODEL_6000831eb5ce4d3e8b212aa083c1b2e1",
            "value": " 456k/456k [00:00&lt;00:00, 18.9MB/s]"
          }
        },
        "17dbb33c14724cd7acd1fdfc59ff5131": {
          "model_module": "@jupyter-widgets/base",
          "model_name": "LayoutModel",
          "model_module_version": "1.2.0",
          "state": {
            "_model_module": "@jupyter-widgets/base",
            "_model_module_version": "1.2.0",
            "_model_name": "LayoutModel",
            "_view_count": null,
            "_view_module": "@jupyter-widgets/base",
            "_view_module_version": "1.2.0",
            "_view_name": "LayoutView",
            "align_content": null,
            "align_items": null,
            "align_self": null,
            "border": null,
            "bottom": null,
            "display": null,
            "flex": null,
            "flex_flow": null,
            "grid_area": null,
            "grid_auto_columns": null,
            "grid_auto_flow": null,
            "grid_auto_rows": null,
            "grid_column": null,
            "grid_gap": null,
            "grid_row": null,
            "grid_template_areas": null,
            "grid_template_columns": null,
            "grid_template_rows": null,
            "height": null,
            "justify_content": null,
            "justify_items": null,
            "left": null,
            "margin": null,
            "max_height": null,
            "max_width": null,
            "min_height": null,
            "min_width": null,
            "object_fit": null,
            "object_position": null,
            "order": null,
            "overflow": null,
            "overflow_x": null,
            "overflow_y": null,
            "padding": null,
            "right": null,
            "top": null,
            "visibility": null,
            "width": null
          }
        },
        "c1e44886818948b09e31a92fe9aa83d2": {
          "model_module": "@jupyter-widgets/base",
          "model_name": "LayoutModel",
          "model_module_version": "1.2.0",
          "state": {
            "_model_module": "@jupyter-widgets/base",
            "_model_module_version": "1.2.0",
            "_model_name": "LayoutModel",
            "_view_count": null,
            "_view_module": "@jupyter-widgets/base",
            "_view_module_version": "1.2.0",
            "_view_name": "LayoutView",
            "align_content": null,
            "align_items": null,
            "align_self": null,
            "border": null,
            "bottom": null,
            "display": null,
            "flex": null,
            "flex_flow": null,
            "grid_area": null,
            "grid_auto_columns": null,
            "grid_auto_flow": null,
            "grid_auto_rows": null,
            "grid_column": null,
            "grid_gap": null,
            "grid_row": null,
            "grid_template_areas": null,
            "grid_template_columns": null,
            "grid_template_rows": null,
            "height": null,
            "justify_content": null,
            "justify_items": null,
            "left": null,
            "margin": null,
            "max_height": null,
            "max_width": null,
            "min_height": null,
            "min_width": null,
            "object_fit": null,
            "object_position": null,
            "order": null,
            "overflow": null,
            "overflow_x": null,
            "overflow_y": null,
            "padding": null,
            "right": null,
            "top": null,
            "visibility": null,
            "width": null
          }
        },
        "9f0d01df435c43f88a45f50c9962e40c": {
          "model_module": "@jupyter-widgets/controls",
          "model_name": "DescriptionStyleModel",
          "model_module_version": "1.5.0",
          "state": {
            "_model_module": "@jupyter-widgets/controls",
            "_model_module_version": "1.5.0",
            "_model_name": "DescriptionStyleModel",
            "_view_count": null,
            "_view_module": "@jupyter-widgets/base",
            "_view_module_version": "1.2.0",
            "_view_name": "StyleView",
            "description_width": ""
          }
        },
        "f0023e58d7a643169c0bb350eb733226": {
          "model_module": "@jupyter-widgets/base",
          "model_name": "LayoutModel",
          "model_module_version": "1.2.0",
          "state": {
            "_model_module": "@jupyter-widgets/base",
            "_model_module_version": "1.2.0",
            "_model_name": "LayoutModel",
            "_view_count": null,
            "_view_module": "@jupyter-widgets/base",
            "_view_module_version": "1.2.0",
            "_view_name": "LayoutView",
            "align_content": null,
            "align_items": null,
            "align_self": null,
            "border": null,
            "bottom": null,
            "display": null,
            "flex": null,
            "flex_flow": null,
            "grid_area": null,
            "grid_auto_columns": null,
            "grid_auto_flow": null,
            "grid_auto_rows": null,
            "grid_column": null,
            "grid_gap": null,
            "grid_row": null,
            "grid_template_areas": null,
            "grid_template_columns": null,
            "grid_template_rows": null,
            "height": null,
            "justify_content": null,
            "justify_items": null,
            "left": null,
            "margin": null,
            "max_height": null,
            "max_width": null,
            "min_height": null,
            "min_width": null,
            "object_fit": null,
            "object_position": null,
            "order": null,
            "overflow": null,
            "overflow_x": null,
            "overflow_y": null,
            "padding": null,
            "right": null,
            "top": null,
            "visibility": null,
            "width": null
          }
        },
        "3deacbf46b104fe2bc44e19242d1009c": {
          "model_module": "@jupyter-widgets/controls",
          "model_name": "ProgressStyleModel",
          "model_module_version": "1.5.0",
          "state": {
            "_model_module": "@jupyter-widgets/controls",
            "_model_module_version": "1.5.0",
            "_model_name": "ProgressStyleModel",
            "_view_count": null,
            "_view_module": "@jupyter-widgets/base",
            "_view_module_version": "1.2.0",
            "_view_name": "StyleView",
            "bar_color": null,
            "description_width": ""
          }
        },
        "82ab2251a1cb46e586f14d3d13634770": {
          "model_module": "@jupyter-widgets/base",
          "model_name": "LayoutModel",
          "model_module_version": "1.2.0",
          "state": {
            "_model_module": "@jupyter-widgets/base",
            "_model_module_version": "1.2.0",
            "_model_name": "LayoutModel",
            "_view_count": null,
            "_view_module": "@jupyter-widgets/base",
            "_view_module_version": "1.2.0",
            "_view_name": "LayoutView",
            "align_content": null,
            "align_items": null,
            "align_self": null,
            "border": null,
            "bottom": null,
            "display": null,
            "flex": null,
            "flex_flow": null,
            "grid_area": null,
            "grid_auto_columns": null,
            "grid_auto_flow": null,
            "grid_auto_rows": null,
            "grid_column": null,
            "grid_gap": null,
            "grid_row": null,
            "grid_template_areas": null,
            "grid_template_columns": null,
            "grid_template_rows": null,
            "height": null,
            "justify_content": null,
            "justify_items": null,
            "left": null,
            "margin": null,
            "max_height": null,
            "max_width": null,
            "min_height": null,
            "min_width": null,
            "object_fit": null,
            "object_position": null,
            "order": null,
            "overflow": null,
            "overflow_x": null,
            "overflow_y": null,
            "padding": null,
            "right": null,
            "top": null,
            "visibility": null,
            "width": null
          }
        },
        "6000831eb5ce4d3e8b212aa083c1b2e1": {
          "model_module": "@jupyter-widgets/controls",
          "model_name": "DescriptionStyleModel",
          "model_module_version": "1.5.0",
          "state": {
            "_model_module": "@jupyter-widgets/controls",
            "_model_module_version": "1.5.0",
            "_model_name": "DescriptionStyleModel",
            "_view_count": null,
            "_view_module": "@jupyter-widgets/base",
            "_view_module_version": "1.2.0",
            "_view_name": "StyleView",
            "description_width": ""
          }
        },
        "eb1374b91c804e4d94b96d607f5666fe": {
          "model_module": "@jupyter-widgets/controls",
          "model_name": "HBoxModel",
          "model_module_version": "1.5.0",
          "state": {
            "_dom_classes": [],
            "_model_module": "@jupyter-widgets/controls",
            "_model_module_version": "1.5.0",
            "_model_name": "HBoxModel",
            "_view_count": null,
            "_view_module": "@jupyter-widgets/controls",
            "_view_module_version": "1.5.0",
            "_view_name": "HBoxView",
            "box_style": "",
            "children": [
              "IPY_MODEL_9d72d3768dee4de896d8a4bedd55aa0d",
              "IPY_MODEL_4371b9328a314e37851713417c4f02bf",
              "IPY_MODEL_f81e1453d88c4c06b5dc90fd3e244c42"
            ],
            "layout": "IPY_MODEL_1c405292a1b546f48af1ff6b0cea43f7"
          }
        },
        "9d72d3768dee4de896d8a4bedd55aa0d": {
          "model_module": "@jupyter-widgets/controls",
          "model_name": "HTMLModel",
          "model_module_version": "1.5.0",
          "state": {
            "_dom_classes": [],
            "_model_module": "@jupyter-widgets/controls",
            "_model_module_version": "1.5.0",
            "_model_name": "HTMLModel",
            "_view_count": null,
            "_view_module": "@jupyter-widgets/controls",
            "_view_module_version": "1.5.0",
            "_view_name": "HTMLView",
            "description": "",
            "description_tooltip": null,
            "layout": "IPY_MODEL_938cb86519b24de58e0ef0665450ff2c",
            "placeholder": "​",
            "style": "IPY_MODEL_e361486f768049ada85d74cb9c5135d4",
            "value": "Downloading (…)cial_tokens_map.json: 100%"
          }
        },
        "4371b9328a314e37851713417c4f02bf": {
          "model_module": "@jupyter-widgets/controls",
          "model_name": "FloatProgressModel",
          "model_module_version": "1.5.0",
          "state": {
            "_dom_classes": [],
            "_model_module": "@jupyter-widgets/controls",
            "_model_module_version": "1.5.0",
            "_model_name": "FloatProgressModel",
            "_view_count": null,
            "_view_module": "@jupyter-widgets/controls",
            "_view_module_version": "1.5.0",
            "_view_name": "ProgressView",
            "bar_style": "success",
            "description": "",
            "description_tooltip": null,
            "layout": "IPY_MODEL_5d6f1ff565e242958229f0a51d61186b",
            "max": 239,
            "min": 0,
            "orientation": "horizontal",
            "style": "IPY_MODEL_d66c7440897143c582658e9b7a2ee2db",
            "value": 239
          }
        },
        "f81e1453d88c4c06b5dc90fd3e244c42": {
          "model_module": "@jupyter-widgets/controls",
          "model_name": "HTMLModel",
          "model_module_version": "1.5.0",
          "state": {
            "_dom_classes": [],
            "_model_module": "@jupyter-widgets/controls",
            "_model_module_version": "1.5.0",
            "_model_name": "HTMLModel",
            "_view_count": null,
            "_view_module": "@jupyter-widgets/controls",
            "_view_module_version": "1.5.0",
            "_view_name": "HTMLView",
            "description": "",
            "description_tooltip": null,
            "layout": "IPY_MODEL_eac971d0210e488cac78b3e3da3983c6",
            "placeholder": "​",
            "style": "IPY_MODEL_1301e1d15f57402dbda5f921ce317449",
            "value": " 239/239 [00:00&lt;00:00, 3.86kB/s]"
          }
        },
        "1c405292a1b546f48af1ff6b0cea43f7": {
          "model_module": "@jupyter-widgets/base",
          "model_name": "LayoutModel",
          "model_module_version": "1.2.0",
          "state": {
            "_model_module": "@jupyter-widgets/base",
            "_model_module_version": "1.2.0",
            "_model_name": "LayoutModel",
            "_view_count": null,
            "_view_module": "@jupyter-widgets/base",
            "_view_module_version": "1.2.0",
            "_view_name": "LayoutView",
            "align_content": null,
            "align_items": null,
            "align_self": null,
            "border": null,
            "bottom": null,
            "display": null,
            "flex": null,
            "flex_flow": null,
            "grid_area": null,
            "grid_auto_columns": null,
            "grid_auto_flow": null,
            "grid_auto_rows": null,
            "grid_column": null,
            "grid_gap": null,
            "grid_row": null,
            "grid_template_areas": null,
            "grid_template_columns": null,
            "grid_template_rows": null,
            "height": null,
            "justify_content": null,
            "justify_items": null,
            "left": null,
            "margin": null,
            "max_height": null,
            "max_width": null,
            "min_height": null,
            "min_width": null,
            "object_fit": null,
            "object_position": null,
            "order": null,
            "overflow": null,
            "overflow_x": null,
            "overflow_y": null,
            "padding": null,
            "right": null,
            "top": null,
            "visibility": null,
            "width": null
          }
        },
        "938cb86519b24de58e0ef0665450ff2c": {
          "model_module": "@jupyter-widgets/base",
          "model_name": "LayoutModel",
          "model_module_version": "1.2.0",
          "state": {
            "_model_module": "@jupyter-widgets/base",
            "_model_module_version": "1.2.0",
            "_model_name": "LayoutModel",
            "_view_count": null,
            "_view_module": "@jupyter-widgets/base",
            "_view_module_version": "1.2.0",
            "_view_name": "LayoutView",
            "align_content": null,
            "align_items": null,
            "align_self": null,
            "border": null,
            "bottom": null,
            "display": null,
            "flex": null,
            "flex_flow": null,
            "grid_area": null,
            "grid_auto_columns": null,
            "grid_auto_flow": null,
            "grid_auto_rows": null,
            "grid_column": null,
            "grid_gap": null,
            "grid_row": null,
            "grid_template_areas": null,
            "grid_template_columns": null,
            "grid_template_rows": null,
            "height": null,
            "justify_content": null,
            "justify_items": null,
            "left": null,
            "margin": null,
            "max_height": null,
            "max_width": null,
            "min_height": null,
            "min_width": null,
            "object_fit": null,
            "object_position": null,
            "order": null,
            "overflow": null,
            "overflow_x": null,
            "overflow_y": null,
            "padding": null,
            "right": null,
            "top": null,
            "visibility": null,
            "width": null
          }
        },
        "e361486f768049ada85d74cb9c5135d4": {
          "model_module": "@jupyter-widgets/controls",
          "model_name": "DescriptionStyleModel",
          "model_module_version": "1.5.0",
          "state": {
            "_model_module": "@jupyter-widgets/controls",
            "_model_module_version": "1.5.0",
            "_model_name": "DescriptionStyleModel",
            "_view_count": null,
            "_view_module": "@jupyter-widgets/base",
            "_view_module_version": "1.2.0",
            "_view_name": "StyleView",
            "description_width": ""
          }
        },
        "5d6f1ff565e242958229f0a51d61186b": {
          "model_module": "@jupyter-widgets/base",
          "model_name": "LayoutModel",
          "model_module_version": "1.2.0",
          "state": {
            "_model_module": "@jupyter-widgets/base",
            "_model_module_version": "1.2.0",
            "_model_name": "LayoutModel",
            "_view_count": null,
            "_view_module": "@jupyter-widgets/base",
            "_view_module_version": "1.2.0",
            "_view_name": "LayoutView",
            "align_content": null,
            "align_items": null,
            "align_self": null,
            "border": null,
            "bottom": null,
            "display": null,
            "flex": null,
            "flex_flow": null,
            "grid_area": null,
            "grid_auto_columns": null,
            "grid_auto_flow": null,
            "grid_auto_rows": null,
            "grid_column": null,
            "grid_gap": null,
            "grid_row": null,
            "grid_template_areas": null,
            "grid_template_columns": null,
            "grid_template_rows": null,
            "height": null,
            "justify_content": null,
            "justify_items": null,
            "left": null,
            "margin": null,
            "max_height": null,
            "max_width": null,
            "min_height": null,
            "min_width": null,
            "object_fit": null,
            "object_position": null,
            "order": null,
            "overflow": null,
            "overflow_x": null,
            "overflow_y": null,
            "padding": null,
            "right": null,
            "top": null,
            "visibility": null,
            "width": null
          }
        },
        "d66c7440897143c582658e9b7a2ee2db": {
          "model_module": "@jupyter-widgets/controls",
          "model_name": "ProgressStyleModel",
          "model_module_version": "1.5.0",
          "state": {
            "_model_module": "@jupyter-widgets/controls",
            "_model_module_version": "1.5.0",
            "_model_name": "ProgressStyleModel",
            "_view_count": null,
            "_view_module": "@jupyter-widgets/base",
            "_view_module_version": "1.2.0",
            "_view_name": "StyleView",
            "bar_color": null,
            "description_width": ""
          }
        },
        "eac971d0210e488cac78b3e3da3983c6": {
          "model_module": "@jupyter-widgets/base",
          "model_name": "LayoutModel",
          "model_module_version": "1.2.0",
          "state": {
            "_model_module": "@jupyter-widgets/base",
            "_model_module_version": "1.2.0",
            "_model_name": "LayoutModel",
            "_view_count": null,
            "_view_module": "@jupyter-widgets/base",
            "_view_module_version": "1.2.0",
            "_view_name": "LayoutView",
            "align_content": null,
            "align_items": null,
            "align_self": null,
            "border": null,
            "bottom": null,
            "display": null,
            "flex": null,
            "flex_flow": null,
            "grid_area": null,
            "grid_auto_columns": null,
            "grid_auto_flow": null,
            "grid_auto_rows": null,
            "grid_column": null,
            "grid_gap": null,
            "grid_row": null,
            "grid_template_areas": null,
            "grid_template_columns": null,
            "grid_template_rows": null,
            "height": null,
            "justify_content": null,
            "justify_items": null,
            "left": null,
            "margin": null,
            "max_height": null,
            "max_width": null,
            "min_height": null,
            "min_width": null,
            "object_fit": null,
            "object_position": null,
            "order": null,
            "overflow": null,
            "overflow_x": null,
            "overflow_y": null,
            "padding": null,
            "right": null,
            "top": null,
            "visibility": null,
            "width": null
          }
        },
        "1301e1d15f57402dbda5f921ce317449": {
          "model_module": "@jupyter-widgets/controls",
          "model_name": "DescriptionStyleModel",
          "model_module_version": "1.5.0",
          "state": {
            "_model_module": "@jupyter-widgets/controls",
            "_model_module_version": "1.5.0",
            "_model_name": "DescriptionStyleModel",
            "_view_count": null,
            "_view_module": "@jupyter-widgets/base",
            "_view_module_version": "1.2.0",
            "_view_name": "StyleView",
            "description_width": ""
          }
        }
      }
    }
  },
  "nbformat": 4,
  "nbformat_minor": 0
}